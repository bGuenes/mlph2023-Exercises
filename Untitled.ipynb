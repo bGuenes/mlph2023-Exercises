{
 "cells": [
  {
   "cell_type": "code",
   "execution_count": null,
   "id": "be5144a5",
   "metadata": {},
   "outputs": [],
   "source": []
  },
  {
   "cell_type": "markdown",
   "id": "82992287",
   "metadata": {},
   "source": [
    "<div style=\"font-size: 24px; font-weight: bold;\">Sheet 8 - Anomaly Detection with Autoenconders</div>"
   ]
  },
  {
   "cell_type": "markdown",
   "id": "ddfbe65c",
   "metadata": {},
   "source": [
    "For task a) to d) we can use the code given in https://github.com/heidelberg-hepml/ml-tutorials/blob/main/tutorial-9-autoencoders.ipynb. We exclude code that prints some losses (e.g. current batch loss), because it is not requested and we do not need these further informations."
   ]
  },
  {
   "cell_type": "markdown",
   "id": "1f7288ae",
   "metadata": {},
   "source": [
    "<div style=\"font-size: 24px; font-weight: bold;\">Importing packages</div>"
   ]
  },
  {
   "cell_type": "code",
   "execution_count": 1,
   "id": "d769b3d0",
   "metadata": {},
   "outputs": [],
   "source": [
    "import os\n",
    "import numpy as np\n",
    "import torch\n",
    "\n",
    "from torch.utils.data import Dataset\n",
    "from torch.utils.data import DataLoader\n",
    "from torch import nn\n",
    "from torch.nn import functional as F\n",
    "from torch.nn import Sequential, Linear, ReLU\n",
    "from tqdm.auto import tqdm"
   ]
  },
  {
   "cell_type": "markdown",
   "id": "6ad36a0d",
   "metadata": {},
   "source": [
    "<div style=\"font-size: 24px; font-weight: bold;\">Plotting set-up</div>"
   ]
  },
  {
   "cell_type": "code",
   "execution_count": 2,
   "id": "83717937",
   "metadata": {},
   "outputs": [],
   "source": [
    "from matplotlib import pyplot as plt\n",
    "import matplotlib\n",
    "import warnings\n",
    "warnings.filterwarnings(\"ignore\")\n",
    "from matplotlib.lines import Line2D\n",
    "from matplotlib.font_manager import FontProperties\n",
    "import matplotlib.colors as mcolors\n",
    "import colorsys\n",
    "\n",
    "labelfont = FontProperties()\n",
    "labelfont.set_family('serif')\n",
    "labelfont.set_name('Times New Roman')\n",
    "labelfont.set_size(14)\n",
    "\n",
    "axislabelfont = FontProperties()\n",
    "axislabelfont.set_family('serif')\n",
    "axislabelfont.set_name('Times New Roman')\n",
    "axislabelfont.set_size(22)\n",
    "\n",
    "tickfont = FontProperties()\n",
    "tickfont.set_family('serif')\n",
    "tickfont.set_name('Times New Roman')\n",
    "tickfont.set_size(16)\n",
    "\n",
    "axisfontsize = 16\n",
    "labelfontsize = 16\n",
    "\n",
    "plt.rcParams[\"font.family\"] = \"Times New Roman\"\n",
    "plt.rcParams[\"mathtext.default\"] = \"rm\"\n",
    "plt.rcParams['text.usetex'] = True"
   ]
  },
  {
   "cell_type": "markdown",
   "id": "22894f8c",
   "metadata": {},
   "source": [
    "# (a) \n",
    "\n",
    "We start as usually by loading the data, preprocessing it and transforming it to images with 40x40 pixels. Then we create the needed datasets for the given tasks. Then we procede and define our autoencoder network, which consists of two MLPs:\n",
    "\n",
    "1. ) data_dim -> hiddenlayer_size -> hiddenlayer_size -> bottleneck_size\n",
    "2. ) bottleneck_size -> hiddenlayer_size -> hiddenlayer_size -> data_dim\n",
    "\n",
    "As activation function we use ReLU. data_dim = 40x40 = 1600 is predefined by our image size. As hiddenlayer_size we choose 400 and as bottleneck_size we choose 20, as they do it in the previously linked example."
   ]
  },
  {
   "cell_type": "code",
   "execution_count": 3,
   "id": "b3c766f8",
   "metadata": {},
   "outputs": [
    {
     "name": "stdout",
     "output_type": "stream",
     "text": [
      "train data shape: (30000, 200, 4)\n",
      "train labels shape: (30000,)\n",
      "test data shape: (30000, 200, 4)\n",
      "test labels shape: (30000,)\n",
      "val data shape: (30000, 200, 4)\n",
      "val labels shape: (30000,)\n"
     ]
    }
   ],
   "source": [
    "# load data\n",
    "X_train = np.load( \"toptagging-short/x_train_short.npy\")\n",
    "y_train = np.load( \"toptagging-short/y_train_short.npy\")\n",
    "X_test = np.load( \"toptagging-short/x_test_short.npy\")\n",
    "y_test = np.load( \"toptagging-short/y_test_short.npy\")\n",
    "X_val = np.load( \"toptagging-short/x_val_short.npy\")\n",
    "y_val = np.load( \"toptagging-short/y_val_short.npy\")\n",
    "\n",
    "print(f\"train data shape: {X_train.shape}\")\n",
    "print(f\"train labels shape: {y_train.shape}\")\n",
    "print(f\"test data shape: {X_test.shape}\")\n",
    "print(f\"test labels shape: {y_test.shape}\")\n",
    "print(f\"val data shape: {X_val.shape}\")\n",
    "print(f\"val labels shape: {y_val.shape}\")"
   ]
  },
  {
   "cell_type": "code",
   "execution_count": 4,
   "id": "83b337f1",
   "metadata": {},
   "outputs": [],
   "source": [
    "X_train_qcd = X_train[ y_train == 0.0 ]\n",
    "X_val_qcd = X_val[ y_val == 0.0 ]"
   ]
  },
  {
   "cell_type": "code",
   "execution_count": 5,
   "id": "31af8db3",
   "metadata": {},
   "outputs": [],
   "source": [
    "# Some initial settings\n",
    "__n_warning__ = 0.7\n",
    "n_shift_phi, n_shift_eta = 0, 0\n",
    "\n",
    "# Grid settings\n",
    "xpixels = np.arange(-2.6, 2.6, 0.029)\n",
    "ypixels = np.arange(-np.pi, np.pi, 0.035)\n",
    "\n",
    "# Calculate the pseudorapidity of pixel entries\n",
    "def eta (pT, pz):\n",
    "    small = 1e-10\n",
    "    small_pT = (np.abs(pT) < small)\n",
    "    small_pz = (np.abs(pz) < small)\n",
    "    not_small = ~(small_pT | small_pz)\n",
    "    theta = np.arctan(pT[not_small]/pz[not_small])\n",
    "    theta[theta < 0] += np.pi\n",
    "    etas = np.zeros_like(pT)\n",
    "    etas[small_pz] = 0\n",
    "    etas[small_pT] = 1e-10\n",
    "    etas[not_small] = np.log(np.tan(theta/2))\n",
    "    return etas\n",
    "\n",
    "# Calculate the azimuthal angle of pixel entries\n",
    "def phi (px, py):\n",
    "    \"\"\"\n",
    "    phis are returned in rad., np.arctan(0,0)=0 -> zero constituents set to -np.pi\n",
    "    \"\"\"\n",
    "    phis = np.arctan2(py,px)\n",
    "    phis[phis < 0] += 2*np.pi\n",
    "    phis[phis > 2*np.pi] -= 2*np.pi\n",
    "    phis = phis - np.pi \n",
    "    return phis\n",
    "\n",
    "# function to calculate masses\n",
    "def mass (E,px,py,pz):\n",
    "    mass = np.sqrt(np.maximum(0.,E**2-px**2-py**2-pz**2))\n",
    "    return mass\n",
    "\n",
    "# function to return the image momenta for centroid and principal axis\n",
    "def img_mom (x, y, weights, x_power, y_power):\n",
    "    return ((x**x_power)*(y**y_power)*weights).sum()\n",
    "\n",
    "# returns the jet image\n",
    "def orig_image (etas, phis, es):\n",
    "    \"\"\"\n",
    "    Gives the value on grid with minimal distance,\n",
    "    eg. for xpixel = (0,1,2,3,..) eta=1.3 -> xpixel=1, eta=1.6 ->xpixel=2\n",
    "    \"\"\"\n",
    "    z = np.zeros((etas.shape[0],len(xpixels),len(ypixels)))\n",
    "    in_grid = ~((etas < xpixels[0]) | (etas > xpixels[-1]) | (phis < ypixels[0]) | (phis > ypixels[-1]))\n",
    "    xcoords = np.argmin(np.abs(etas[:,None,:] - xpixels[None,:,None]),axis=1)\n",
    "    ycoords = np.argmin(np.abs(phis[:,None,:] - ypixels[None,:,None]),axis=1)\n",
    "    ncoords = np.repeat(np.arange(etas.shape[0])[:,None],etas.shape[1],axis=1)\n",
    "    z[ncoords[in_grid],ycoords[in_grid],xcoords[in_grid]] = es[in_grid]\n",
    "    return z\n",
    "\n",
    "# preprocess the jet\n",
    "def preprocessing( x ,y, weights, rotate=True, flip=True ):\n",
    "    \"\"\"\n",
    "    (x,y) are the coordinates and weights the corresponding values, shifts\n",
    "    centroid to origin, rotates image, so that principal axis is vertical,\n",
    "    flips image, so that most weights lay in (x<0, y>0)-plane.\n",
    "    Method for calculating principal axis (similar to tensor of inertia):\n",
    "    https://en.wikipedia.org/wiki/Image_moment\n",
    "    here: y=phi, phi has modulo 2*np.pi but it's not been taken care of hear,\n",
    "    so possible issues with calculating the centroid\n",
    "    -> pre-shifting of events outside of this function solves the problem\n",
    "    for iamge-data with Delta_phi < 2*np.pi\n",
    "    \"\"\"\n",
    "\n",
    "    # Shift\n",
    "    x_centroid = img_mom(x, y, weights, 1, 0) / weights.sum()\n",
    "    y_centroid = img_mom(x, y, weights, 0, 1)/ weights.sum()\n",
    "    x = x - x_centroid\n",
    "    y = y - y_centroid\n",
    "\n",
    "    # Check if shifting worked, there can be problems with modulo variables like phi (y)\n",
    "    # x and y are sorted after highest weight, 0-comp. gives hottest event\n",
    "    # for Jet-like Images Centroid should be close to hottest constituen (pT-sorted arrays)  \n",
    "    global n_shift_phi\n",
    "    global n_shift_eta\n",
    "    if np.abs(x[0]) > __n_warning__:\n",
    "        n_shift_eta += 1  \n",
    "    if np.abs(y[0]) > __n_warning__:\n",
    "        n_shift_phi += 1       \n",
    "\n",
    "    if rotate:\n",
    "        #Ccovariant matrix, eigenvectors corr. to principal axis\n",
    "        u11 = img_mom(x, y, weights, 1, 1) / weights.sum()\n",
    "        u20 = img_mom(x, y, weights, 2, 0) / weights.sum()\n",
    "        u02 = img_mom(x, y, weights, 0, 2) / weights.sum()\n",
    "        cov = np.array([[u20, u11], [u11, u02]])\n",
    "\n",
    "        # Eigenvalues and eigenvectors of covariant matrix\n",
    "        evals, evecs = np.linalg.eig(cov)\n",
    "\n",
    "        # Sorts the eigenvalues, v1, [::-1] turns array around, \n",
    "        sort_indices = np.argsort(evals)[::-1]\n",
    "        e_1 = evecs[:, sort_indices[0]]  # Eigenvector with largest eigenvalue\n",
    "        e_2 = evecs[:, sort_indices[1]]\n",
    "\n",
    "        # Theta to x_asix, arctan2 gives correct angle\n",
    "        theta = np.arctan2(e_1[0], e_1[1])\n",
    "  \n",
    "        # Rotation, so that princple axis is vertical\n",
    "        # anti-clockwise rotation matrix\n",
    "        rotation = np.matrix([[np.cos(theta), -np.sin(theta)], [np.sin(theta), np.cos(theta)]])\n",
    "        transformed_mat = rotation * np.stack([x,y])\n",
    "        x_rot, y_rot = transformed_mat.A\n",
    "    else: \n",
    "        x_rot, y_rot = x, y\n",
    "  \n",
    "    # Flipping\n",
    "    n_flips = 0\n",
    "    if flip:\n",
    "        if weights[x_rot<0.].sum() < weights[x_rot>0.].sum():\n",
    "            x_rot = -x_rot\n",
    "            n_flips  += 1\n",
    "        if weights[y_rot<0.].sum() > weights[y_rot>0.].sum():\n",
    "            y_rot = -y_rot\n",
    "            n_flips += 1\n",
    "            \n",
    "    return x_rot, y_rot"
   ]
  },
  {
   "cell_type": "code",
   "execution_count": 6,
   "id": "4c3a3676",
   "metadata": {},
   "outputs": [],
   "source": [
    "# function to convert the jet to an image\n",
    "def constit_to_img( jets, n_constit, norm, rotate, flip ):\n",
    "    \n",
    "    print( \"Crop constituents\" )\n",
    "    jets = jets[:,0:n_constit,:]\n",
    "    \n",
    "    print( \"Calculating pT\" )\n",
    "    E     = jets[:,:,0]\n",
    "    pxs   = jets[:,:,1]\n",
    "    pys   = jets[:,:,2]\n",
    "    pzs   = jets[:,:,3]\n",
    "    pT    = np.sqrt(pxs**2+pys**2)\n",
    "    \n",
    "    print( \"Calculating eta\" )\n",
    "    etas  = eta(pT,pzs)\n",
    "    \n",
    "    print( \"Calculating phi\" )\n",
    "    phis  = phi(pxs,pys)\n",
    "    \n",
    "    print( \"Calculating the mass\" )\n",
    "    E_tot = E.sum(axis=1)\n",
    "    px_tot = pxs.sum(axis=1)\n",
    "    py_tot = pys.sum(axis=1)\n",
    "    pz_tot = pzs.sum(axis=1)\n",
    "    j_mass = mass(E_tot, px_tot, py_tot, pz_tot)\n",
    "    \n",
    "    print( \"Pre-shifting the phis\" )\n",
    "    phis = (phis.T - phis[:,0]).T\n",
    "    phis[phis < -np.pi] += 2*np.pi\n",
    "    phis[phis > np.pi] -= 2*np.pi\n",
    "    \n",
    "    print( \"Using pT as weight\" )\n",
    "    weights = pT\n",
    "    \n",
    "    print( \"Preprocessing\" )\n",
    "    \n",
    "    for i in range( np.shape(etas)[0] ):\n",
    "        etas[i,:], phis[i,:] = preprocessing( etas[i,:], phis[i,:], weights[i,:], rotate, flip )\n",
    "    \n",
    "    print( \"Creating images\" )\n",
    "    z_ori = orig_image(etas, phis, weights)\n",
    "    \n",
    "    #return z_ori\n",
    "        \n",
    "    print( \"Cropping and normalising\" )\n",
    "    n_crop = 40\n",
    "    z_new = np.zeros( (z_ori.shape[0],n_crop, n_crop) )\n",
    "    for i in range(z_ori.shape[0]):\n",
    "        Npix = z_ori[i,:,:].shape\n",
    "        z_new[i,:,:] = z_ori[i, int(Npix[0]/2-n_crop/2) : int(Npix[0]/2+n_crop/2), int(Npix[1]/2-n_crop/2) : int(Npix[1]/2+n_crop/2) ]\n",
    "        if norm:\n",
    "            z_sum = z_new[i,:,:].sum()\n",
    "            if z_sum != 0.:\n",
    "                z_new[i,:,:] = z_new[i,:,:]/z_sum\n",
    "    \n",
    "    #print( \"Reshaping\" )\n",
    "    #z_out = z_new.reshape( (z_new.shape[0],-1) )\n",
    "    \n",
    "    return z_new#z_out"
   ]
  },
  {
   "cell_type": "code",
   "execution_count": 7,
   "id": "30ed4aad",
   "metadata": {},
   "outputs": [
    {
     "name": "stdout",
     "output_type": "stream",
     "text": [
      "Crop constituents\n",
      "Calculating pT\n",
      "Calculating eta\n",
      "Calculating phi\n",
      "Calculating the mass\n",
      "Pre-shifting the phis\n",
      "Using pT as weight\n",
      "Preprocessing\n",
      "Creating images\n",
      "Cropping and normalising\n",
      "Crop constituents\n",
      "Calculating pT\n",
      "Calculating eta\n",
      "Calculating phi\n",
      "Calculating the mass\n",
      "Pre-shifting the phis\n",
      "Using pT as weight\n",
      "Preprocessing\n",
      "Creating images\n",
      "Cropping and normalising\n",
      "Crop constituents\n",
      "Calculating pT\n",
      "Calculating eta\n",
      "Calculating phi\n",
      "Calculating the mass\n",
      "Pre-shifting the phis\n",
      "Using pT as weight\n",
      "Preprocessing\n",
      "Creating images\n",
      "Cropping and normalising\n",
      "Crop constituents\n",
      "Calculating pT\n",
      "Calculating eta\n",
      "Calculating phi\n",
      "Calculating the mass\n",
      "Pre-shifting the phis\n",
      "Using pT as weight\n",
      "Preprocessing\n",
      "Creating images\n",
      "Cropping and normalising\n",
      "Crop constituents\n",
      "Calculating pT\n",
      "Calculating eta\n",
      "Calculating phi\n",
      "Calculating the mass\n",
      "Pre-shifting the phis\n",
      "Using pT as weight\n",
      "Preprocessing\n",
      "Creating images\n",
      "Cropping and normalising\n"
     ]
    }
   ],
   "source": [
    "z_train = constit_to_img( X_train, 50, True, True, True )\n",
    "z_train = z_train.reshape( (z_train.shape[0],-1) )\n",
    "z_train_qcd = constit_to_img( X_train_qcd, 50, True, True, True )\n",
    "z_train_qcd = z_train_qcd.reshape( (z_train_qcd.shape[0],-1) )\n",
    "z_val = constit_to_img( X_val, 50, True, True, True )\n",
    "z_val = z_val.reshape( (z_val.shape[0],-1) )\n",
    "z_val_qcd = constit_to_img( X_val_qcd, 50, True, True, True )\n",
    "z_val_qcd = z_val_qcd.reshape( (z_val_qcd.shape[0],-1) )\n",
    "z_test = constit_to_img( X_test, 50, True, True, True )\n",
    "z_test = z_test.reshape( (z_test.shape[0],-1) )"
   ]
  },
  {
   "cell_type": "code",
   "execution_count": 8,
   "id": "f44446a2",
   "metadata": {},
   "outputs": [
    {
     "name": "stdout",
     "output_type": "stream",
     "text": [
      "Train data shape: (30000, 1600)\n",
      "Train data (qcd-only) shape: (14960, 1600)\n",
      "Val data shape: (30000, 1600)\n",
      "Val data (qcd-only) shape: (14460, 1600)\n",
      "Test data shape: (30000, 1600)\n"
     ]
    }
   ],
   "source": [
    "print( \"Train data shape: \" + str(z_train.shape) )\n",
    "print( \"Train data (qcd-only) shape: \" + str(z_train_qcd.shape) )\n",
    "print( \"Val data shape: \" + str(z_val.shape) )\n",
    "print( \"Val data (qcd-only) shape: \" + str(z_val_qcd.shape) )\n",
    "print( \"Test data shape: \" + str(z_test.shape) )"
   ]
  },
  {
   "cell_type": "code",
   "execution_count": 9,
   "id": "0f77bbaf",
   "metadata": {},
   "outputs": [],
   "source": [
    "z_train_p = torch.Tensor( z_train )\n",
    "z_train_qcd_p = torch.Tensor( z_train_qcd )\n",
    "z_val_p = torch.Tensor( z_val )\n",
    "z_val_qcd_p = torch.Tensor( z_val_qcd )\n",
    "z_test_p = torch.Tensor( z_test )\n",
    "y_train_p = torch.Tensor( y_train )\n",
    "y_val_p = torch.Tensor( y_val )\n",
    "y_test_p = torch.Tensor( y_test )"
   ]
  },
  {
   "cell_type": "code",
   "execution_count": 10,
   "id": "7b31914e",
   "metadata": {},
   "outputs": [],
   "source": [
    "class topcloud_bkg_dataset( Dataset ):\n",
    "    \n",
    "    def __init__( self, data ):\n",
    "        self.data = data\n",
    "        self.labels = torch.Tensor( [ 0.0 for i in range(len(data)) ] )\n",
    "\n",
    "    def __len__(self):\n",
    "        return len(self.labels)\n",
    "\n",
    "    def __getitem__(self, idx):\n",
    "        return self.data[idx], self.labels[idx]\n",
    "    \n",
    "class topcloud_sig_dataset( Dataset ):\n",
    "    \n",
    "    def __init__( self, data, labels ):\n",
    "        self.data = data\n",
    "        self.labels = labels\n",
    "\n",
    "    def __len__(self):\n",
    "        return len(self.labels)\n",
    "\n",
    "    def __getitem__(self, idx):\n",
    "        return self.data[idx], self.labels[idx]"
   ]
  },
  {
   "cell_type": "code",
   "execution_count": 11,
   "id": "b3838d26",
   "metadata": {},
   "outputs": [],
   "source": [
    "trn_dataset = topcloud_bkg_dataset( z_train_qcd_p )\n",
    "val_dataset = topcloud_bkg_dataset( z_val_qcd_p )\n",
    "tst_dataset = topcloud_sig_dataset( z_test_p, y_test_p.unsqueeze(-1) )"
   ]
  },
  {
   "cell_type": "code",
   "execution_count": 12,
   "id": "feea64af",
   "metadata": {},
   "outputs": [],
   "source": [
    "trn_dataloader = DataLoader( trn_dataset, batch_size=64, shuffle=True )\n",
    "val_dataloader = DataLoader( val_dataset, batch_size=64, shuffle=False )\n",
    "tst_dataloader = DataLoader( tst_dataset, batch_size=64, shuffle=False )"
   ]
  },
  {
   "cell_type": "code",
   "execution_count": 13,
   "id": "a7b96b36",
   "metadata": {},
   "outputs": [],
   "source": [
    "class JetAutoEncoder( torch.nn.Module ):\n",
    "    \n",
    "    def __init__( self, data_dim, hiddenlayer_size, bottleneck_size ):\n",
    "        super( JetAutoEncoder, self ).__init__()\n",
    "                \n",
    "        self.enc_layer1 = nn.Linear( data_dim, hiddenlayer_size )\n",
    "        self.enc_relu_1 = nn.ReLU()\n",
    "        self.enc_layer2 = nn.Linear( hiddenlayer_size, hiddenlayer_size )\n",
    "        self.enc_relu_2 = nn.ReLU()\n",
    "        self.enc_layer3 = nn.Linear( hiddenlayer_size, bottleneck_size )\n",
    "        \n",
    "        self.dec_layer1 = nn.Linear( bottleneck_size, hiddenlayer_size )\n",
    "        self.dec_relu_1 = nn.ReLU()\n",
    "        self.dec_layer2 = nn.Linear( hiddenlayer_size, hiddenlayer_size )\n",
    "        self.dec_relu_2 = nn.ReLU()\n",
    "        self.dec_layer3 = nn.Linear( hiddenlayer_size, data_dim )\n",
    "\n",
    "        \n",
    "    def forward( self, batch ):\n",
    "\n",
    "        x = self.encode( batch )\n",
    "        x = self.decode( x )\n",
    "\n",
    "        return x\n",
    "    \n",
    "    def encode( self, batch ):\n",
    "        \n",
    "        x = self.enc_layer1( batch )\n",
    "        x = self.enc_relu_1( x )\n",
    "        x = self.enc_layer2( x )\n",
    "        x = self.enc_relu_2( x )\n",
    "        x = self.enc_layer3( x )\n",
    "        \n",
    "        return x\n",
    "    \n",
    "    def decode( self, batch ):\n",
    "        \n",
    "        x = self.dec_layer1( batch )\n",
    "        x = self.dec_relu_1( x )\n",
    "        x = self.dec_layer2( x )\n",
    "        x = self.dec_relu_2( x )\n",
    "        x = self.dec_layer3( x )\n",
    "\n",
    "        return x"
   ]
  },
  {
   "cell_type": "code",
   "execution_count": 14,
   "id": "e7058276",
   "metadata": {},
   "outputs": [],
   "source": [
    "loss_fn = nn.MSELoss()"
   ]
  },
  {
   "cell_type": "code",
   "execution_count": 15,
   "id": "cb134bab",
   "metadata": {},
   "outputs": [],
   "source": [
    "def train_epoch( dataloader, model, loss_fn, optimizer ):\n",
    "    \n",
    "    size = len( dataloader.dataset )\n",
    "    \n",
    "    for batch, (X, y) in enumerate(dataloader):\n",
    "\n",
    "        # pass data through network\n",
    "        pred = model(X)\n",
    "        \n",
    "        # compute loss\n",
    "        loss = loss_fn( X, pred )\n",
    "\n",
    "        # reset gradients in optimizer\n",
    "        optimizer.zero_grad()\n",
    "        \n",
    "        # compute gradients\n",
    "        loss.backward()\n",
    "        \n",
    "        # update weights with optimizer\n",
    "        optimizer.step()\n",
    "        \n",
    "        # print the training loss every 100 updates\n",
    "        #if batch % 100 == 0:\n",
    "        #    loss, current = loss.item(), batch * len(X)\n",
    "        #    print( f\"current batch loss: {loss:>7f}  [{current:>5d}/{size:>5d}]\" )"
   ]
  },
  {
   "cell_type": "code",
   "execution_count": 16,
   "id": "4b902ec2",
   "metadata": {},
   "outputs": [],
   "source": [
    "def val_pass( dataloader, model, loss_fn ):\n",
    "    \n",
    "    size = len( dataloader.dataset )\n",
    "    num_batches = len( dataloader )\n",
    "    vl = 0.0\n",
    "\n",
    "    # we don't need gradients here since we only use the forward pass\n",
    "    with torch.no_grad():\n",
    "        for X, y in dataloader:\n",
    "            pred = model( X )\n",
    "            vl += loss_fn( X, pred ).item()\n",
    "\n",
    "    vl /= num_batches\n",
    "    #print( f\"avg val loss per batch: {vl:>8f}\" )\n",
    "    \n",
    "    return vl\n",
    "\n",
    "def trn_pass( dataloader, model, loss_fn ):\n",
    "    \n",
    "    size = len( dataloader.dataset )\n",
    "    num_batches = len( dataloader )\n",
    "    tl = 0.0\n",
    "\n",
    "    # we don't need gradients here since we only use the forward pass\n",
    "    with torch.no_grad():\n",
    "        for X, y in dataloader:\n",
    "            pred = model( X )\n",
    "            tl += loss_fn( X, pred ).item()\n",
    "\n",
    "    tl /= num_batches\n",
    "    #print( f\"avg trn loss per batch: {tl:>8f}\" )\n",
    "    \n",
    "    return tl"
   ]
  },
  {
   "cell_type": "markdown",
   "id": "d6ca2b5e",
   "metadata": {},
   "source": [
    "# (b)\n",
    "\n",
    "We initialize our network with the parameters given in (a) and train it for 100 epochs on the qcd train dataset. We also use only the qcd jets of the validation set for validation. After training we plot the train and validation loss against the epochs. We use MSE loss and Adam optimizer with a learning rate of 0.001."
   ]
  },
  {
   "cell_type": "code",
   "execution_count": 17,
   "id": "8dbf7686",
   "metadata": {},
   "outputs": [
    {
     "name": "stdout",
     "output_type": "stream",
     "text": [
      "-----------------------------------------------\n",
      "model architecture \n",
      "-----------------------------------------------\n",
      "JetAutoEncoder(\n",
      "  (enc_layer1): Linear(in_features=1600, out_features=400, bias=True)\n",
      "  (enc_relu_1): ReLU()\n",
      "  (enc_layer2): Linear(in_features=400, out_features=400, bias=True)\n",
      "  (enc_relu_2): ReLU()\n",
      "  (enc_layer3): Linear(in_features=400, out_features=20, bias=True)\n",
      "  (dec_layer1): Linear(in_features=20, out_features=400, bias=True)\n",
      "  (dec_relu_1): ReLU()\n",
      "  (dec_layer2): Linear(in_features=400, out_features=400, bias=True)\n",
      "  (dec_relu_2): ReLU()\n",
      "  (dec_layer3): Linear(in_features=400, out_features=1600, bias=True)\n",
      ")\n"
     ]
    },
    {
     "data": {
      "application/vnd.jupyter.widget-view+json": {
       "model_id": "e4a4bb5c492145d3a40b96a10e9a04fa",
       "version_major": 2,
       "version_minor": 0
      },
      "text/plain": [
       "  0%|          | 0/100 [00:00<?, ?it/s]"
      ]
     },
     "metadata": {},
     "output_type": "display_data"
    }
   ],
   "source": [
    "# a useful function to present things clearer\n",
    "def separator():\n",
    "    print( \"-----------------------------------------------\" )\n",
    "\n",
    "epochs = 100\n",
    "\n",
    "# initialise the model and the optimizer\n",
    "model = JetAutoEncoder( 1600, 400, 20 )\n",
    "learning_rate = 0.001\n",
    "optimizer = torch.optim.Adam( model.parameters(), lr=learning_rate )\n",
    "separator()\n",
    "print( \"model architecture \")\n",
    "separator()\n",
    "print( model )\n",
    "\n",
    "# track train and val losses\n",
    "trn_losses = []\n",
    "val_losses = []\n",
    "\n",
    "for t in tqdm(range(epochs)):\n",
    "    train_epoch( trn_dataloader, model, loss_fn, optimizer )\n",
    "    trn_loss = trn_pass( trn_dataloader, model, loss_fn )\n",
    "    trn_losses.append( trn_loss )\n",
    "    val_loss = val_pass( val_dataloader, model, loss_fn )\n",
    "    val_losses.append( val_loss )"
   ]
  },
  {
   "cell_type": "code",
   "execution_count": 18,
   "id": "302fd8df",
   "metadata": {},
   "outputs": [
    {
     "data": {
      "image/png": "[encoded data removed]",
      "text/plain": [
       "<Figure size 700x500 with 1 Axes>"
      ]
     },
     "metadata": {},
     "output_type": "display_data"
    }
   ],
   "source": [
    "fig, axs = plt.subplots( 1, 1, figsize=(7,5) )\n",
    "\n",
    "c1 = 'tab:red'\n",
    "c2 = 'tab:green'\n",
    "\n",
    "axs.plot( trn_losses, label=\"train loss\", color=c1 )\n",
    "axs.plot( val_losses, label=\"val   loss\", color=c2 )\n",
    "\n",
    "axs.set_yscale('log')\n",
    "\n",
    "axs.set_xlabel( \"epoch\", fontproperties=axislabelfont )\n",
    "axs.set_ylabel( \"MSE\", fontproperties=axislabelfont )\n",
    "\n",
    "xticks = [ int(x) for x in axs.get_xticks() ]\n",
    "axs.set_xticklabels( xticks, fontproperties=tickfont )\n",
    "\n",
    "yticks = axs.get_yticks()\n",
    "axs.set_yticklabels( yticks, fontproperties=tickfont )\n",
    "\n",
    "axs.legend( loc='best', prop=tickfont )\n",
    "\n",
    "fig.tight_layout()"
   ]
  },
  {
   "cell_type": "markdown",
   "id": "d847b3b9",
   "metadata": {},
   "source": [
    "We observe that both our train and validation loss decrease without deviating much from eachother and also without any stagnation. Thus we can assume that our network indeed learn something."
   ]
  },
  {
   "cell_type": "markdown",
   "id": "0fe6a4e0",
   "metadata": {},
   "source": [
    "# (c)\n",
    "\n",
    "Now we look at the first 4 qcd and top jets of our test dataset. For all 8 images we plot the original image as well as the predicted image of our model."
   ]
  },
  {
   "cell_type": "code",
   "execution_count": 19,
   "id": "06c6791e",
   "metadata": {},
   "outputs": [],
   "source": [
    "n_jets = 4\n",
    "in_qcd_jets = z_test_p[ y_test==0.0 ][ 0:4 ] \n",
    "in_top_jets = z_test_p[ y_test==1.0 ][ 0:4 ]\n",
    "out_qcd_jets = model( in_qcd_jets ).detach().numpy()\n",
    "out_top_jets = model( in_top_jets ).detach().numpy()\n",
    "in_qcd_jets = in_qcd_jets.detach().numpy()\n",
    "in_top_jets = in_top_jets.detach().numpy()"
   ]
  },
  {
   "cell_type": "code",
   "execution_count": 20,
   "id": "abcd8915",
   "metadata": {},
   "outputs": [
    {
     "data": {
      "image/png": "[encoded data removed]",
      "text/plain": [
       "<Figure size 2100x800 with 8 Axes>"
      ]
     },
     "metadata": {},
     "output_type": "display_data"
    }
   ],
   "source": [
    "fig, axs = plt.subplots(2, 4, figsize=(21,8))\n",
    "\n",
    "for i in range(4):\n",
    "    axs[0][i].imshow( in_qcd_jets[i].reshape(40,40), cmap='gist_heat_r',  vmin=0.0, vmax=0.4 )\n",
    "    axs[1][i].imshow( out_qcd_jets[i].reshape(40,40), cmap='gist_heat_r',  vmin=0.0, vmax=0.4 )\n",
    "    axs[0][i].set_xlabel( '$\\eta$', fontproperties=axislabelfont )\n",
    "    axs[0][i].set_ylabel( '$\\phi$', fontproperties=axislabelfont )\n",
    "    axs[1][i].set_xlabel( '$\\eta$', fontproperties=axislabelfont )\n",
    "    axs[1][i].set_ylabel( '$\\phi$', fontproperties=axislabelfont )\n",
    "    axs[0][i].text( 38, 4, \"input QCD\", fontproperties=axislabelfont, ha='right' )\n",
    "    axs[0][i].tick_params( labelsize=axisfontsize )\n",
    "    axs[1][i].text( 38, 4, \"reconstructed QCD\", fontproperties=axislabelfont, ha='right' )\n",
    "    axs[1][i].tick_params( labelsize=axisfontsize )\n",
    "\n",
    "fig.tight_layout()\n",
    "fig.show()"
   ]
  },
  {
   "cell_type": "code",
   "execution_count": 21,
   "id": "6fa6140c",
   "metadata": {},
   "outputs": [
    {
     "data": {
      "image/png": "[encoded data removed]",
      "text/plain": [
       "<Figure size 2100x800 with 8 Axes>"
      ]
     },
     "metadata": {},
     "output_type": "display_data"
    }
   ],
   "source": [
    "fig, axs = plt.subplots(2, 4, figsize=(21,8))\n",
    "\n",
    "for i in range(4):\n",
    "    axs[0][i].imshow( in_top_jets[i].reshape(40,40), cmap='gist_heat_r', vmin=0.0, vmax=0.4 )\n",
    "    axs[1][i].imshow( out_top_jets[i].reshape(40,40), cmap='gist_heat_r',  vmin=0.0, vmax=0.4 )\n",
    "    axs[0][i].set_xlabel( '$\\eta$', fontproperties=axislabelfont )\n",
    "    axs[0][i].set_ylabel( '$\\phi$', fontproperties=axislabelfont )\n",
    "    axs[1][i].set_xlabel( '$\\eta$', fontproperties=axislabelfont )\n",
    "    axs[1][i].set_ylabel( '$\\phi$', fontproperties=axislabelfont )\n",
    "    axs[0][i].text( 38, 4, \"input top\", fontproperties=axislabelfont, ha='right' )\n",
    "    axs[0][i].tick_params( labelsize=axisfontsize )\n",
    "    axs[1][i].text( 38, 4, \"reconstructed top\", fontproperties=axislabelfont, ha='right' )\n",
    "    axs[1][i].tick_params( labelsize=axisfontsize )\n",
    "\n",
    "\n",
    "fig.tight_layout()\n",
    "fig.show()"
   ]
  },
  {
   "cell_type": "markdown",
   "id": "d8f3fe2f",
   "metadata": {},
   "source": [
    "We observe, that for both QCD and Top jets our network is able to predict constituents with a high pT value (at least high compared to all other constituents) accuratly. However, for QCD jets it predicts the other constituents better than for Top jets. This can be seen when we look at the first three QCD jets, where the other constituents are captured still reasonably well, and then compare it with the second and third top jet, where we clearly observe a worse prediction (we compare these jets since they have a constituent with high pT). That QCD jets are better reconstructed is expected because we train the autoencoder only on QCD jets and not om Top jets."
   ]
  },
  {
   "cell_type": "markdown",
   "id": "e26d7373",
   "metadata": {},
   "source": [
    "# (d)"
   ]
  },
  {
   "cell_type": "code",
   "execution_count": 22,
   "id": "887bb742",
   "metadata": {},
   "outputs": [],
   "source": [
    "test_pred = model( z_test_p ).detach()\n",
    "\n",
    "test_loss = nn.MSELoss( reduce=False )\n",
    "test_mse = test_loss( test_pred, z_test_p )"
   ]
  },
  {
   "cell_type": "code",
   "execution_count": 23,
   "id": "10826a2a",
   "metadata": {},
   "outputs": [
    {
     "data": {
      "text/plain": [
       "torch.Size([30000, 1600])"
      ]
     },
     "execution_count": 23,
     "metadata": {},
     "output_type": "execute_result"
    }
   ],
   "source": [
    "test_mse.shape"
   ]
  },
  {
   "cell_type": "code",
   "execution_count": 24,
   "id": "ae69f58d",
   "metadata": {},
   "outputs": [],
   "source": [
    "test_mse = torch.mean( test_mse, dim=-1)"
   ]
  },
  {
   "cell_type": "code",
   "execution_count": 25,
   "id": "d1b10dae",
   "metadata": {},
   "outputs": [],
   "source": [
    "n_jets = 4\n",
    "in_qcd_jets = z_test_p[ y_test==0.0 ][ 0:4 ] \n",
    "in_top_jets = z_test_p[ y_test==1.0 ][ 0:4 ]\n",
    "out_qcd_jets = model( in_qcd_jets )\n",
    "out_top_jets = model( in_top_jets )\n",
    "mse_qcd_jets = test_loss( in_qcd_jets, out_qcd_jets ).detach().numpy()\n",
    "mse_top_jets = test_loss( in_top_jets, out_top_jets ).detach().numpy()\n",
    "in_qcd_jets = in_qcd_jets.detach().numpy()\n",
    "in_top_jets = in_top_jets.detach().numpy()"
   ]
  },
  {
   "cell_type": "code",
   "execution_count": 26,
   "id": "bdb87524",
   "metadata": {},
   "outputs": [
    {
     "data": {
      "image/png": "[encoded data removed]",
      "text/plain": [
       "<Figure size 2100x800 with 8 Axes>"
      ]
     },
     "metadata": {},
     "output_type": "display_data"
    }
   ],
   "source": [
    "fig, axs = plt.subplots(2, 4, figsize=(21,8))\n",
    "\n",
    "for i in range(4):\n",
    "    axs[0][i].imshow( mse_qcd_jets[i].reshape(40,40), cmap='gist_heat_r',  vmin=0.0, vmax=0.01 )\n",
    "    axs[1][i].imshow( mse_top_jets[i].reshape(40,40), cmap='gist_heat_r',  vmin=0.0, vmax=0.01 )\n",
    "    axs[0][i].set_xlabel( '$\\eta$', fontproperties=axislabelfont )\n",
    "    axs[0][i].set_ylabel( '$\\phi$', fontproperties=axislabelfont )\n",
    "    axs[1][i].set_xlabel( '$\\eta$', fontproperties=axislabelfont )\n",
    "    axs[1][i].set_ylabel( '$\\phi$', fontproperties=axislabelfont )\n",
    "    axs[0][i].text( 38, 4, \"MSE QCD\", fontproperties=axislabelfont, ha='right' )\n",
    "    axs[0][i].tick_params( labelsize=axisfontsize )\n",
    "    axs[1][i].text( 38, 4, \"MSE top\", fontproperties=axislabelfont, ha='right' )\n",
    "    axs[1][i].tick_params( labelsize=axisfontsize )\n",
    "\n",
    "fig.tight_layout()\n",
    "fig.show()"
   ]
  },
  {
   "cell_type": "code",
   "execution_count": 27,
   "id": "ff6cfa84",
   "metadata": {},
   "outputs": [],
   "source": [
    "from sklearn.metrics import roc_curve, roc_auc_score\n",
    "\n",
    "def closest_point(array, tpr_p=0.3):\n",
    "    dist = ((array-tpr_p)**2)\n",
    "    return np.argmin(dist)"
   ]
  },
  {
   "cell_type": "code",
   "execution_count": 28,
   "id": "19b8546a",
   "metadata": {},
   "outputs": [
    {
     "data": {
      "image/png": "[encoded data removed]",
      "text/plain": [
       "<Figure size 1400x500 with 2 Axes>"
      ]
     },
     "metadata": {},
     "output_type": "display_data"
    }
   ],
   "source": [
    "fig, ax = plt.subplots(1, 2, figsize=(14,5))\n",
    "\n",
    "fpr, tpr, th = roc_curve(y_test, test_mse)\n",
    "auc_score = roc_auc_score(y_test, test_mse)\n",
    "rnd_class = np.linspace(0, 1, 100)\n",
    "\n",
    "ax[0].plot(fpr, tpr, label='AUC = {:.2f}'.format(auc_score) )\n",
    "ax[0].plot(rnd_class, rnd_class, '--', label='Rnd classifier')\n",
    "ax[1].plot(tpr, 1/fpr, label='AUC = {:.2f}\\n $1/\\epsilon_{{bkg}}$(0.3) = {:.0f}'.format(auc_score, 1/fpr[closest_point(tpr, tpr_p=0.3)]))\n",
    "ax[1].plot(rnd_class, 1/rnd_class, '--', label='Rnd classifier')\n",
    "ax[1].set_yscale('log')\n",
    "\n",
    "ax[0].set_xlabel('$\\epsilon_{bkg}$ - FPR', fontproperties=axislabelfont)\n",
    "ax[0].set_ylabel('$\\epsilon_{s}$ - TPR', fontproperties=axislabelfont)\n",
    "\n",
    "ax[1].set_xlabel('$\\epsilon_{s}$ - TPR', fontproperties=axislabelfont)\n",
    "ax[1].set_ylabel('1/$\\epsilon_{bkg}$ - Inverse FPR', fontproperties=axislabelfont)\n",
    "for i in range(len(ax)):\n",
    "    ax[i].legend(prop=axislabelfont)\n",
    "    ax[i].tick_params(labelsize=axisfontsize)\n",
    "    ax[i].grid('on')"
   ]
  },
  {
   "cell_type": "markdown",
   "id": "068d423e",
   "metadata": {},
   "source": [
    "Looking at the pixel-wise MSE shows as well that QCD jets are better reconstructed, because we have fewer pixels with large deviations. Plotting the ROC curve we get AUC = 0.87, which means, that our autoencoder is able to distinguish between QCD and Top jets reasonably well although not perfectly (then AUC would be 1)."
   ]
  },
  {
   "cell_type": "markdown",
   "id": "a752dd24",
   "metadata": {},
   "source": [
    "# (e)\n",
    "\n",
    "## (a)"
   ]
  },
  {
   "cell_type": "code",
   "execution_count": 29,
   "id": "34dc0b19",
   "metadata": {},
   "outputs": [
    {
     "name": "stdout",
     "output_type": "stream",
     "text": [
      "Crop constituents\n",
      "Calculating pT\n",
      "Calculating eta\n",
      "Calculating phi\n",
      "Calculating the mass\n",
      "Pre-shifting the phis\n",
      "Using pT as weight\n",
      "Preprocessing\n",
      "Creating images\n",
      "Cropping and normalising\n",
      "Crop constituents\n",
      "Calculating pT\n",
      "Calculating eta\n",
      "Calculating phi\n",
      "Calculating the mass\n",
      "Pre-shifting the phis\n",
      "Using pT as weight\n",
      "Preprocessing\n",
      "Creating images\n",
      "Cropping and normalising\n",
      "Crop constituents\n",
      "Calculating pT\n",
      "Calculating eta\n",
      "Calculating phi\n",
      "Calculating the mass\n",
      "Pre-shifting the phis\n",
      "Using pT as weight\n",
      "Preprocessing\n",
      "Creating images\n",
      "Cropping and normalising\n",
      "Crop constituents\n",
      "Calculating pT\n",
      "Calculating eta\n",
      "Calculating phi\n",
      "Calculating the mass\n",
      "Pre-shifting the phis\n",
      "Using pT as weight\n",
      "Preprocessing\n",
      "Creating images\n",
      "Cropping and normalising\n",
      "Crop constituents\n",
      "Calculating pT\n",
      "Calculating eta\n",
      "Calculating phi\n",
      "Calculating the mass\n",
      "Pre-shifting the phis\n",
      "Using pT as weight\n",
      "Preprocessing\n",
      "Creating images\n",
      "Cropping and normalising\n"
     ]
    }
   ],
   "source": [
    "z_train = constit_to_img( X_train, 50, True, True, True )\n",
    "z_train_qcd = constit_to_img( X_train_qcd, 50, True, True, True )\n",
    "z_val = constit_to_img( X_val, 50, True, True, True )\n",
    "z_val_qcd = constit_to_img( X_val_qcd, 50, True, True, True )\n",
    "z_test = constit_to_img( X_test, 50, True, True, True )"
   ]
  },
  {
   "cell_type": "code",
   "execution_count": 30,
   "id": "9e675646",
   "metadata": {},
   "outputs": [
    {
     "name": "stdout",
     "output_type": "stream",
     "text": [
      "Train data shape: (30000, 40, 40)\n",
      "Train data (qcd-only) shape: (14960, 40, 40)\n",
      "Val data shape: (30000, 40, 40)\n",
      "Val data (qcd-only) shape: (14460, 40, 40)\n",
      "Test data shape: (30000, 40, 40)\n"
     ]
    }
   ],
   "source": [
    "print( \"Train data shape: \" + str(z_train.shape) )\n",
    "print( \"Train data (qcd-only) shape: \" + str(z_train_qcd.shape) )\n",
    "print( \"Val data shape: \" + str(z_val.shape) )\n",
    "print( \"Val data (qcd-only) shape: \" + str(z_val_qcd.shape) )\n",
    "print( \"Test data shape: \" + str(z_test.shape) )"
   ]
  },
  {
   "cell_type": "code",
   "execution_count": 31,
   "id": "207f9364",
   "metadata": {},
   "outputs": [],
   "source": [
    "z_train_p = torch.Tensor( z_train.reshape(-1, 1, 40,40) )\n",
    "z_train_qcd_p = torch.Tensor( z_train_qcd.reshape(-1, 1, 40,40) )\n",
    "z_val_p = torch.Tensor( z_val.reshape(-1, 1, 40,40) )\n",
    "z_val_qcd_p = torch.Tensor( z_val_qcd.reshape(-1, 1, 40,40) )\n",
    "z_test_p = torch.Tensor( z_test.reshape(-1, 1, 40,40) )\n",
    "y_train_p = torch.Tensor( y_train ).unsqueeze(-1)\n",
    "y_val_p = torch.Tensor( y_val ).unsqueeze(-1)\n",
    "y_test_p = torch.Tensor( y_test ).unsqueeze(-1)"
   ]
  },
  {
   "cell_type": "code",
   "execution_count": 32,
   "id": "121a6b8b",
   "metadata": {},
   "outputs": [],
   "source": [
    "trn_dataset = topcloud_bkg_dataset( z_train_qcd_p )\n",
    "val_dataset = topcloud_bkg_dataset( z_val_qcd_p )\n",
    "tst_dataset = topcloud_sig_dataset( z_test_p, y_test_p.unsqueeze(-1) )"
   ]
  },
  {
   "cell_type": "code",
   "execution_count": 33,
   "id": "4318fd4b",
   "metadata": {},
   "outputs": [],
   "source": [
    "trn_dataloader = DataLoader( trn_dataset, batch_size=64, shuffle=True )\n",
    "val_dataloader = DataLoader( val_dataset, batch_size=64, shuffle=False )\n",
    "tst_dataloader = DataLoader( tst_dataset, batch_size=64, shuffle=False )"
   ]
  },
  {
   "cell_type": "code",
   "execution_count": 34,
   "id": "1238872d",
   "metadata": {},
   "outputs": [],
   "source": [
    "class JetCNN( torch.nn.Module ):\n",
    "    \n",
    "    def __init__( self, in_ch=1, ch_1=10, ch_2=5, lin1=2000, lin2=100, bottleneck_size=20, ker_s=5 ):\n",
    "        super( JetCNN, self ).__init__()\n",
    "                \n",
    "        self.enc_conv1 = nn.Conv2d( in_ch, ch_1, kernel_size=ker_s, bias=True, stride=1, padding=2 )\n",
    "        self.enc_prelu1 = nn.PReLU()\n",
    "        self.enc_max1 = nn.MaxPool2d(kernel_size=2)\n",
    "        self.enc_conv2 = nn.Conv2d( ch_1, ch_2, kernel_size=ker_s, bias=True, stride=1, padding=2 )\n",
    "        self.enc_prelu2 = nn.PReLU()\n",
    "        # view -> image to flatten\n",
    "        self.enc_layer1 = nn.Linear( lin1, lin2 )\n",
    "        self.enc_prelu3 = nn.PReLU()\n",
    "        self.enc_layer2 = nn.Linear( lin2, bottleneck_size )\n",
    "        \n",
    "        self.dec_layer1 = nn.Linear( bottleneck_size, lin2 )\n",
    "        self.dec_prelu1 = nn.PReLU()\n",
    "        self.dec_layer2 = nn.Linear( lin2, lin1 )\n",
    "        self.dec_prelu2 = nn.PReLU()\n",
    "        # view -> flatten to image\n",
    "        self.dec_conv1 = nn.Conv2d( ch_2, ch_1, kernel_size=ker_s, bias=True, stride=1, padding=2 )\n",
    "        self.dec_prelu3 = nn.PReLU()\n",
    "        self.dec_ups1 = nn.UpsamplingNearest2d( scale_factor=2 )\n",
    "        self.dec_conv2 = nn.Conv2d( ch_1, in_ch, kernel_size=ker_s, bias=True, stride=1, padding=2 )\n",
    "\n",
    "        \n",
    "    def forward( self, batch ):\n",
    "\n",
    "        x = self.encode( batch )\n",
    "        x = self.decode( x )\n",
    "\n",
    "        return x\n",
    "    \n",
    "    def encode( self, batch ):\n",
    "        \n",
    "        x = self.enc_conv1( batch )\n",
    "        x = self.enc_prelu1( x )\n",
    "        x = self.enc_max1( x )\n",
    "        x = self.enc_conv2( x )\n",
    "        x = self.enc_prelu2( x )\n",
    "        x = x.view(-1,2000) # batch size, 5 channels with 20x20 pixels = 2000\n",
    "        x = self.enc_layer1( x )\n",
    "        x = self.enc_prelu3( x )\n",
    "        x = self.enc_layer2( x )\n",
    "                \n",
    "        return x\n",
    "    \n",
    "    def decode( self, batch ):\n",
    "        \n",
    "        x = self.dec_layer1( batch )\n",
    "        x = self.dec_prelu1( x )\n",
    "        x = self.dec_layer2( x )\n",
    "        x = self.dec_prelu2( x )\n",
    "        x = x.view(-1,5,20,20) # batch size, channels = 5, image size = 20x20\n",
    "        x = self.dec_conv1( x )\n",
    "        x = self.dec_prelu3( x )\n",
    "        x = self.dec_ups1( x )\n",
    "        x = self.dec_conv2( x )\n",
    "        \n",
    "        return x"
   ]
  },
  {
   "cell_type": "markdown",
   "id": "03ff8be8",
   "metadata": {},
   "source": [
    "Our network looks as follows:\n",
    "\n",
    "1. ) 1@40x40 -> 10@40x40 -> 10@20x20 -> 5@20x20 -> 2000 -> 100 -> 20\n",
    "2. ) 20 -> 100 -> 2000 -> 5@20x20 -> 10@20x20 -> 10@40x40 -> 1@40x40\n",
    "\n",
    "We use PReLU as activation function and a kernel size of 5 for the convolutional layers."
   ]
  },
  {
   "cell_type": "markdown",
   "id": "0df9d386",
   "metadata": {},
   "source": [
    "## (b)"
   ]
  },
  {
   "cell_type": "code",
   "execution_count": 35,
   "id": "166e4879",
   "metadata": {},
   "outputs": [
    {
     "name": "stdout",
     "output_type": "stream",
     "text": [
      "-----------------------------------------------\n",
      "model architecture \n",
      "-----------------------------------------------\n",
      "JetCNN(\n",
      "  (enc_conv1): Conv2d(1, 10, kernel_size=(5, 5), stride=(1, 1), padding=(2, 2))\n",
      "  (enc_prelu1): PReLU(num_parameters=1)\n",
      "  (enc_max1): MaxPool2d(kernel_size=2, stride=2, padding=0, dilation=1, ceil_mode=False)\n",
      "  (enc_conv2): Conv2d(10, 5, kernel_size=(5, 5), stride=(1, 1), padding=(2, 2))\n",
      "  (enc_prelu2): PReLU(num_parameters=1)\n",
      "  (enc_layer1): Linear(in_features=2000, out_features=100, bias=True)\n",
      "  (enc_prelu3): PReLU(num_parameters=1)\n",
      "  (enc_layer2): Linear(in_features=100, out_features=20, bias=True)\n",
      "  (dec_layer1): Linear(in_features=20, out_features=100, bias=True)\n",
      "  (dec_prelu1): PReLU(num_parameters=1)\n",
      "  (dec_layer2): Linear(in_features=100, out_features=2000, bias=True)\n",
      "  (dec_prelu2): PReLU(num_parameters=1)\n",
      "  (dec_conv1): Conv2d(5, 10, kernel_size=(5, 5), stride=(1, 1), padding=(2, 2))\n",
      "  (dec_prelu3): PReLU(num_parameters=1)\n",
      "  (dec_ups1): UpsamplingNearest2d(scale_factor=2.0, mode='nearest')\n",
      "  (dec_conv2): Conv2d(10, 1, kernel_size=(5, 5), stride=(1, 1), padding=(2, 2))\n",
      ")\n"
     ]
    },
    {
     "data": {
      "application/vnd.jupyter.widget-view+json": {
       "model_id": "27df263ed3844749990112e90c552e60",
       "version_major": 2,
       "version_minor": 0
      },
      "text/plain": [
       "  0%|          | 0/10 [00:00<?, ?it/s]"
      ]
     },
     "metadata": {},
     "output_type": "display_data"
    }
   ],
   "source": [
    "loss_fn = nn.MSELoss()\n",
    "epochs = 10\n",
    "\n",
    "# initialise the model and the optimizer\n",
    "model = JetCNN()\n",
    "learning_rate = 0.001\n",
    "optimizer = torch.optim.Adam( model.parameters(), lr=learning_rate )\n",
    "separator()\n",
    "print( \"model architecture \")\n",
    "separator()\n",
    "print( model )\n",
    "\n",
    "# track train and val losses\n",
    "trn_losses = []\n",
    "val_losses = []\n",
    "\n",
    "for t in tqdm(range(epochs)):\n",
    "    train_epoch( trn_dataloader, model, loss_fn, optimizer )\n",
    "    trn_loss = trn_pass( trn_dataloader, model, loss_fn )\n",
    "    trn_losses.append( trn_loss )\n",
    "    val_loss = val_pass( val_dataloader, model, loss_fn )\n",
    "    val_losses.append( val_loss )"
   ]
  },
  {
   "cell_type": "code",
   "execution_count": 36,
   "id": "fa46d826",
   "metadata": {},
   "outputs": [
    {
     "data": {
      "image/png": "[encoded data removed]",
      "text/plain": [
       "<Figure size 700x500 with 1 Axes>"
      ]
     },
     "metadata": {},
     "output_type": "display_data"
    }
   ],
   "source": [
    "fig, axs = plt.subplots( 1, 1, figsize=(7,5) )\n",
    "\n",
    "c1 = 'tab:red'\n",
    "c2 = 'tab:green'\n",
    "\n",
    "axs.plot( trn_losses, label=\"train loss\", color=c1 )\n",
    "axs.plot( val_losses, label=\"val   loss\", color=c2 )\n",
    "\n",
    "axs.set_yscale('log')\n",
    "\n",
    "axs.set_xlabel( \"epoch\", fontproperties=axislabelfont )\n",
    "axs.set_ylabel( \"MSE\", fontproperties=axislabelfont )\n",
    "\n",
    "xticks = [ int(x) for x in axs.get_xticks() ]\n",
    "axs.set_xticklabels( xticks, fontproperties=tickfont )\n",
    "\n",
    "yticks = axs.get_yticks()\n",
    "axs.set_yticklabels( yticks, fontproperties=tickfont )\n",
    "\n",
    "axs.legend( loc='best', prop=tickfont )\n",
    "\n",
    "fig.tight_layout()"
   ]
  },
  {
   "cell_type": "markdown",
   "id": "4cb436bc",
   "metadata": {},
   "source": [
    "We see ..."
   ]
  },
  {
   "cell_type": "markdown",
   "id": "ebb10751",
   "metadata": {},
   "source": [
    "## (c)"
   ]
  },
  {
   "cell_type": "code",
   "execution_count": 37,
   "id": "a2b72941",
   "metadata": {},
   "outputs": [],
   "source": [
    "n_jets = 4\n",
    "in_qcd_jets = z_test_p[ y_test==0.0 ][ 0:4 ] \n",
    "in_top_jets = z_test_p[ y_test==1.0 ][ 0:4 ]\n",
    "out_qcd_jets = model( in_qcd_jets ).detach().view(-1,40,40).numpy()\n",
    "out_top_jets = model( in_top_jets ).detach().view(-1,40,40).numpy()\n",
    "in_qcd_jets = in_qcd_jets.detach().view(-1,40,40).numpy()\n",
    "in_top_jets = in_top_jets.detach().view(-1,40,40).numpy()"
   ]
  },
  {
   "cell_type": "code",
   "execution_count": 38,
   "id": "9bbcf021",
   "metadata": {},
   "outputs": [
    {
     "data": {
      "image/png": "[encoded data removed]",
      "text/plain": [
       "<Figure size 2100x800 with 8 Axes>"
      ]
     },
     "metadata": {},
     "output_type": "display_data"
    }
   ],
   "source": [
    "fig, axs = plt.subplots(2, 4, figsize=(21,8))\n",
    "\n",
    "for i in range(4):\n",
    "    axs[0][i].imshow( in_qcd_jets[i], cmap='gist_heat_r',  vmin=0.0, vmax=0.4 )\n",
    "    axs[1][i].imshow( out_qcd_jets[i], cmap='gist_heat_r',  vmin=0.0, vmax=0.4 )\n",
    "    axs[0][i].set_xlabel( '$\\eta$', fontproperties=axislabelfont )\n",
    "    axs[0][i].set_ylabel( '$\\phi$', fontproperties=axislabelfont )\n",
    "    axs[1][i].set_xlabel( '$\\eta$', fontproperties=axislabelfont )\n",
    "    axs[1][i].set_ylabel( '$\\phi$', fontproperties=axislabelfont )\n",
    "    axs[0][i].text( 38, 4, \"input QCD\", fontproperties=axislabelfont, ha='right' )\n",
    "    axs[0][i].tick_params( labelsize=axisfontsize )\n",
    "    axs[1][i].text( 38, 4, \"reconstructed QCD\", fontproperties=axislabelfont, ha='right' )\n",
    "    axs[1][i].tick_params( labelsize=axisfontsize )\n",
    "\n",
    "fig.tight_layout()\n",
    "fig.show()"
   ]
  },
  {
   "cell_type": "code",
   "execution_count": 39,
   "id": "b848c206",
   "metadata": {},
   "outputs": [
    {
     "data": {
      "image/png": "[encoded data removed]",
      "text/plain": [
       "<Figure size 2100x800 with 8 Axes>"
      ]
     },
     "metadata": {},
     "output_type": "display_data"
    }
   ],
   "source": [
    "fig, axs = plt.subplots(2, 4, figsize=(21,8))\n",
    "\n",
    "for i in range(4):\n",
    "    axs[0][i].imshow( in_top_jets[i], cmap='gist_heat_r', vmin=0.0, vmax=0.4 )\n",
    "    axs[1][i].imshow( out_top_jets[i], cmap='gist_heat_r',  vmin=0.0, vmax=0.4 )\n",
    "    axs[0][i].set_xlabel( '$\\eta$', fontproperties=axislabelfont )\n",
    "    axs[0][i].set_ylabel( '$\\phi$', fontproperties=axislabelfont )\n",
    "    axs[1][i].set_xlabel( '$\\eta$', fontproperties=axislabelfont )\n",
    "    axs[1][i].set_ylabel( '$\\phi$', fontproperties=axislabelfont )\n",
    "    axs[0][i].text( 38, 4, \"input top\", fontproperties=axislabelfont, ha='right' )\n",
    "    axs[0][i].tick_params( labelsize=axisfontsize )\n",
    "    axs[1][i].text( 38, 4, \"reconstructed top\", fontproperties=axislabelfont, ha='right' )\n",
    "    axs[1][i].tick_params( labelsize=axisfontsize )\n",
    "\n",
    "\n",
    "fig.tight_layout()\n",
    "fig.show()"
   ]
  },
  {
   "cell_type": "markdown",
   "id": "23a82056",
   "metadata": {},
   "source": [
    "Although we trained our autoencoder on Top jets, it looks like it still predicts QCD jets better."
   ]
  },
  {
   "cell_type": "markdown",
   "id": "30115313",
   "metadata": {},
   "source": [
    "## (d)"
   ]
  },
  {
   "cell_type": "code",
   "execution_count": null,
   "id": "a1b751f0",
   "metadata": {},
   "outputs": [],
   "source": [
    "test_pred = model( z_test_p ).detach().view(-1,40,40)\n",
    "\n",
    "test_loss = nn.MSELoss( reduce=False )\n",
    "test_mse = test_loss( test_pred, z_test_p )"
   ]
  },
  {
   "cell_type": "code",
   "execution_count": null,
   "id": "cd1a3ad7",
   "metadata": {},
   "outputs": [],
   "source": [
    "test_mse.shape"
   ]
  },
  {
   "cell_type": "code",
   "execution_count": null,
   "id": "76098939",
   "metadata": {},
   "outputs": [],
   "source": [
    "test_mse = torch.mean( test_mse, dim=-1)"
   ]
  },
  {
   "cell_type": "code",
   "execution_count": null,
   "id": "d7ef5164",
   "metadata": {},
   "outputs": [],
   "source": [
    "n_jets = 4\n",
    "in_qcd_jets = z_test_p[ y_test==0.0 ][ 0:4 ] \n",
    "in_top_jets = z_test_p[ y_test==1.0 ][ 0:4 ]\n",
    "out_qcd_jets = model( in_qcd_jets )\n",
    "out_top_jets = model( in_top_jets )\n",
    "mse_qcd_jets = test_loss( in_qcd_jets, out_qcd_jets ).detach().view(-1,40,40).numpy()\n",
    "mse_top_jets = test_loss( in_top_jets, out_top_jets ).detach().view(-1,40,40).numpy()\n",
    "in_qcd_jets = in_qcd_jets.detach().view(-1,40,40).numpy()\n",
    "in_top_jets = in_top_jets.detach().view(-1,40,40).numpy()"
   ]
  },
  {
   "cell_type": "code",
   "execution_count": null,
   "id": "4552e748",
   "metadata": {},
   "outputs": [],
   "source": [
    "mse_qcd_jets.shape"
   ]
  },
  {
   "cell_type": "code",
   "execution_count": null,
   "id": "5399fd5a",
   "metadata": {},
   "outputs": [],
   "source": [
    "fig, axs = plt.subplots(2, 4, figsize=(21,8))\n",
    "\n",
    "for i in range(4):\n",
    "    axs[0][i].imshow( mse_qcd_jets[i], cmap='gist_heat_r',  vmin=0.0, vmax=0.01 )\n",
    "    axs[1][i].imshow( mse_top_jets[i], cmap='gist_heat_r',  vmin=0.0, vmax=0.01 )\n",
    "    axs[0][i].set_xlabel( '$\\eta$', fontproperties=axislabelfont )\n",
    "    axs[0][i].set_ylabel( '$\\phi$', fontproperties=axislabelfont )\n",
    "    axs[1][i].set_xlabel( '$\\eta$', fontproperties=axislabelfont )\n",
    "    axs[1][i].set_ylabel( '$\\phi$', fontproperties=axislabelfont )\n",
    "    axs[0][i].text( 38, 4, \"MSE QCD\", fontproperties=axislabelfont, ha='right' )\n",
    "    axs[0][i].tick_params( labelsize=axisfontsize )\n",
    "    axs[1][i].text( 38, 4, \"MSE top\", fontproperties=axislabelfont, ha='right' )\n",
    "    axs[1][i].tick_params( labelsize=axisfontsize )\n",
    "\n",
    "fig.tight_layout()\n",
    "fig.show()"
   ]
  },
  {
   "cell_type": "code",
   "execution_count": null,
   "id": "e407a49e",
   "metadata": {},
   "outputs": [],
   "source": [
    "fig, ax = plt.subplots(1, 2, figsize=(14,5))\n",
    "\n",
    "fpr, tpr, th = roc_curve(y_test, test_mse)\n",
    "auc_score = roc_auc_score(y_test, test_mse)\n",
    "rnd_class = np.linspace(0, 1, 100)\n",
    "\n",
    "ax[0].plot(fpr, tpr, label='AUC = {:.2f}'.format(auc_score) )\n",
    "ax[0].plot(rnd_class, rnd_class, '--', label='Rnd classifier')\n",
    "ax[1].plot(tpr, 1/fpr, label='AUC = {:.2f}\\n $1/\\epsilon_{{bkg}}$(0.3) = {:.0f}'.format(auc_score, 1/fpr[closest_point(tpr, tpr_p=0.3)]))\n",
    "ax[1].plot(rnd_class, 1/rnd_class, '--', label='Rnd classifier')\n",
    "ax[1].set_yscale('log')\n",
    "\n",
    "ax[0].set_xlabel('$\\epsilon_{bkg}$ - FPR', fontproperties=axislabelfont)\n",
    "ax[0].set_ylabel('$\\epsilon_{s}$ - TPR', fontproperties=axislabelfont)\n",
    "\n",
    "ax[1].set_xlabel('$\\epsilon_{s}$ - TPR', fontproperties=axislabelfont)\n",
    "ax[1].set_ylabel('1/$\\epsilon_{bkg}$ - Inverse FPR', fontproperties=axislabelfont)\n",
    "for i in range(len(ax)):\n",
    "    ax[i].legend(prop=axislabelfont)\n",
    "    ax[i].tick_params(labelsize=axisfontsize)\n",
    "    ax[i].grid('on')"
   ]
  },
  {
   "cell_type": "markdown",
   "id": "a963cfd1",
   "metadata": {},
   "source": [
    "We see ..."
   ]
  },
  {
   "cell_type": "markdown",
   "id": "75b13cfd",
   "metadata": {},
   "source": [
    "# (f)\n",
    "\n",
    "We can simply copy the above code and replace \"qcd\" with \"top\". Defined functions and classes don't have to be redefined.\n",
    "\n",
    "## (a) + (b)"
   ]
  },
  {
   "cell_type": "code",
   "execution_count": null,
   "id": "8ad9bb9d",
   "metadata": {},
   "outputs": [],
   "source": [
    "X_train_top = X_train[ y_train == 1.0 ]\n",
    "X_val_top = X_val[ y_val == 1.0 ]"
   ]
  },
  {
   "cell_type": "code",
   "execution_count": null,
   "id": "6189024d",
   "metadata": {},
   "outputs": [],
   "source": [
    "z_train = constit_to_img( X_train, 50, True, True, True )\n",
    "z_train = z_train.reshape( (z_train.shape[0],-1) )\n",
    "z_train_top = constit_to_img( X_train_top, 50, True, True, True )\n",
    "z_train_top = z_train_top.reshape( (z_train_top.shape[0],-1) )\n",
    "z_val = constit_to_img( X_val, 50, True, True, True )\n",
    "z_val = z_val.reshape( (z_val.shape[0],-1) )\n",
    "z_val_top = constit_to_img( X_val_top, 50, True, True, True )\n",
    "z_val_top = z_val_top.reshape( (z_val_top.shape[0],-1) )\n",
    "z_test = constit_to_img( X_test, 50, True, True, True )\n",
    "z_test = z_test.reshape( (z_test.shape[0],-1) )"
   ]
  },
  {
   "cell_type": "code",
   "execution_count": null,
   "id": "52e65446",
   "metadata": {},
   "outputs": [],
   "source": [
    "print( \"Train data shape: \" + str(z_train.shape) )\n",
    "print( \"Train data (top-only) shape: \" + str(z_train_top.shape) )\n",
    "print( \"Val data shape: \" + str(z_val.shape) )\n",
    "print( \"Val data (top-only) shape: \" + str(z_val_top.shape) )\n",
    "print( \"Test data shape: \" + str(z_test.shape) )"
   ]
  },
  {
   "cell_type": "code",
   "execution_count": null,
   "id": "b63d1aaf",
   "metadata": {},
   "outputs": [],
   "source": [
    "z_train_p = torch.Tensor( z_train )\n",
    "z_train_top_p = torch.Tensor( z_train_top )\n",
    "z_val_p = torch.Tensor( z_val )\n",
    "z_val_top_p = torch.Tensor( z_val_top )\n",
    "z_test_p = torch.Tensor( z_test )\n",
    "y_train_p = torch.Tensor( y_train )\n",
    "y_val_p = torch.Tensor( y_val )\n",
    "y_test_p = torch.Tensor( y_test )"
   ]
  },
  {
   "cell_type": "code",
   "execution_count": null,
   "id": "e5b5ff0f",
   "metadata": {},
   "outputs": [],
   "source": [
    "trn_dataset = topcloud_bkg_dataset( z_train_top_p )\n",
    "val_dataset = topcloud_bkg_dataset( z_val_top_p )\n",
    "tst_dataset = topcloud_sig_dataset( z_test_p, y_test_p.unsqueeze(-1) )"
   ]
  },
  {
   "cell_type": "code",
   "execution_count": null,
   "id": "6ec1578f",
   "metadata": {},
   "outputs": [],
   "source": [
    "trn_dataloader = DataLoader( trn_dataset, batch_size=64, shuffle=True )\n",
    "val_dataloader = DataLoader( val_dataset, batch_size=64, shuffle=False )\n",
    "tst_dataloader = DataLoader( tst_dataset, batch_size=64, shuffle=False )"
   ]
  },
  {
   "cell_type": "code",
   "execution_count": null,
   "id": "e8b7245b",
   "metadata": {},
   "outputs": [],
   "source": [
    "loss_fn = nn.MSELoss()\n",
    "epochs = 100\n",
    "\n",
    "# initialise the model and the optimizer\n",
    "model = JetAutoEncoder( 1600, 400, 20 )\n",
    "learning_rate = 0.001\n",
    "optimizer = torch.optim.Adam( model.parameters(), lr=learning_rate )\n",
    "separator()\n",
    "print( \"model architecture \")\n",
    "separator()\n",
    "print( model )\n",
    "\n",
    "# track train and val losses\n",
    "trn_losses = []\n",
    "val_losses = []\n",
    "\n",
    "for t in tqdm(range(epochs)):\n",
    "    train_epoch( trn_dataloader, model, loss_fn, optimizer )\n",
    "    trn_loss = trn_pass( trn_dataloader, model, loss_fn )\n",
    "    trn_losses.append( trn_loss )\n",
    "    val_loss = val_pass( val_dataloader, model, loss_fn )\n",
    "    val_losses.append( val_loss )"
   ]
  },
  {
   "cell_type": "code",
   "execution_count": null,
   "id": "e2790493",
   "metadata": {},
   "outputs": [],
   "source": [
    "fig, axs = plt.subplots( 1, 1, figsize=(7,5) )\n",
    "\n",
    "c1 = 'tab:red'\n",
    "c2 = 'tab:green'\n",
    "\n",
    "axs.plot( trn_losses, label=\"train loss\", color=c1 )\n",
    "axs.plot( val_losses, label=\"val   loss\", color=c2 )\n",
    "\n",
    "axs.set_yscale('log')\n",
    "\n",
    "axs.set_xlabel( \"epoch\", fontproperties=axislabelfont )\n",
    "axs.set_ylabel( \"MSE\", fontproperties=axislabelfont )\n",
    "\n",
    "xticks = [ int(x) for x in axs.get_xticks() ]\n",
    "axs.set_xticklabels( xticks, fontproperties=tickfont )\n",
    "\n",
    "yticks = axs.get_yticks()\n",
    "axs.set_yticklabels( yticks, fontproperties=tickfont )\n",
    "\n",
    "axs.legend( loc='best', prop=tickfont )\n",
    "\n",
    "fig.tight_layout()"
   ]
  },
  {
   "cell_type": "markdown",
   "id": "4340bc0b",
   "metadata": {},
   "source": [
    "We see ..."
   ]
  },
  {
   "cell_type": "markdown",
   "id": "2b20f2e7",
   "metadata": {},
   "source": [
    "## (c)"
   ]
  },
  {
   "cell_type": "code",
   "execution_count": null,
   "id": "cbe75e7c",
   "metadata": {},
   "outputs": [],
   "source": [
    "n_jets = 4\n",
    "in_qcd_jets = z_test_p[ y_test==0.0 ][ 0:4 ] \n",
    "in_top_jets = z_test_p[ y_test==1.0 ][ 0:4 ]\n",
    "out_qcd_jets = model( in_qcd_jets ).detach().numpy()\n",
    "out_top_jets = model( in_top_jets ).detach().numpy()\n",
    "in_qcd_jets = in_qcd_jets.detach().numpy()\n",
    "in_top_jets = in_top_jets.detach().numpy()"
   ]
  },
  {
   "cell_type": "code",
   "execution_count": null,
   "id": "e97d23ba",
   "metadata": {},
   "outputs": [],
   "source": [
    "fig, axs = plt.subplots(2, 4, figsize=(21,8))\n",
    "\n",
    "for i in range(4):\n",
    "    axs[0][i].imshow( in_qcd_jets[i].reshape(40,40), cmap='gist_heat_r',  vmin=0.0, vmax=0.4 )\n",
    "    axs[1][i].imshow( out_qcd_jets[i].reshape(40,40), cmap='gist_heat_r',  vmin=0.0, vmax=0.4 )\n",
    "    axs[0][i].set_xlabel( '$\\eta$', fontproperties=axislabelfont )\n",
    "    axs[0][i].set_ylabel( '$\\phi$', fontproperties=axislabelfont )\n",
    "    axs[1][i].set_xlabel( '$\\eta$', fontproperties=axislabelfont )\n",
    "    axs[1][i].set_ylabel( '$\\phi$', fontproperties=axislabelfont )\n",
    "    axs[0][i].text( 38, 4, \"input QCD\", fontproperties=axislabelfont, ha='right' )\n",
    "    axs[0][i].tick_params( labelsize=axisfontsize )\n",
    "    axs[1][i].text( 38, 4, \"reconstructed QCD\", fontproperties=axislabelfont, ha='right' )\n",
    "    axs[1][i].tick_params( labelsize=axisfontsize )\n",
    "\n",
    "fig.tight_layout()\n",
    "fig.show()"
   ]
  },
  {
   "cell_type": "code",
   "execution_count": null,
   "id": "f96085ec",
   "metadata": {},
   "outputs": [],
   "source": [
    "fig, axs = plt.subplots(2, 4, figsize=(21,8))\n",
    "\n",
    "for i in range(4):\n",
    "    axs[0][i].imshow( in_top_jets[i].reshape(40,40), cmap='gist_heat_r', vmin=0.0, vmax=0.4 )\n",
    "    axs[1][i].imshow( out_top_jets[i].reshape(40,40), cmap='gist_heat_r',  vmin=0.0, vmax=0.4 )\n",
    "    axs[0][i].set_xlabel( '$\\eta$', fontproperties=axislabelfont )\n",
    "    axs[0][i].set_ylabel( '$\\phi$', fontproperties=axislabelfont )\n",
    "    axs[1][i].set_xlabel( '$\\eta$', fontproperties=axislabelfont )\n",
    "    axs[1][i].set_ylabel( '$\\phi$', fontproperties=axislabelfont )\n",
    "    axs[0][i].text( 38, 4, \"input top\", fontproperties=axislabelfont, ha='right' )\n",
    "    axs[0][i].tick_params( labelsize=axisfontsize )\n",
    "    axs[1][i].text( 38, 4, \"reconstructed top\", fontproperties=axislabelfont, ha='right' )\n",
    "    axs[1][i].tick_params( labelsize=axisfontsize )\n",
    "\n",
    "\n",
    "fig.tight_layout()\n",
    "fig.show()"
   ]
  },
  {
   "cell_type": "markdown",
   "id": "6f32ac5a",
   "metadata": {},
   "source": [
    "We see ..."
   ]
  },
  {
   "cell_type": "markdown",
   "id": "5e565076",
   "metadata": {},
   "source": [
    "## (d)"
   ]
  },
  {
   "cell_type": "code",
   "execution_count": null,
   "id": "33c1d4ba",
   "metadata": {},
   "outputs": [],
   "source": [
    "test_pred = model( z_test_p ).detach()\n",
    "\n",
    "test_loss = nn.MSELoss( reduce=False )\n",
    "test_mse = test_loss( test_pred, z_test_p )"
   ]
  },
  {
   "cell_type": "code",
   "execution_count": null,
   "id": "5cde69dc",
   "metadata": {},
   "outputs": [],
   "source": [
    "test_mse.shape"
   ]
  },
  {
   "cell_type": "code",
   "execution_count": null,
   "id": "96572e5a",
   "metadata": {},
   "outputs": [],
   "source": [
    "test_mse = torch.mean( test_mse, dim=-1)"
   ]
  },
  {
   "cell_type": "code",
   "execution_count": null,
   "id": "0fe65f8d",
   "metadata": {},
   "outputs": [],
   "source": [
    "n_jets = 4\n",
    "in_qcd_jets = z_test_p[ y_test==0.0 ][ 0:4 ] \n",
    "in_top_jets = z_test_p[ y_test==1.0 ][ 0:4 ]\n",
    "out_qcd_jets = model( in_qcd_jets )\n",
    "out_top_jets = model( in_top_jets )\n",
    "mse_qcd_jets = test_loss( in_qcd_jets, out_qcd_jets ).detach().numpy()\n",
    "mse_top_jets = test_loss( in_top_jets, out_top_jets ).detach().numpy()\n",
    "in_qcd_jets = in_qcd_jets.detach().numpy()\n",
    "in_top_jets = in_top_jets.detach().numpy()"
   ]
  },
  {
   "cell_type": "code",
   "execution_count": null,
   "id": "a0b8227b",
   "metadata": {},
   "outputs": [],
   "source": [
    "fig, axs = plt.subplots(2, 4, figsize=(21,8))\n",
    "\n",
    "for i in range(4):\n",
    "    axs[0][i].imshow( mse_qcd_jets[i].reshape(40,40), cmap='gist_heat_r',  vmin=0.0, vmax=0.01 )\n",
    "    axs[1][i].imshow( mse_top_jets[i].reshape(40,40), cmap='gist_heat_r',  vmin=0.0, vmax=0.01 )\n",
    "    axs[0][i].set_xlabel( '$\\eta$', fontproperties=axislabelfont )\n",
    "    axs[0][i].set_ylabel( '$\\phi$', fontproperties=axislabelfont )\n",
    "    axs[1][i].set_xlabel( '$\\eta$', fontproperties=axislabelfont )\n",
    "    axs[1][i].set_ylabel( '$\\phi$', fontproperties=axislabelfont )\n",
    "    axs[0][i].text( 38, 4, \"MSE QCD\", fontproperties=axislabelfont, ha='right' )\n",
    "    axs[0][i].tick_params( labelsize=axisfontsize )\n",
    "    axs[1][i].text( 38, 4, \"MSE top\", fontproperties=axislabelfont, ha='right' )\n",
    "    axs[1][i].tick_params( labelsize=axisfontsize )\n",
    "\n",
    "fig.tight_layout()\n",
    "fig.show()"
   ]
  },
  {
   "cell_type": "code",
   "execution_count": null,
   "id": "538a8ea3",
   "metadata": {},
   "outputs": [],
   "source": [
    "fig, ax = plt.subplots(1, 2, figsize=(14,5))\n",
    "\n",
    "fpr, tpr, th = roc_curve(y_test, test_mse)\n",
    "auc_score = roc_auc_score(y_test, test_mse)\n",
    "rnd_class = np.linspace(0, 1, 100)\n",
    "\n",
    "ax[0].plot(fpr, tpr, label='AUC = {:.2f}'.format(auc_score) )\n",
    "ax[0].plot(rnd_class, rnd_class, '--', label='Rnd classifier')\n",
    "ax[1].plot(tpr, 1/fpr, label='AUC = {:.2f}\\n $1/\\epsilon_{{bkg}}$(0.3) = {:.0f}'.format(auc_score, 1/fpr[closest_point(tpr, tpr_p=0.3)]))\n",
    "ax[1].plot(rnd_class, 1/rnd_class, '--', label='Rnd classifier')\n",
    "ax[1].set_yscale('log')\n",
    "\n",
    "ax[0].set_xlabel('$\\epsilon_{bkg}$ - FPR', fontproperties=axislabelfont)\n",
    "ax[0].set_ylabel('$\\epsilon_{s}$ - TPR', fontproperties=axislabelfont)\n",
    "\n",
    "ax[1].set_xlabel('$\\epsilon_{s}$ - TPR', fontproperties=axislabelfont)\n",
    "ax[1].set_ylabel('1/$\\epsilon_{bkg}$ - Inverse FPR', fontproperties=axislabelfont)\n",
    "for i in range(len(ax)):\n",
    "    ax[i].legend(prop=axislabelfont)\n",
    "    ax[i].tick_params(labelsize=axisfontsize)\n",
    "    ax[i].grid('on')"
   ]
  },
  {
   "cell_type": "markdown",
   "id": "e3f625a1",
   "metadata": {},
   "source": [
    "We see ..."
   ]
  },
  {
   "cell_type": "markdown",
   "id": "1d5d87df",
   "metadata": {},
   "source": [
    "## (e)\n",
    "\n",
    "### (a) + (b)"
   ]
  },
  {
   "cell_type": "code",
   "execution_count": null,
   "id": "539a6ef3",
   "metadata": {},
   "outputs": [],
   "source": [
    "z_train = constit_to_img( X_train, 50, True, True, True )\n",
    "z_train_top = constit_to_img( X_train_top, 50, True, True, True )\n",
    "z_val = constit_to_img( X_val, 50, True, True, True )\n",
    "z_val_top = constit_to_img( X_val_top, 50, True, True, True )\n",
    "z_test = constit_to_img( X_test, 50, True, True, True )"
   ]
  },
  {
   "cell_type": "code",
   "execution_count": null,
   "id": "88b9fc34",
   "metadata": {},
   "outputs": [],
   "source": [
    "print( \"Train data shape: \" + str(z_train.shape) )\n",
    "print( \"Train data (top-only) shape: \" + str(z_train_top.shape) )\n",
    "print( \"Val data shape: \" + str(z_val.shape) )\n",
    "print( \"Val data (top-only) shape: \" + str(z_val_top.shape) )\n",
    "print( \"Test data shape: \" + str(z_test.shape) )"
   ]
  },
  {
   "cell_type": "code",
   "execution_count": null,
   "id": "5335dc36",
   "metadata": {},
   "outputs": [],
   "source": [
    "z_train_p = torch.Tensor( z_train.reshape(-1, 1, 40,40) )\n",
    "z_train_top_p = torch.Tensor( z_train_top.reshape(-1, 1, 40,40) )\n",
    "z_val_p = torch.Tensor( z_val.reshape(-1, 1, 40,40) )\n",
    "z_val_top_p = torch.Tensor( z_val_top.reshape(-1, 1, 40,40) )\n",
    "z_test_p = torch.Tensor( z_test.reshape(-1, 1, 40,40) )\n",
    "y_train_p = torch.Tensor( y_train ).unsqueeze(-1)\n",
    "y_val_p = torch.Tensor( y_val ).unsqueeze(-1)\n",
    "y_test_p = torch.Tensor( y_test ).unsqueeze(-1)"
   ]
  },
  {
   "cell_type": "code",
   "execution_count": null,
   "id": "f7211b33",
   "metadata": {},
   "outputs": [],
   "source": [
    "trn_dataset = topcloud_bkg_dataset( z_train_top_p )\n",
    "val_dataset = topcloud_bkg_dataset( z_val_top_p )\n",
    "tst_dataset = topcloud_sig_dataset( z_test_p, y_test_p.unsqueeze(-1) )"
   ]
  },
  {
   "cell_type": "code",
   "execution_count": null,
   "id": "716c6d08",
   "metadata": {},
   "outputs": [],
   "source": [
    "trn_dataloader = DataLoader( trn_dataset, batch_size=64, shuffle=True )\n",
    "val_dataloader = DataLoader( val_dataset, batch_size=64, shuffle=False )\n",
    "tst_dataloader = DataLoader( tst_dataset, batch_size=64, shuffle=False )"
   ]
  },
  {
   "cell_type": "code",
   "execution_count": null,
   "id": "d8f73fd9",
   "metadata": {},
   "outputs": [],
   "source": [
    "loss_fn = nn.MSELoss()\n",
    "epochs = 10\n",
    "\n",
    "# initialise the model and the optimizer\n",
    "model = JetCNN()\n",
    "learning_rate = 0.001\n",
    "optimizer = torch.optim.Adam( model.parameters(), lr=learning_rate )\n",
    "separator()\n",
    "print( \"model architecture \")\n",
    "separator()\n",
    "print( model )\n",
    "\n",
    "# track train and val losses\n",
    "trn_losses = []\n",
    "val_losses = []\n",
    "\n",
    "for t in tqdm(range(epochs)):\n",
    "    train_epoch( trn_dataloader, model, loss_fn, optimizer )\n",
    "    trn_loss = trn_pass( trn_dataloader, model, loss_fn )\n",
    "    trn_losses.append( trn_loss )\n",
    "    val_loss = val_pass( val_dataloader, model, loss_fn )\n",
    "    val_losses.append( val_loss )"
   ]
  },
  {
   "cell_type": "code",
   "execution_count": null,
   "id": "e90fd676",
   "metadata": {},
   "outputs": [],
   "source": [
    "fig, axs = plt.subplots( 1, 1, figsize=(7,5) )\n",
    "\n",
    "c1 = 'tab:red'\n",
    "c2 = 'tab:green'\n",
    "\n",
    "axs.plot( trn_losses, label=\"train loss\", color=c1 )\n",
    "axs.plot( val_losses, label=\"val   loss\", color=c2 )\n",
    "\n",
    "axs.set_yscale('log')\n",
    "\n",
    "axs.set_xlabel( \"epoch\", fontproperties=axislabelfont )\n",
    "axs.set_ylabel( \"MSE\", fontproperties=axislabelfont )\n",
    "\n",
    "xticks = [ int(x) for x in axs.get_xticks() ]\n",
    "axs.set_xticklabels( xticks, fontproperties=tickfont )\n",
    "\n",
    "yticks = axs.get_yticks()\n",
    "axs.set_yticklabels( yticks, fontproperties=tickfont )\n",
    "\n",
    "axs.legend( loc='best', prop=tickfont )\n",
    "\n",
    "fig.tight_layout()"
   ]
  },
  {
   "cell_type": "markdown",
   "id": "741ff49f",
   "metadata": {},
   "source": [
    "We see ..."
   ]
  },
  {
   "cell_type": "markdown",
   "id": "77c234a0",
   "metadata": {},
   "source": [
    "### (c)"
   ]
  },
  {
   "cell_type": "code",
   "execution_count": null,
   "id": "29e7c864",
   "metadata": {},
   "outputs": [],
   "source": [
    "n_jets = 4\n",
    "in_qcd_jets = z_test_p[ y_test==0.0 ][ 0:4 ] \n",
    "in_top_jets = z_test_p[ y_test==1.0 ][ 0:4 ]\n",
    "out_qcd_jets = model( in_qcd_jets ).detach().view(-1,40,40).numpy()\n",
    "out_top_jets = model( in_top_jets ).detach().view(-1,40,40).numpy()\n",
    "in_qcd_jets = in_qcd_jets.detach().view(-1,40,40).numpy()\n",
    "in_top_jets = in_top_jets.detach().view(-1,40,40).numpy()"
   ]
  },
  {
   "cell_type": "code",
   "execution_count": null,
   "id": "4b0850d4",
   "metadata": {},
   "outputs": [],
   "source": [
    "fig, axs = plt.subplots(2, 4, figsize=(21,8))\n",
    "\n",
    "for i in range(4):\n",
    "    axs[0][i].imshow( in_qcd_jets[i], cmap='gist_heat_r',  vmin=0.0, vmax=0.4 )\n",
    "    axs[1][i].imshow( out_qcd_jets[i], cmap='gist_heat_r',  vmin=0.0, vmax=0.4 )\n",
    "    axs[0][i].set_xlabel( '$\\eta$', fontproperties=axislabelfont )\n",
    "    axs[0][i].set_ylabel( '$\\phi$', fontproperties=axislabelfont )\n",
    "    axs[1][i].set_xlabel( '$\\eta$', fontproperties=axislabelfont )\n",
    "    axs[1][i].set_ylabel( '$\\phi$', fontproperties=axislabelfont )\n",
    "    axs[0][i].text( 38, 4, \"input QCD\", fontproperties=axislabelfont, ha='right' )\n",
    "    axs[0][i].tick_params( labelsize=axisfontsize )\n",
    "    axs[1][i].text( 38, 4, \"reconstructed QCD\", fontproperties=axislabelfont, ha='right' )\n",
    "    axs[1][i].tick_params( labelsize=axisfontsize )\n",
    "\n",
    "fig.tight_layout()\n",
    "fig.show()"
   ]
  },
  {
   "cell_type": "code",
   "execution_count": null,
   "id": "87e0567d",
   "metadata": {},
   "outputs": [],
   "source": [
    "fig, axs = plt.subplots(2, 4, figsize=(21,8))\n",
    "\n",
    "for i in range(4):\n",
    "    axs[0][i].imshow( in_top_jets[i], cmap='gist_heat_r', vmin=0.0, vmax=0.4 )\n",
    "    axs[1][i].imshow( out_top_jets[i], cmap='gist_heat_r',  vmin=0.0, vmax=0.4 )\n",
    "    axs[0][i].set_xlabel( '$\\eta$', fontproperties=axislabelfont )\n",
    "    axs[0][i].set_ylabel( '$\\phi$', fontproperties=axislabelfont )\n",
    "    axs[1][i].set_xlabel( '$\\eta$', fontproperties=axislabelfont )\n",
    "    axs[1][i].set_ylabel( '$\\phi$', fontproperties=axislabelfont )\n",
    "    axs[0][i].text( 38, 4, \"input top\", fontproperties=axislabelfont, ha='right' )\n",
    "    axs[0][i].tick_params( labelsize=axisfontsize )\n",
    "    axs[1][i].text( 38, 4, \"reconstructed top\", fontproperties=axislabelfont, ha='right' )\n",
    "    axs[1][i].tick_params( labelsize=axisfontsize )\n",
    "\n",
    "\n",
    "fig.tight_layout()\n",
    "fig.show()"
   ]
  },
  {
   "cell_type": "markdown",
   "id": "94fa62f2",
   "metadata": {},
   "source": [
    "We see ..."
   ]
  },
  {
   "cell_type": "markdown",
   "id": "9d2a9e1d",
   "metadata": {},
   "source": [
    "### (d)"
   ]
  },
  {
   "cell_type": "code",
   "execution_count": null,
   "id": "851ceaa0",
   "metadata": {},
   "outputs": [],
   "source": [
    "test_pred = model( z_test_p ).detach().view(-1,40,40)\n",
    "\n",
    "test_loss = nn.MSELoss( reduce=False )\n",
    "test_mse = test_loss( test_pred, z_test_p )"
   ]
  },
  {
   "cell_type": "code",
   "execution_count": null,
   "id": "ac1fb113",
   "metadata": {},
   "outputs": [],
   "source": [
    "test_mse.shape"
   ]
  },
  {
   "cell_type": "code",
   "execution_count": null,
   "id": "a29313af",
   "metadata": {},
   "outputs": [],
   "source": [
    "test_mse = torch.mean( test_mse, dim=-1)"
   ]
  },
  {
   "cell_type": "code",
   "execution_count": null,
   "id": "2a80c54a",
   "metadata": {},
   "outputs": [],
   "source": [
    "n_jets = 4\n",
    "in_qcd_jets = z_test_p[ y_test==0.0 ][ 0:4 ] \n",
    "in_top_jets = z_test_p[ y_test==1.0 ][ 0:4 ]\n",
    "out_qcd_jets = model( in_qcd_jets )\n",
    "out_top_jets = model( in_top_jets )\n",
    "mse_qcd_jets = test_loss( in_qcd_jets, out_qcd_jets ).detach().view(-1,40,40).numpy()\n",
    "mse_top_jets = test_loss( in_top_jets, out_top_jets ).detach().view(-1,40,40).numpy()\n",
    "in_qcd_jets = in_qcd_jets.detach().view(-1,40,40).numpy()\n",
    "in_top_jets = in_top_jets.detach().view(-1,40,40).numpy()"
   ]
  },
  {
   "cell_type": "code",
   "execution_count": null,
   "id": "b1963c52",
   "metadata": {},
   "outputs": [],
   "source": [
    "fig, axs = plt.subplots(2, 4, figsize=(21,8))\n",
    "\n",
    "for i in range(4):\n",
    "    axs[0][i].imshow( mse_qcd_jets[i], cmap='gist_heat_r',  vmin=0.0, vmax=0.01 )\n",
    "    axs[1][i].imshow( mse_top_jets[i], cmap='gist_heat_r',  vmin=0.0, vmax=0.01 )\n",
    "    axs[0][i].set_xlabel( '$\\eta$', fontproperties=axislabelfont )\n",
    "    axs[0][i].set_ylabel( '$\\phi$', fontproperties=axislabelfont )\n",
    "    axs[1][i].set_xlabel( '$\\eta$', fontproperties=axislabelfont )\n",
    "    axs[1][i].set_ylabel( '$\\phi$', fontproperties=axislabelfont )\n",
    "    axs[0][i].text( 38, 4, \"MSE QCD\", fontproperties=axislabelfont, ha='right' )\n",
    "    axs[0][i].tick_params( labelsize=axisfontsize )\n",
    "    axs[1][i].text( 38, 4, \"MSE top\", fontproperties=axislabelfont, ha='right' )\n",
    "    axs[1][i].tick_params( labelsize=axisfontsize )\n",
    "\n",
    "fig.tight_layout()\n",
    "fig.show()"
   ]
  },
  {
   "cell_type": "markdown",
   "id": "6cf55746",
   "metadata": {},
   "source": [
    "We see ..."
   ]
  },
  {
   "cell_type": "code",
   "execution_count": null,
   "id": "f3a63975",
   "metadata": {},
   "outputs": [],
   "source": [
    "fig, ax = plt.subplots(1, 2, figsize=(14,5))\n",
    "\n",
    "fpr, tpr, th = roc_curve(y_test, test_mse)\n",
    "auc_score = roc_auc_score(y_test, test_mse)\n",
    "rnd_class = np.linspace(0, 1, 100)\n",
    "\n",
    "ax[0].plot(fpr, tpr, label='AUC = {:.2f}'.format(auc_score) )\n",
    "ax[0].plot(rnd_class, rnd_class, '--', label='Rnd classifier')\n",
    "ax[1].plot(tpr, 1/fpr, label='AUC = {:.2f}\\n $1/\\epsilon_{{bkg}}$(0.3) = {:.0f}'.format(auc_score, 1/fpr[closest_point(tpr, tpr_p=0.3)]))\n",
    "ax[1].plot(rnd_class, 1/rnd_class, '--', label='Rnd classifier')\n",
    "ax[1].set_yscale('log')\n",
    "\n",
    "ax[0].set_xlabel('$\\epsilon_{bkg}$ - FPR', fontproperties=axislabelfont)\n",
    "ax[0].set_ylabel('$\\epsilon_{s}$ - TPR', fontproperties=axislabelfont)\n",
    "\n",
    "ax[1].set_xlabel('$\\epsilon_{s}$ - TPR', fontproperties=axislabelfont)\n",
    "ax[1].set_ylabel('1/$\\epsilon_{bkg}$ - Inverse FPR', fontproperties=axislabelfont)\n",
    "for i in range(len(ax)):\n",
    "    ax[i].legend(prop=axislabelfont)\n",
    "    ax[i].tick_params(labelsize=axisfontsize)\n",
    "    ax[i].grid('on')"
   ]
  },
  {
   "cell_type": "markdown",
   "id": "6b10617e",
   "metadata": {},
   "source": [
    "We see ..."
   ]
  },
  {
   "cell_type": "markdown",
   "id": "99275ede",
   "metadata": {},
   "source": [
    "We conclude ..."
   ]
  }
 ],
 "metadata": {
  "kernelspec": {
   "display_name": "Python 3 (ipykernel)",
   "language": "python",
   "name": "python3"
  },
  "language_info": {
   "codemirror_mode": {
    "name": "ipython",
    "version": 3
   },
   "file_extension": ".py",
   "mimetype": "text/x-python",
   "name": "python",
   "nbconvert_exporter": "python",
   "pygments_lexer": "ipython3",
   "version": "3.9.13"
  }
 },
 "nbformat": 4,
 "nbformat_minor": 5
}
