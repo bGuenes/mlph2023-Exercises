{
  "cells": [
    {
      "cell_type": "markdown",
      "metadata": {
        "id": "view-in-github",
        "colab_type": "text"
      },
      "source": [
        "<a href=\"https://colab.research.google.com/github/bGuenes/mlph2023-Exercises/blob/main/MLaP_Sheet_8.ipynb\" target=\"_parent\"><img src=\"https://colab.research.google.com/assets/colab-badge.svg\" alt=\"Open In Colab\"/></a>"
      ]
    },
    {
      "cell_type": "code",
      "execution_count": null,
      "id": "be5144a5",
      "metadata": {
        "id": "be5144a5"
      },
      "outputs": [],
      "source": []
    },
    {
      "cell_type": "markdown",
      "id": "82992287",
      "metadata": {
        "id": "82992287"
      },
      "source": [
        "<h1><b>Sheet 8 - Anomaly Detection with Autoenconders</b></h1>"
      ]
    },
    {
      "cell_type": "markdown",
      "id": "ddfbe65c",
      "metadata": {
        "id": "ddfbe65c"
      },
      "source": [
        "For task a) to d) we can use the code given in https://github.com/heidelberg-hepml/ml-tutorials/blob/main/tutorial-9-autoencoders.ipynb. We exclude code that prints some losses (e.g. current batch loss), because it is not requested and we do not need these further informations."
      ]
    },
    {
      "cell_type": "markdown",
      "id": "1f7288ae",
      "metadata": {
        "id": "1f7288ae"
      },
      "source": [
        "<h1><b>Importing packages</b></h1>"
      ]
    },
    {
      "cell_type": "code",
      "execution_count": 1,
      "id": "d769b3d0",
      "metadata": {
        "id": "d769b3d0"
      },
      "outputs": [],
      "source": [
        "import os\n",
        "import numpy as np\n",
        "import torch\n",
        "\n",
        "from torch.utils.data import Dataset\n",
        "from torch.utils.data import DataLoader\n",
        "from torch import nn\n",
        "from torch.nn import functional as F\n",
        "from torch.nn import Sequential, Linear, ReLU\n",
        "from tqdm.auto import tqdm"
      ]
    },
    {
      "cell_type": "markdown",
      "id": "6ad36a0d",
      "metadata": {
        "id": "6ad36a0d"
      },
      "source": [
        "<h1><b>Plotting set-up</b></h1>"
      ]
    },
    {
      "cell_type": "code",
      "execution_count": 2,
      "id": "83717937",
      "metadata": {
        "id": "83717937"
      },
      "outputs": [],
      "source": [
        "from matplotlib import pyplot as plt\n",
        "import matplotlib\n",
        "import warnings\n",
        "warnings.filterwarnings(\"ignore\")"
      ]
    },
    {
      "cell_type": "markdown",
      "id": "22894f8c",
      "metadata": {
        "id": "22894f8c"
      },
      "source": [
        "# (a)\n",
        "\n",
        "We start as usually by loading the data, preprocessing it and transforming it to images with 40x40 pixels. Then we create the needed datasets for the given tasks. Then we procede and define our autoencoder network, which consists of two MLPs:\n",
        "\n",
        "1. ) data_dim -> hiddenlayer_size -> hiddenlayer_size -> bottleneck_size\n",
        "2. ) bottleneck_size -> hiddenlayer_size -> hiddenlayer_size -> data_dim\n",
        "\n",
        "As activation function we use ReLU. data_dim = 40x40 = 1600 is predefined by our image size. As hiddenlayer_size we choose 400 and as bottleneck_size we choose 20, as they do it in the previously linked example."
      ]
    },
    {
      "cell_type": "code",
      "source": [
        "# We provide the data from our personal google drive\n",
        "# This needs to be changed individually depending on where the data is stored\n",
        "from google.colab import drive\n",
        "drive.mount('/content/drive')"
      ],
      "metadata": {
        "colab": {
          "base_uri": "https://localhost:8080/"
        },
        "id": "JNBbGWLZmRUN",
        "outputId": "5ba87d44-108f-4310-e831-4765a49548a7"
      },
      "id": "JNBbGWLZmRUN",
      "execution_count": 3,
      "outputs": [
        {
          "output_type": "stream",
          "name": "stdout",
          "text": [
            "Drive already mounted at /content/drive; to attempt to forcibly remount, call drive.mount(\"/content/drive\", force_remount=True).\n"
          ]
        }
      ]
    },
    {
      "cell_type": "code",
      "execution_count": 4,
      "id": "b3c766f8",
      "metadata": {
        "colab": {
          "base_uri": "https://localhost:8080/"
        },
        "id": "b3c766f8",
        "outputId": "d125e9ad-d90b-4aca-9c80-5aefbbebc3d6"
      },
      "outputs": [
        {
          "output_type": "stream",
          "name": "stdout",
          "text": [
            "train data shape: (30000, 200, 4)\n",
            "train labels shape: (30000,)\n",
            "test data shape: (30000, 200, 4)\n",
            "test labels shape: (30000,)\n",
            "val data shape: (30000, 200, 4)\n",
            "val labels shape: (30000,)\n"
          ]
        }
      ],
      "source": [
        "# Here the exact location of the data also needs to be selected individually\n",
        "\n",
        "# load data\n",
        "X_train = np.load( \"/content/drive/MyDrive/toptagging-short/x_train_short.npy\")\n",
        "y_train = np.load( \"/content/drive/MyDrive/toptagging-short/y_train_short.npy\")\n",
        "X_test = np.load( \"/content/drive/MyDrive/toptagging-short/x_test_short.npy\")\n",
        "y_test = np.load( \"/content/drive/MyDrive/toptagging-short/y_test_short.npy\")\n",
        "X_val = np.load( \"/content/drive/MyDrive/toptagging-short/x_val_short.npy\")\n",
        "y_val = np.load( \"/content/drive/MyDrive/toptagging-short/y_val_short.npy\")\n",
        "\n",
        "print(f\"train data shape: {X_train.shape}\")\n",
        "print(f\"train labels shape: {y_train.shape}\")\n",
        "print(f\"test data shape: {X_test.shape}\")\n",
        "print(f\"test labels shape: {y_test.shape}\")\n",
        "print(f\"val data shape: {X_val.shape}\")\n",
        "print(f\"val labels shape: {y_val.shape}\")"
      ]
    },
    {
      "cell_type": "code",
      "execution_count": 5,
      "id": "83b337f1",
      "metadata": {
        "id": "83b337f1"
      },
      "outputs": [],
      "source": [
        "X_train_qcd = X_train[ y_train == 0.0 ]\n",
        "X_val_qcd = X_val[ y_val == 0.0 ]"
      ]
    },
    {
      "cell_type": "code",
      "execution_count": 6,
      "id": "31af8db3",
      "metadata": {
        "id": "31af8db3"
      },
      "outputs": [],
      "source": [
        "# Some initial settings\n",
        "__n_warning__ = 0.7\n",
        "n_shift_phi, n_shift_eta = 0, 0\n",
        "\n",
        "# Grid settings\n",
        "xpixels = np.arange(-2.6, 2.6, 0.029)\n",
        "ypixels = np.arange(-np.pi, np.pi, 0.035)\n",
        "\n",
        "# Calculate the pseudorapidity of pixel entries\n",
        "def eta (pT, pz):\n",
        "    small = 1e-10\n",
        "    small_pT = (np.abs(pT) < small)\n",
        "    small_pz = (np.abs(pz) < small)\n",
        "    not_small = ~(small_pT | small_pz)\n",
        "    theta = np.arctan(pT[not_small]/pz[not_small])\n",
        "    theta[theta < 0] += np.pi\n",
        "    etas = np.zeros_like(pT)\n",
        "    etas[small_pz] = 0\n",
        "    etas[small_pT] = 1e-10\n",
        "    etas[not_small] = np.log(np.tan(theta/2))\n",
        "    return etas\n",
        "\n",
        "# Calculate the azimuthal angle of pixel entries\n",
        "def phi (px, py):\n",
        "    \"\"\"\n",
        "    phis are returned in rad., np.arctan(0,0)=0 -> zero constituents set to -np.pi\n",
        "    \"\"\"\n",
        "    phis = np.arctan2(py,px)\n",
        "    phis[phis < 0] += 2*np.pi\n",
        "    phis[phis > 2*np.pi] -= 2*np.pi\n",
        "    phis = phis - np.pi\n",
        "    return phis\n",
        "\n",
        "# function to calculate masses\n",
        "def mass (E,px,py,pz):\n",
        "    mass = np.sqrt(np.maximum(0.,E**2-px**2-py**2-pz**2))\n",
        "    return mass\n",
        "\n",
        "# function to return the image momenta for centroid and principal axis\n",
        "def img_mom (x, y, weights, x_power, y_power):\n",
        "    return ((x**x_power)*(y**y_power)*weights).sum()\n",
        "\n",
        "# returns the jet image\n",
        "def orig_image (etas, phis, es):\n",
        "    \"\"\"\n",
        "    Gives the value on grid with minimal distance,\n",
        "    eg. for xpixel = (0,1,2,3,..) eta=1.3 -> xpixel=1, eta=1.6 ->xpixel=2\n",
        "    \"\"\"\n",
        "    z = np.zeros((etas.shape[0],len(xpixels),len(ypixels)))\n",
        "    in_grid = ~((etas < xpixels[0]) | (etas > xpixels[-1]) | (phis < ypixels[0]) | (phis > ypixels[-1]))\n",
        "    xcoords = np.argmin(np.abs(etas[:,None,:] - xpixels[None,:,None]),axis=1)\n",
        "    ycoords = np.argmin(np.abs(phis[:,None,:] - ypixels[None,:,None]),axis=1)\n",
        "    ncoords = np.repeat(np.arange(etas.shape[0])[:,None],etas.shape[1],axis=1)\n",
        "    z[ncoords[in_grid],ycoords[in_grid],xcoords[in_grid]] = es[in_grid]\n",
        "    return z\n",
        "\n",
        "# preprocess the jet\n",
        "def preprocessing( x ,y, weights, rotate=True, flip=True ):\n",
        "    \"\"\"\n",
        "    (x,y) are the coordinates and weights the corresponding values, shifts\n",
        "    centroid to origin, rotates image, so that principal axis is vertical,\n",
        "    flips image, so that most weights lay in (x<0, y>0)-plane.\n",
        "    Method for calculating principal axis (similar to tensor of inertia):\n",
        "    https://en.wikipedia.org/wiki/Image_moment\n",
        "    here: y=phi, phi has modulo 2*np.pi but it's not been taken care of hear,\n",
        "    so possible issues with calculating the centroid\n",
        "    -> pre-shifting of events outside of this function solves the problem\n",
        "    for iamge-data with Delta_phi < 2*np.pi\n",
        "    \"\"\"\n",
        "\n",
        "    # Shift\n",
        "    x_centroid = img_mom(x, y, weights, 1, 0) / weights.sum()\n",
        "    y_centroid = img_mom(x, y, weights, 0, 1)/ weights.sum()\n",
        "    x = x - x_centroid\n",
        "    y = y - y_centroid\n",
        "\n",
        "    # Check if shifting worked, there can be problems with modulo variables like phi (y)\n",
        "    # x and y are sorted after highest weight, 0-comp. gives hottest event\n",
        "    # for Jet-like Images Centroid should be close to hottest constituen (pT-sorted arrays)\n",
        "    global n_shift_phi\n",
        "    global n_shift_eta\n",
        "    if np.abs(x[0]) > __n_warning__:\n",
        "        n_shift_eta += 1\n",
        "    if np.abs(y[0]) > __n_warning__:\n",
        "        n_shift_phi += 1\n",
        "\n",
        "    if rotate:\n",
        "        #Ccovariant matrix, eigenvectors corr. to principal axis\n",
        "        u11 = img_mom(x, y, weights, 1, 1) / weights.sum()\n",
        "        u20 = img_mom(x, y, weights, 2, 0) / weights.sum()\n",
        "        u02 = img_mom(x, y, weights, 0, 2) / weights.sum()\n",
        "        cov = np.array([[u20, u11], [u11, u02]])\n",
        "\n",
        "        # Eigenvalues and eigenvectors of covariant matrix\n",
        "        evals, evecs = np.linalg.eig(cov)\n",
        "\n",
        "        # Sorts the eigenvalues, v1, [::-1] turns array around,\n",
        "        sort_indices = np.argsort(evals)[::-1]\n",
        "        e_1 = evecs[:, sort_indices[0]]  # Eigenvector with largest eigenvalue\n",
        "        e_2 = evecs[:, sort_indices[1]]\n",
        "\n",
        "        # Theta to x_asix, arctan2 gives correct angle\n",
        "        theta = np.arctan2(e_1[0], e_1[1])\n",
        "\n",
        "        # Rotation, so that princple axis is vertical\n",
        "        # anti-clockwise rotation matrix\n",
        "        rotation = np.matrix([[np.cos(theta), -np.sin(theta)], [np.sin(theta), np.cos(theta)]])\n",
        "        transformed_mat = rotation * np.stack([x,y])\n",
        "        x_rot, y_rot = transformed_mat.A\n",
        "    else:\n",
        "        x_rot, y_rot = x, y\n",
        "\n",
        "    # Flipping\n",
        "    n_flips = 0\n",
        "    if flip:\n",
        "        if weights[x_rot<0.].sum() < weights[x_rot>0.].sum():\n",
        "            x_rot = -x_rot\n",
        "            n_flips  += 1\n",
        "        if weights[y_rot<0.].sum() > weights[y_rot>0.].sum():\n",
        "            y_rot = -y_rot\n",
        "            n_flips += 1\n",
        "\n",
        "    return x_rot, y_rot"
      ]
    },
    {
      "cell_type": "code",
      "execution_count": 7,
      "id": "4c3a3676",
      "metadata": {
        "id": "4c3a3676"
      },
      "outputs": [],
      "source": [
        "# function to convert the jet to an image\n",
        "def constit_to_img( jets, n_constit, norm, rotate, flip ):\n",
        "\n",
        "    print( \"Crop constituents\" )\n",
        "    jets = jets[:,0:n_constit,:]\n",
        "\n",
        "    print( \"Calculating pT\" )\n",
        "    E     = jets[:,:,0]\n",
        "    pxs   = jets[:,:,1]\n",
        "    pys   = jets[:,:,2]\n",
        "    pzs   = jets[:,:,3]\n",
        "    pT    = np.sqrt(pxs**2+pys**2)\n",
        "\n",
        "    print( \"Calculating eta\" )\n",
        "    etas  = eta(pT,pzs)\n",
        "\n",
        "    print( \"Calculating phi\" )\n",
        "    phis  = phi(pxs,pys)\n",
        "\n",
        "    print( \"Calculating the mass\" )\n",
        "    E_tot = E.sum(axis=1)\n",
        "    px_tot = pxs.sum(axis=1)\n",
        "    py_tot = pys.sum(axis=1)\n",
        "    pz_tot = pzs.sum(axis=1)\n",
        "    j_mass = mass(E_tot, px_tot, py_tot, pz_tot)\n",
        "\n",
        "    print( \"Pre-shifting the phis\" )\n",
        "    phis = (phis.T - phis[:,0]).T\n",
        "    phis[phis < -np.pi] += 2*np.pi\n",
        "    phis[phis > np.pi] -= 2*np.pi\n",
        "\n",
        "    print( \"Using pT as weight\" )\n",
        "    weights = pT\n",
        "\n",
        "    print( \"Preprocessing\" )\n",
        "\n",
        "    for i in range( np.shape(etas)[0] ):\n",
        "        etas[i,:], phis[i,:] = preprocessing( etas[i,:], phis[i,:], weights[i,:], rotate, flip )\n",
        "\n",
        "    print( \"Creating images\" )\n",
        "    z_ori = orig_image(etas, phis, weights)\n",
        "\n",
        "    #return z_ori\n",
        "\n",
        "    print( \"Cropping and normalising\" )\n",
        "    n_crop = 40\n",
        "    z_new = np.zeros( (z_ori.shape[0],n_crop, n_crop) )\n",
        "    for i in range(z_ori.shape[0]):\n",
        "        Npix = z_ori[i,:,:].shape\n",
        "        z_new[i,:,:] = z_ori[i, int(Npix[0]/2-n_crop/2) : int(Npix[0]/2+n_crop/2), int(Npix[1]/2-n_crop/2) : int(Npix[1]/2+n_crop/2) ]\n",
        "        if norm:\n",
        "            z_sum = z_new[i,:,:].sum()\n",
        "            if z_sum != 0.:\n",
        "                z_new[i,:,:] = z_new[i,:,:]/z_sum\n",
        "\n",
        "    #print( \"Reshaping\" )\n",
        "    #z_out = z_new.reshape( (z_new.shape[0],-1) )\n",
        "\n",
        "    return z_new#z_out"
      ]
    },
    {
      "cell_type": "code",
      "execution_count": 8,
      "id": "30ed4aad",
      "metadata": {
        "colab": {
          "base_uri": "https://localhost:8080/"
        },
        "id": "30ed4aad",
        "outputId": "1e19b02d-1be0-418d-94a5-48bcf519db71"
      },
      "outputs": [
        {
          "output_type": "stream",
          "name": "stdout",
          "text": [
            "Crop constituents\n",
            "Calculating pT\n",
            "Calculating eta\n",
            "Calculating phi\n",
            "Calculating the mass\n",
            "Pre-shifting the phis\n",
            "Using pT as weight\n",
            "Preprocessing\n",
            "Creating images\n",
            "Cropping and normalising\n",
            "Crop constituents\n",
            "Calculating pT\n",
            "Calculating eta\n",
            "Calculating phi\n",
            "Calculating the mass\n",
            "Pre-shifting the phis\n",
            "Using pT as weight\n",
            "Preprocessing\n",
            "Creating images\n",
            "Cropping and normalising\n",
            "Crop constituents\n",
            "Calculating pT\n",
            "Calculating eta\n",
            "Calculating phi\n",
            "Calculating the mass\n",
            "Pre-shifting the phis\n",
            "Using pT as weight\n",
            "Preprocessing\n",
            "Creating images\n",
            "Cropping and normalising\n",
            "Crop constituents\n",
            "Calculating pT\n",
            "Calculating eta\n",
            "Calculating phi\n",
            "Calculating the mass\n",
            "Pre-shifting the phis\n",
            "Using pT as weight\n",
            "Preprocessing\n",
            "Creating images\n",
            "Cropping and normalising\n",
            "Crop constituents\n",
            "Calculating pT\n",
            "Calculating eta\n",
            "Calculating phi\n",
            "Calculating the mass\n",
            "Pre-shifting the phis\n",
            "Using pT as weight\n",
            "Preprocessing\n",
            "Creating images\n",
            "Cropping and normalising\n"
          ]
        }
      ],
      "source": [
        "z_train = constit_to_img( X_train, 50, True, True, True )\n",
        "z_train = z_train.reshape( (z_train.shape[0],-1) )\n",
        "z_train_qcd = constit_to_img( X_train_qcd, 50, True, True, True )\n",
        "z_train_qcd = z_train_qcd.reshape( (z_train_qcd.shape[0],-1) )\n",
        "z_val = constit_to_img( X_val, 50, True, True, True )\n",
        "z_val = z_val.reshape( (z_val.shape[0],-1) )\n",
        "z_val_qcd = constit_to_img( X_val_qcd, 50, True, True, True )\n",
        "z_val_qcd = z_val_qcd.reshape( (z_val_qcd.shape[0],-1) )\n",
        "z_test = constit_to_img( X_test, 50, True, True, True )\n",
        "z_test = z_test.reshape( (z_test.shape[0],-1) )"
      ]
    },
    {
      "cell_type": "code",
      "execution_count": 9,
      "id": "f44446a2",
      "metadata": {
        "colab": {
          "base_uri": "https://localhost:8080/"
        },
        "id": "f44446a2",
        "outputId": "0552873c-0e22-44fe-9c53-b4e561e25908"
      },
      "outputs": [
        {
          "output_type": "stream",
          "name": "stdout",
          "text": [
            "Train data shape: (30000, 1600)\n",
            "Train data (qcd-only) shape: (14960, 1600)\n",
            "Val data shape: (30000, 1600)\n",
            "Val data (qcd-only) shape: (14460, 1600)\n",
            "Test data shape: (30000, 1600)\n"
          ]
        }
      ],
      "source": [
        "print( \"Train data shape: \" + str(z_train.shape) )\n",
        "print( \"Train data (qcd-only) shape: \" + str(z_train_qcd.shape) )\n",
        "print( \"Val data shape: \" + str(z_val.shape) )\n",
        "print( \"Val data (qcd-only) shape: \" + str(z_val_qcd.shape) )\n",
        "print( \"Test data shape: \" + str(z_test.shape) )"
      ]
    },
    {
      "cell_type": "code",
      "execution_count": 10,
      "id": "0f77bbaf",
      "metadata": {
        "id": "0f77bbaf"
      },
      "outputs": [],
      "source": [
        "z_train_p = torch.Tensor( z_train )\n",
        "z_train_qcd_p = torch.Tensor( z_train_qcd )\n",
        "z_val_p = torch.Tensor( z_val )\n",
        "z_val_qcd_p = torch.Tensor( z_val_qcd )\n",
        "z_test_p = torch.Tensor( z_test )\n",
        "y_train_p = torch.Tensor( y_train )\n",
        "y_val_p = torch.Tensor( y_val )\n",
        "y_test_p = torch.Tensor( y_test )"
      ]
    },
    {
      "cell_type": "code",
      "execution_count": 11,
      "id": "7b31914e",
      "metadata": {
        "id": "7b31914e"
      },
      "outputs": [],
      "source": [
        "class topcloud_bkg_dataset( Dataset ):\n",
        "\n",
        "    def __init__( self, data ):\n",
        "        self.data = data\n",
        "        self.labels = torch.Tensor( [ 0.0 for i in range(len(data)) ] )\n",
        "\n",
        "    def __len__(self):\n",
        "        return len(self.labels)\n",
        "\n",
        "    def __getitem__(self, idx):\n",
        "        return self.data[idx], self.labels[idx]\n",
        "\n",
        "class topcloud_sig_dataset( Dataset ):\n",
        "\n",
        "    def __init__( self, data, labels ):\n",
        "        self.data = data\n",
        "        self.labels = labels\n",
        "\n",
        "    def __len__(self):\n",
        "        return len(self.labels)\n",
        "\n",
        "    def __getitem__(self, idx):\n",
        "        return self.data[idx], self.labels[idx]"
      ]
    },
    {
      "cell_type": "code",
      "execution_count": 12,
      "id": "b3838d26",
      "metadata": {
        "id": "b3838d26"
      },
      "outputs": [],
      "source": [
        "trn_dataset = topcloud_bkg_dataset( z_train_qcd_p )\n",
        "val_dataset = topcloud_bkg_dataset( z_val_qcd_p )\n",
        "tst_dataset = topcloud_sig_dataset( z_test_p, y_test_p.unsqueeze(-1) )"
      ]
    },
    {
      "cell_type": "code",
      "execution_count": 13,
      "id": "feea64af",
      "metadata": {
        "id": "feea64af"
      },
      "outputs": [],
      "source": [
        "trn_dataloader = DataLoader( trn_dataset, batch_size=64, shuffle=True )\n",
        "val_dataloader = DataLoader( val_dataset, batch_size=64, shuffle=False )\n",
        "tst_dataloader = DataLoader( tst_dataset, batch_size=64, shuffle=False )"
      ]
    },
    {
      "cell_type": "code",
      "execution_count": 14,
      "id": "a7b96b36",
      "metadata": {
        "id": "a7b96b36"
      },
      "outputs": [],
      "source": [
        "class JetAutoEncoder( torch.nn.Module ):\n",
        "\n",
        "    def __init__( self, data_dim, hiddenlayer_size, bottleneck_size ):\n",
        "        super( JetAutoEncoder, self ).__init__()\n",
        "\n",
        "        self.enc_layer1 = nn.Linear( data_dim, hiddenlayer_size )\n",
        "        self.enc_relu_1 = nn.ReLU()\n",
        "        self.enc_layer2 = nn.Linear( hiddenlayer_size, hiddenlayer_size )\n",
        "        self.enc_relu_2 = nn.ReLU()\n",
        "        self.enc_layer3 = nn.Linear( hiddenlayer_size, bottleneck_size )\n",
        "\n",
        "        self.dec_layer1 = nn.Linear( bottleneck_size, hiddenlayer_size )\n",
        "        self.dec_relu_1 = nn.ReLU()\n",
        "        self.dec_layer2 = nn.Linear( hiddenlayer_size, hiddenlayer_size )\n",
        "        self.dec_relu_2 = nn.ReLU()\n",
        "        self.dec_layer3 = nn.Linear( hiddenlayer_size, data_dim )\n",
        "\n",
        "\n",
        "    def forward( self, batch ):\n",
        "\n",
        "        x = self.encode( batch )\n",
        "        x = self.decode( x )\n",
        "\n",
        "        return x\n",
        "\n",
        "    def encode( self, batch ):\n",
        "\n",
        "        x = self.enc_layer1( batch )\n",
        "        x = self.enc_relu_1( x )\n",
        "        x = self.enc_layer2( x )\n",
        "        x = self.enc_relu_2( x )\n",
        "        x = self.enc_layer3( x )\n",
        "\n",
        "        return x\n",
        "\n",
        "    def decode( self, batch ):\n",
        "\n",
        "        x = self.dec_layer1( batch )\n",
        "        x = self.dec_relu_1( x )\n",
        "        x = self.dec_layer2( x )\n",
        "        x = self.dec_relu_2( x )\n",
        "        x = self.dec_layer3( x )\n",
        "\n",
        "        return x"
      ]
    },
    {
      "cell_type": "code",
      "execution_count": 15,
      "id": "e7058276",
      "metadata": {
        "id": "e7058276"
      },
      "outputs": [],
      "source": [
        "loss_fn = nn.MSELoss()"
      ]
    },
    {
      "cell_type": "code",
      "execution_count": 16,
      "id": "cb134bab",
      "metadata": {
        "id": "cb134bab"
      },
      "outputs": [],
      "source": [
        "def train_epoch( dataloader, model, loss_fn, optimizer ):\n",
        "\n",
        "    size = len( dataloader.dataset )\n",
        "\n",
        "    for batch, (X, y) in enumerate(dataloader):\n",
        "\n",
        "        # pass data through network\n",
        "        pred = model(X)\n",
        "\n",
        "        # compute loss\n",
        "        loss = loss_fn( X, pred )\n",
        "\n",
        "        # reset gradients in optimizer\n",
        "        optimizer.zero_grad()\n",
        "\n",
        "        # compute gradients\n",
        "        loss.backward()\n",
        "\n",
        "        # update weights with optimizer\n",
        "        optimizer.step()\n",
        "\n",
        "        # print the training loss every 100 updates\n",
        "        #if batch % 100 == 0:\n",
        "        #    loss, current = loss.item(), batch * len(X)\n",
        "        #    print( f\"current batch loss: {loss:>7f}  [{current:>5d}/{size:>5d}]\" )"
      ]
    },
    {
      "cell_type": "code",
      "execution_count": 17,
      "id": "4b902ec2",
      "metadata": {
        "id": "4b902ec2"
      },
      "outputs": [],
      "source": [
        "def val_pass( dataloader, model, loss_fn ):\n",
        "\n",
        "    size = len( dataloader.dataset )\n",
        "    num_batches = len( dataloader )\n",
        "    vl = 0.0\n",
        "\n",
        "    # we don't need gradients here since we only use the forward pass\n",
        "    with torch.no_grad():\n",
        "        for X, y in dataloader:\n",
        "            pred = model( X )\n",
        "            vl += loss_fn( X, pred ).item()\n",
        "\n",
        "    vl /= num_batches\n",
        "    #print( f\"avg val loss per batch: {vl:>8f}\" )\n",
        "\n",
        "    return vl\n",
        "\n",
        "def trn_pass( dataloader, model, loss_fn ):\n",
        "\n",
        "    size = len( dataloader.dataset )\n",
        "    num_batches = len( dataloader )\n",
        "    tl = 0.0\n",
        "\n",
        "    # we don't need gradients here since we only use the forward pass\n",
        "    with torch.no_grad():\n",
        "        for X, y in dataloader:\n",
        "            pred = model( X )\n",
        "            tl += loss_fn( X, pred ).item()\n",
        "\n",
        "    tl /= num_batches\n",
        "    #print( f\"avg trn loss per batch: {tl:>8f}\" )\n",
        "\n",
        "    return tl"
      ]
    },
    {
      "cell_type": "markdown",
      "id": "d6ca2b5e",
      "metadata": {
        "id": "d6ca2b5e"
      },
      "source": [
        "# (b)\n",
        "\n",
        "We initialize our network with the parameters given in (a) and train it for 100 epochs on the qcd train dataset. We also use only the qcd jets of the validation set for validation. After training we plot the train and validation loss against the epochs. We use MSE loss and Adam optimizer with a learning rate of 0.001."
      ]
    },
    {
      "cell_type": "code",
      "execution_count": 18,
      "id": "8dbf7686",
      "metadata": {
        "colab": {
          "base_uri": "https://localhost:8080/",
          "height": 304,
          "referenced_widgets": [
            "eb5903aef93b4d23902c71730da9584d",
            "7fc4d210920f4859a62239783c8014c2",
            "a7aeed26c5d842d29a99ae8a14e4f1e4",
            "00d09a6c0b814ed0af6aa67f61e495d0",
            "c8b27d2bffcf45af967b0f4b577c1dbc",
            "afa07f23bb814668aafd0f5b261496a9",
            "a191ecc3300145da81d59a33aecbcefd",
            "bd11b1c4036e42a48eeaeed73a4ca690",
            "9a5e62cbdf1e456991ca2882b08d16b1",
            "1101f8e51730456ebe5ebfd0352775f6",
            "029fdd13e1524ff79986b5aa56f683b7"
          ]
        },
        "id": "8dbf7686",
        "outputId": "0ce4eccb-acef-467f-8ec6-8f502f5ca40c"
      },
      "outputs": [
        {
          "output_type": "stream",
          "name": "stdout",
          "text": [
            "-----------------------------------------------\n",
            "model architecture \n",
            "-----------------------------------------------\n",
            "JetAutoEncoder(\n",
            "  (enc_layer1): Linear(in_features=1600, out_features=400, bias=True)\n",
            "  (enc_relu_1): ReLU()\n",
            "  (enc_layer2): Linear(in_features=400, out_features=400, bias=True)\n",
            "  (enc_relu_2): ReLU()\n",
            "  (enc_layer3): Linear(in_features=400, out_features=20, bias=True)\n",
            "  (dec_layer1): Linear(in_features=20, out_features=400, bias=True)\n",
            "  (dec_relu_1): ReLU()\n",
            "  (dec_layer2): Linear(in_features=400, out_features=400, bias=True)\n",
            "  (dec_relu_2): ReLU()\n",
            "  (dec_layer3): Linear(in_features=400, out_features=1600, bias=True)\n",
            ")\n"
          ]
        },
        {
          "output_type": "display_data",
          "data": {
            "text/plain": [
              "  0%|          | 0/100 [00:00<?, ?it/s]"
            ],
            "application/vnd.jupyter.widget-view+json": {
              "version_major": 2,
              "version_minor": 0,
              "model_id": "eb5903aef93b4d23902c71730da9584d"
            }
          },
          "metadata": {}
        }
      ],
      "source": [
        "# a useful function to present things clearer\n",
        "def separator():\n",
        "    print( \"-----------------------------------------------\" )\n",
        "\n",
        "epochs = 100\n",
        "\n",
        "# initialise the model and the optimizer\n",
        "model = JetAutoEncoder( 1600, 400, 20 )\n",
        "learning_rate = 0.001\n",
        "optimizer = torch.optim.Adam( model.parameters(), lr=learning_rate )\n",
        "separator()\n",
        "print( \"model architecture \")\n",
        "separator()\n",
        "print( model )\n",
        "\n",
        "# track train and val losses\n",
        "trn_losses = []\n",
        "val_losses = []\n",
        "\n",
        "for t in tqdm(range(epochs)):\n",
        "    train_epoch( trn_dataloader, model, loss_fn, optimizer )\n",
        "    trn_loss = trn_pass( trn_dataloader, model, loss_fn )\n",
        "    trn_losses.append( trn_loss )\n",
        "    val_loss = val_pass( val_dataloader, model, loss_fn )\n",
        "    val_losses.append( val_loss )"
      ]
    },
    {
      "cell_type": "code",
      "execution_count": 19,
      "id": "302fd8df",
      "metadata": {
        "colab": {
          "base_uri": "https://localhost:8080/",
          "height": 507
        },
        "id": "302fd8df",
        "outputId": "fec96980-cd3e-44c8-dc65-d8dd8b3a7f9e"
      },
      "outputs": [
        {
          "output_type": "display_data",
          "data": {
            "text/plain": [
              "<Figure size 700x500 with 1 Axes>"
            ],
            "image/png": "[encoded data removed]"
          },
          "metadata": {}
        }
      ],
      "source": [
        "fig, axs = plt.subplots( 1, 1, figsize=(7,5) )\n",
        "\n",
        "axs.plot( trn_losses, label=\"train loss\", color=\"red\" )\n",
        "axs.plot( val_losses, label=\"val   loss\", color=\"green\" )\n",
        "\n",
        "axs.set_yscale('log')\n",
        "\n",
        "axs.set_xlabel( \"epoch\" )\n",
        "axs.set_ylabel( \"MSE\" )\n",
        "\n",
        "xticks = [ int(x) for x in axs.get_xticks() ]\n",
        "axs.set_xticklabels( xticks )\n",
        "\n",
        "yticks = axs.get_yticks()\n",
        "\n",
        "axs.legend( loc='best' )\n",
        "\n",
        "fig.tight_layout()"
      ]
    },
    {
      "cell_type": "markdown",
      "id": "d847b3b9",
      "metadata": {
        "id": "d847b3b9"
      },
      "source": [
        "We observe that both our train and validation loss decrease without deviating much from eachother and also without any stagnation. Thus we can assume that our network indeed learn something."
      ]
    },
    {
      "cell_type": "markdown",
      "id": "0fe6a4e0",
      "metadata": {
        "id": "0fe6a4e0"
      },
      "source": [
        "# (c)\n",
        "\n",
        "Now we look at the first 4 qcd and top jets of our test dataset. For all 8 images we plot the original image as well as the predicted image of our model."
      ]
    },
    {
      "cell_type": "code",
      "execution_count": 20,
      "id": "06c6791e",
      "metadata": {
        "id": "06c6791e"
      },
      "outputs": [],
      "source": [
        "n_jets = 4\n",
        "in_qcd_jets = z_test_p[ y_test==0.0 ][ 0:4 ]\n",
        "in_top_jets = z_test_p[ y_test==1.0 ][ 0:4 ]\n",
        "out_qcd_jets = model( in_qcd_jets ).detach().numpy()\n",
        "out_top_jets = model( in_top_jets ).detach().numpy()\n",
        "in_qcd_jets = in_qcd_jets.detach().numpy()\n",
        "in_top_jets = in_top_jets.detach().numpy()"
      ]
    },
    {
      "cell_type": "code",
      "execution_count": 21,
      "id": "abcd8915",
      "metadata": {
        "colab": {
          "base_uri": "https://localhost:8080/",
          "height": 606
        },
        "id": "abcd8915",
        "outputId": "ec36fc87-f9b1-4b4c-ddef-125f583916d2"
      },
      "outputs": [
        {
          "output_type": "display_data",
          "data": {
            "text/plain": [
              "<Figure size 2100x800 with 8 Axes>"
            ],
            "image/png": "[encoded data removed]"
          },
          "metadata": {}
        }
      ],
      "source": [
        "fig, axs = plt.subplots(2, 4, figsize=(21,8))\n",
        "\n",
        "for i in range(4):\n",
        "    axs[0][i].imshow( in_qcd_jets[i].reshape(40,40), cmap='gist_heat_r',  vmin=0.0, vmax=0.4 )\n",
        "    axs[1][i].imshow( out_qcd_jets[i].reshape(40,40), cmap='gist_heat_r',  vmin=0.0, vmax=0.4 )\n",
        "    axs[0][i].set_xlabel( '$\\eta$' )\n",
        "    axs[0][i].set_ylabel( '$\\phi$' )\n",
        "    axs[1][i].set_xlabel( '$\\eta$' )\n",
        "    axs[1][i].set_ylabel( '$\\phi$')\n",
        "    axs[0][i].text( 38, 4, \"input QCD\", ha='right' )\n",
        "    axs[0][i].tick_params( )\n",
        "    axs[1][i].text( 38, 4, \"reconstructed QCD\", ha='right' )\n",
        "    axs[1][i].tick_params( )\n",
        "\n",
        "fig.tight_layout()\n",
        "fig.show()"
      ]
    },
    {
      "cell_type": "code",
      "execution_count": 22,
      "id": "6fa6140c",
      "metadata": {
        "colab": {
          "base_uri": "https://localhost:8080/",
          "height": 606
        },
        "id": "6fa6140c",
        "outputId": "30b0db3a-3166-45df-d82c-4a064d472c7c"
      },
      "outputs": [
        {
          "output_type": "display_data",
          "data": {
            "text/plain": [
              "<Figure size 2100x800 with 8 Axes>"
            ],
            "image/png": "[encoded data removed]"
          },
          "metadata": {}
        }
      ],
      "source": [
        "fig, axs = plt.subplots(2, 4, figsize=(21,8))\n",
        "\n",
        "for i in range(4):\n",
        "    axs[0][i].imshow( in_top_jets[i].reshape(40,40), cmap='gist_heat_r', vmin=0.0, vmax=0.4 )\n",
        "    axs[1][i].imshow( out_top_jets[i].reshape(40,40), cmap='gist_heat_r',  vmin=0.0, vmax=0.4 )\n",
        "    axs[0][i].set_xlabel( '$\\eta$' )\n",
        "    axs[0][i].set_ylabel( '$\\phi$' )\n",
        "    axs[1][i].set_xlabel( '$\\eta$' )\n",
        "    axs[1][i].set_ylabel( '$\\phi$' )\n",
        "    axs[0][i].text( 38, 4, \"input top\", ha='right' )\n",
        "    axs[0][i].tick_params( )\n",
        "    axs[1][i].text( 38, 4, \"reconstructed top\", ha='right' )\n",
        "    axs[1][i].tick_params( )\n",
        "\n",
        "\n",
        "fig.tight_layout()\n",
        "fig.show()"
      ]
    },
    {
      "cell_type": "markdown",
      "id": "d8f3fe2f",
      "metadata": {
        "id": "d8f3fe2f"
      },
      "source": [
        "We observe, that for both QCD and Top jets our network is able to predict constituents with a high pT value (at least high compared to all other constituents) accuratly. However, for QCD jets it predicts the other constituents better than for Top jets. This can be seen when we look at the first three QCD jets, where the other constituents are captured still reasonably well, and then compare it with the second and third top jet, where we clearly observe a worse prediction (we compare these jets since they have a constituent with high pT). That QCD jets are better reconstructed is expected because we train the autoencoder only on QCD jets and not om Top jets."
      ]
    },
    {
      "cell_type": "markdown",
      "id": "e26d7373",
      "metadata": {
        "id": "e26d7373"
      },
      "source": [
        "# (d)"
      ]
    },
    {
      "cell_type": "code",
      "execution_count": 23,
      "id": "887bb742",
      "metadata": {
        "id": "887bb742"
      },
      "outputs": [],
      "source": [
        "test_pred = model( z_test_p ).detach()\n",
        "\n",
        "test_loss = nn.MSELoss( reduce=False )\n",
        "test_mse = test_loss( test_pred, z_test_p )"
      ]
    },
    {
      "cell_type": "code",
      "execution_count": 24,
      "id": "10826a2a",
      "metadata": {
        "colab": {
          "base_uri": "https://localhost:8080/"
        },
        "id": "10826a2a",
        "outputId": "aec63f72-ce7e-4ad0-93f1-42888f589b7b"
      },
      "outputs": [
        {
          "output_type": "execute_result",
          "data": {
            "text/plain": [
              "torch.Size([30000, 1600])"
            ]
          },
          "metadata": {},
          "execution_count": 24
        }
      ],
      "source": [
        "test_mse.shape"
      ]
    },
    {
      "cell_type": "code",
      "execution_count": 25,
      "id": "ae69f58d",
      "metadata": {
        "id": "ae69f58d"
      },
      "outputs": [],
      "source": [
        "test_mse = torch.mean( test_mse, dim=-1)"
      ]
    },
    {
      "cell_type": "code",
      "execution_count": 26,
      "id": "d1b10dae",
      "metadata": {
        "id": "d1b10dae"
      },
      "outputs": [],
      "source": [
        "n_jets = 4\n",
        "in_qcd_jets = z_test_p[ y_test==0.0 ][ 0:4 ]\n",
        "in_top_jets = z_test_p[ y_test==1.0 ][ 0:4 ]\n",
        "out_qcd_jets = model( in_qcd_jets )\n",
        "out_top_jets = model( in_top_jets )\n",
        "mse_qcd_jets = test_loss( in_qcd_jets, out_qcd_jets ).detach().numpy()\n",
        "mse_top_jets = test_loss( in_top_jets, out_top_jets ).detach().numpy()\n",
        "in_qcd_jets = in_qcd_jets.detach().numpy()\n",
        "in_top_jets = in_top_jets.detach().numpy()"
      ]
    },
    {
      "cell_type": "code",
      "execution_count": 27,
      "id": "bdb87524",
      "metadata": {
        "colab": {
          "base_uri": "https://localhost:8080/",
          "height": 606
        },
        "id": "bdb87524",
        "outputId": "24b192c1-7510-4e3d-c0b9-1541d38fdd57"
      },
      "outputs": [
        {
          "output_type": "display_data",
          "data": {
            "text/plain": [
              "<Figure size 2100x800 with 8 Axes>"
            ],
            "image/png": "[encoded data removed]"
          },
          "metadata": {}
        }
      ],
      "source": [
        "fig, axs = plt.subplots(2, 4, figsize=(21,8))\n",
        "\n",
        "for i in range(4):\n",
        "    axs[0][i].imshow( mse_qcd_jets[i].reshape(40,40), cmap='gist_heat_r',  vmin=0.0, vmax=0.01 )\n",
        "    axs[1][i].imshow( mse_top_jets[i].reshape(40,40), cmap='gist_heat_r',  vmin=0.0, vmax=0.01 )\n",
        "    axs[0][i].set_xlabel( '$\\eta$' )\n",
        "    axs[0][i].set_ylabel( '$\\phi$' )\n",
        "    axs[1][i].set_xlabel( '$\\eta$' )\n",
        "    axs[1][i].set_ylabel( '$\\phi$' )\n",
        "    axs[0][i].text( 38, 4, \"MSE QCD\", ha='right' )\n",
        "    axs[0][i].tick_params( )\n",
        "    axs[1][i].text( 38, 4, \"MSE top\", ha='right' )\n",
        "    axs[1][i].tick_params( )\n",
        "\n",
        "fig.tight_layout()\n",
        "fig.show()"
      ]
    },
    {
      "cell_type": "code",
      "execution_count": 28,
      "id": "ff6cfa84",
      "metadata": {
        "id": "ff6cfa84"
      },
      "outputs": [],
      "source": [
        "from sklearn.metrics import roc_curve, roc_auc_score\n",
        "\n",
        "def closest_point(array, tpr_p=0.3):\n",
        "    dist = ((array-tpr_p)**2)\n",
        "    return np.argmin(dist)"
      ]
    },
    {
      "cell_type": "code",
      "execution_count": 29,
      "id": "19b8546a",
      "metadata": {
        "colab": {
          "base_uri": "https://localhost:8080/",
          "height": 469
        },
        "id": "19b8546a",
        "outputId": "3f4d25c7-e391-4e4c-d9e0-dc0cbecab39e"
      },
      "outputs": [
        {
          "output_type": "display_data",
          "data": {
            "text/plain": [
              "<Figure size 1400x500 with 2 Axes>"
            ],
            "image/png": "[encoded data removed]"
          },
          "metadata": {}
        }
      ],
      "source": [
        "fig, ax = plt.subplots(1, 2, figsize=(14,5))\n",
        "\n",
        "fpr, tpr, th = roc_curve(y_test, test_mse)\n",
        "auc_score = roc_auc_score(y_test, test_mse)\n",
        "rnd_class = np.linspace(0, 1, 100)\n",
        "\n",
        "ax[0].plot(fpr, tpr, label='AUC = {:.2f}'.format(auc_score) )\n",
        "ax[0].plot(rnd_class, rnd_class, '--', label='Rnd classifier')\n",
        "ax[1].plot(tpr, 1/fpr, label='AUC = {:.2f}\\n $1/\\epsilon_{{bkg}}$(0.3) = {:.0f}'.format(auc_score, 1/fpr[closest_point(tpr, tpr_p=0.3)]))\n",
        "ax[1].plot(rnd_class, 1/rnd_class, '--', label='Rnd classifier')\n",
        "ax[1].set_yscale('log')\n",
        "\n",
        "ax[0].set_xlabel('$\\epsilon_{bkg}$ - FPR')\n",
        "ax[0].set_ylabel('$\\epsilon_{s}$ - TPR')\n",
        "\n",
        "ax[1].set_xlabel('$\\epsilon_{s}$ - TPR')\n",
        "ax[1].set_ylabel('1/$\\epsilon_{bkg}$ - Inverse FPR')\n",
        "for i in range(len(ax)):\n",
        "    ax[i].legend()\n",
        "    ax[i].tick_params()\n",
        "    ax[i].grid('on')"
      ]
    },
    {
      "cell_type": "markdown",
      "id": "068d423e",
      "metadata": {
        "id": "068d423e"
      },
      "source": [
        "Looking at the pixel-wise MSE shows as well that QCD jets are better reconstructed, because we have fewer pixels with large deviations. Plotting the ROC curve we get AUC = 0.87, which means, that our autoencoder is able to distinguish between QCD and Top jets reasonably well although not perfectly (then AUC would be 1)."
      ]
    },
    {
      "cell_type": "markdown",
      "id": "a752dd24",
      "metadata": {
        "id": "a752dd24"
      },
      "source": [
        "# (e)\n",
        "\n",
        "## (a)"
      ]
    },
    {
      "cell_type": "code",
      "execution_count": 30,
      "id": "34dc0b19",
      "metadata": {
        "colab": {
          "base_uri": "https://localhost:8080/"
        },
        "id": "34dc0b19",
        "outputId": "d0a1070e-cee8-47ae-e7a6-9af38a847872"
      },
      "outputs": [
        {
          "output_type": "stream",
          "name": "stdout",
          "text": [
            "Crop constituents\n",
            "Calculating pT\n",
            "Calculating eta\n",
            "Calculating phi\n",
            "Calculating the mass\n",
            "Pre-shifting the phis\n",
            "Using pT as weight\n",
            "Preprocessing\n",
            "Creating images\n",
            "Cropping and normalising\n",
            "Crop constituents\n",
            "Calculating pT\n",
            "Calculating eta\n",
            "Calculating phi\n",
            "Calculating the mass\n",
            "Pre-shifting the phis\n",
            "Using pT as weight\n",
            "Preprocessing\n",
            "Creating images\n",
            "Cropping and normalising\n",
            "Crop constituents\n",
            "Calculating pT\n",
            "Calculating eta\n",
            "Calculating phi\n",
            "Calculating the mass\n",
            "Pre-shifting the phis\n",
            "Using pT as weight\n",
            "Preprocessing\n",
            "Creating images\n",
            "Cropping and normalising\n",
            "Crop constituents\n",
            "Calculating pT\n",
            "Calculating eta\n",
            "Calculating phi\n",
            "Calculating the mass\n",
            "Pre-shifting the phis\n",
            "Using pT as weight\n",
            "Preprocessing\n",
            "Creating images\n",
            "Cropping and normalising\n",
            "Crop constituents\n",
            "Calculating pT\n",
            "Calculating eta\n",
            "Calculating phi\n",
            "Calculating the mass\n",
            "Pre-shifting the phis\n",
            "Using pT as weight\n",
            "Preprocessing\n",
            "Creating images\n",
            "Cropping and normalising\n"
          ]
        }
      ],
      "source": [
        "z_train = constit_to_img( X_train, 50, True, True, True )\n",
        "z_train_qcd = constit_to_img( X_train_qcd, 50, True, True, True )\n",
        "z_val = constit_to_img( X_val, 50, True, True, True )\n",
        "z_val_qcd = constit_to_img( X_val_qcd, 50, True, True, True )\n",
        "z_test = constit_to_img( X_test, 50, True, True, True )"
      ]
    },
    {
      "cell_type": "code",
      "execution_count": 31,
      "id": "9e675646",
      "metadata": {
        "colab": {
          "base_uri": "https://localhost:8080/"
        },
        "id": "9e675646",
        "outputId": "a4daa568-158f-43f7-f0f2-db740203e87d"
      },
      "outputs": [
        {
          "output_type": "stream",
          "name": "stdout",
          "text": [
            "Train data shape: (30000, 40, 40)\n",
            "Train data (qcd-only) shape: (14960, 40, 40)\n",
            "Val data shape: (30000, 40, 40)\n",
            "Val data (qcd-only) shape: (14460, 40, 40)\n",
            "Test data shape: (30000, 40, 40)\n"
          ]
        }
      ],
      "source": [
        "print( \"Train data shape: \" + str(z_train.shape) )\n",
        "print( \"Train data (qcd-only) shape: \" + str(z_train_qcd.shape) )\n",
        "print( \"Val data shape: \" + str(z_val.shape) )\n",
        "print( \"Val data (qcd-only) shape: \" + str(z_val_qcd.shape) )\n",
        "print( \"Test data shape: \" + str(z_test.shape) )"
      ]
    },
    {
      "cell_type": "code",
      "execution_count": 32,
      "id": "207f9364",
      "metadata": {
        "id": "207f9364"
      },
      "outputs": [],
      "source": [
        "z_train_p = torch.Tensor( z_train.reshape(-1, 1, 40,40) )\n",
        "z_train_qcd_p = torch.Tensor( z_train_qcd.reshape(-1, 1, 40,40) )\n",
        "z_val_p = torch.Tensor( z_val.reshape(-1, 1, 40,40) )\n",
        "z_val_qcd_p = torch.Tensor( z_val_qcd.reshape(-1, 1, 40,40) )\n",
        "z_test_p = torch.Tensor( z_test.reshape(-1, 1, 40,40) )\n",
        "y_train_p = torch.Tensor( y_train ).unsqueeze(-1)\n",
        "y_val_p = torch.Tensor( y_val ).unsqueeze(-1)\n",
        "y_test_p = torch.Tensor( y_test ).unsqueeze(-1)"
      ]
    },
    {
      "cell_type": "code",
      "execution_count": 33,
      "id": "121a6b8b",
      "metadata": {
        "id": "121a6b8b"
      },
      "outputs": [],
      "source": [
        "trn_dataset = topcloud_bkg_dataset( z_train_qcd_p )\n",
        "val_dataset = topcloud_bkg_dataset( z_val_qcd_p )\n",
        "tst_dataset = topcloud_sig_dataset( z_test_p, y_test_p.unsqueeze(-1) )"
      ]
    },
    {
      "cell_type": "code",
      "execution_count": 34,
      "id": "4318fd4b",
      "metadata": {
        "id": "4318fd4b"
      },
      "outputs": [],
      "source": [
        "trn_dataloader = DataLoader( trn_dataset, batch_size=64, shuffle=True )\n",
        "val_dataloader = DataLoader( val_dataset, batch_size=64, shuffle=False )\n",
        "tst_dataloader = DataLoader( tst_dataset, batch_size=64, shuffle=False )"
      ]
    },
    {
      "cell_type": "code",
      "execution_count": 35,
      "id": "1238872d",
      "metadata": {
        "id": "1238872d"
      },
      "outputs": [],
      "source": [
        "class JetCNN( torch.nn.Module ):\n",
        "\n",
        "    def __init__( self, in_ch=1, ch_1=10, ch_2=5, lin1=2000, lin2=100, bottleneck_size=20, ker_s=5 ):\n",
        "        super( JetCNN, self ).__init__()\n",
        "\n",
        "        self.enc_conv1 = nn.Conv2d( in_ch, ch_1, kernel_size=ker_s, bias=True, stride=1, padding=2 )\n",
        "        self.enc_prelu1 = nn.PReLU()\n",
        "        self.enc_max1 = nn.MaxPool2d(kernel_size=2)\n",
        "        self.enc_conv2 = nn.Conv2d( ch_1, ch_2, kernel_size=ker_s, bias=True, stride=1, padding=2 )\n",
        "        self.enc_prelu2 = nn.PReLU()\n",
        "        # view -> image to flatten\n",
        "        self.enc_layer1 = nn.Linear( lin1, lin2 )\n",
        "        self.enc_prelu3 = nn.PReLU()\n",
        "        self.enc_layer2 = nn.Linear( lin2, bottleneck_size )\n",
        "\n",
        "        self.dec_layer1 = nn.Linear( bottleneck_size, lin2 )\n",
        "        self.dec_prelu1 = nn.PReLU()\n",
        "        self.dec_layer2 = nn.Linear( lin2, lin1 )\n",
        "        self.dec_prelu2 = nn.PReLU()\n",
        "        # view -> flatten to image\n",
        "        self.dec_conv1 = nn.ConvTranspose2d( ch_2, ch_1, kernel_size=ker_s, bias=True, stride=1, padding=2 )\n",
        "        self.dec_prelu3 = nn.PReLU()\n",
        "        self.dec_ups1 = nn.Upsample( scale_factor=2 )\n",
        "        self.dec_conv2 = nn.ConvTranspose2d( ch_1, in_ch, kernel_size=ker_s, bias=True, stride=1, padding=2 )\n",
        "\n",
        "\n",
        "    def forward( self, batch ):\n",
        "\n",
        "        x = self.encode( batch )\n",
        "        x = self.decode( x )\n",
        "\n",
        "        return x\n",
        "\n",
        "    def encode( self, batch ):\n",
        "\n",
        "        x = self.enc_conv1( batch )\n",
        "        x = self.enc_prelu1( x )\n",
        "        x = self.enc_max1( x )\n",
        "        x = self.enc_conv2( x )\n",
        "        x = self.enc_prelu2( x )\n",
        "        x = x.view(-1,2000) # batch size, 5 channels with 20x20 pixels = 2000\n",
        "        x = self.enc_layer1( x )\n",
        "        x = self.enc_prelu3( x )\n",
        "        x = self.enc_layer2( x )\n",
        "\n",
        "        return x\n",
        "\n",
        "    def decode( self, batch ):\n",
        "\n",
        "        x = self.dec_layer1( batch )\n",
        "        x = self.dec_prelu1( x )\n",
        "        x = self.dec_layer2( x )\n",
        "        x = self.dec_prelu2( x )\n",
        "        x = x.view(-1,5,20,20) # batch size, channels = 5, image size = 20x20\n",
        "        x = self.dec_conv1( x )\n",
        "        x = self.dec_prelu3( x )\n",
        "        x = self.dec_ups1( x )\n",
        "        x = self.dec_conv2( x )\n",
        "\n",
        "        return x"
      ]
    },
    {
      "cell_type": "markdown",
      "id": "03ff8be8",
      "metadata": {
        "id": "03ff8be8"
      },
      "source": [
        "Our network looks as follows:\n",
        "\n",
        "1. ) 1@40x40 -> 10@40x40 -> 10@20x20 -> 5@20x20 -> 2000 -> 100 -> 20\n",
        "2. ) 20 -> 100 -> 2000 -> 5@20x20 -> 10@20x20 -> 10@40x40 -> 1@40x40\n",
        "\n",
        "We use PReLU as activation function and a kernel size of 5 for the convolutional layers."
      ]
    },
    {
      "cell_type": "markdown",
      "id": "0df9d386",
      "metadata": {
        "id": "0df9d386"
      },
      "source": [
        "## (b)"
      ]
    },
    {
      "cell_type": "code",
      "execution_count": 36,
      "id": "166e4879",
      "metadata": {
        "colab": {
          "base_uri": "https://localhost:8080/",
          "height": 406,
          "referenced_widgets": [
            "c6b8d8f995004b2182ff7e27f0724f95",
            "d3737da9c4b14a0d8cf4e27a2bc28c31",
            "2bb145a858c044eab7d0a197ad886f8e",
            "7eca837bc8454fe69ad8517dddd193c4",
            "35785eace4644fbeb47eabe90fa137d2",
            "f137fff9a44b40e785b243d7e63f81fc",
            "33d2c968446944e58015e09378d9900c",
            "bbd6d035495849a1ac358f11a9a8c790",
            "9475b9f4d6a5493aa0e44a1e05e19468",
            "c0696c82835e41c1bde2c3f03566feb2",
            "55c45d3c5ff242fa97166232f5b28d05"
          ]
        },
        "id": "166e4879",
        "outputId": "5156cfa5-2c61-48f6-be3b-e59d2c6fc961"
      },
      "outputs": [
        {
          "output_type": "stream",
          "name": "stdout",
          "text": [
            "-----------------------------------------------\n",
            "model architecture \n",
            "-----------------------------------------------\n",
            "JetCNN(\n",
            "  (enc_conv1): Conv2d(1, 10, kernel_size=(5, 5), stride=(1, 1), padding=(2, 2))\n",
            "  (enc_prelu1): PReLU(num_parameters=1)\n",
            "  (enc_max1): MaxPool2d(kernel_size=2, stride=2, padding=0, dilation=1, ceil_mode=False)\n",
            "  (enc_conv2): Conv2d(10, 5, kernel_size=(5, 5), stride=(1, 1), padding=(2, 2))\n",
            "  (enc_prelu2): PReLU(num_parameters=1)\n",
            "  (enc_layer1): Linear(in_features=2000, out_features=100, bias=True)\n",
            "  (enc_prelu3): PReLU(num_parameters=1)\n",
            "  (enc_layer2): Linear(in_features=100, out_features=20, bias=True)\n",
            "  (dec_layer1): Linear(in_features=20, out_features=100, bias=True)\n",
            "  (dec_prelu1): PReLU(num_parameters=1)\n",
            "  (dec_layer2): Linear(in_features=100, out_features=2000, bias=True)\n",
            "  (dec_prelu2): PReLU(num_parameters=1)\n",
            "  (dec_conv1): ConvTranspose2d(5, 10, kernel_size=(5, 5), stride=(1, 1), padding=(2, 2))\n",
            "  (dec_prelu3): PReLU(num_parameters=1)\n",
            "  (dec_ups1): Upsample(scale_factor=2.0, mode='nearest')\n",
            "  (dec_conv2): ConvTranspose2d(10, 1, kernel_size=(5, 5), stride=(1, 1), padding=(2, 2))\n",
            ")\n"
          ]
        },
        {
          "output_type": "display_data",
          "data": {
            "text/plain": [
              "  0%|          | 0/10 [00:00<?, ?it/s]"
            ],
            "application/vnd.jupyter.widget-view+json": {
              "version_major": 2,
              "version_minor": 0,
              "model_id": "c6b8d8f995004b2182ff7e27f0724f95"
            }
          },
          "metadata": {}
        }
      ],
      "source": [
        "loss_fn = nn.MSELoss()\n",
        "epochs = 10\n",
        "\n",
        "# initialise the model and the optimizer\n",
        "model = JetCNN()\n",
        "learning_rate = 0.001\n",
        "optimizer = torch.optim.Adam( model.parameters(), lr=learning_rate )\n",
        "separator()\n",
        "print( \"model architecture \")\n",
        "separator()\n",
        "print( model )\n",
        "\n",
        "# track train and val losses\n",
        "trn_losses = []\n",
        "val_losses = []\n",
        "\n",
        "for t in tqdm(range(epochs)):\n",
        "    train_epoch( trn_dataloader, model, loss_fn, optimizer )\n",
        "    trn_loss = trn_pass( trn_dataloader, model, loss_fn )\n",
        "    trn_losses.append( trn_loss )\n",
        "    val_loss = val_pass( val_dataloader, model, loss_fn )\n",
        "    val_losses.append( val_loss )"
      ]
    },
    {
      "cell_type": "code",
      "execution_count": 37,
      "id": "fa46d826",
      "metadata": {
        "colab": {
          "base_uri": "https://localhost:8080/",
          "height": 507
        },
        "id": "fa46d826",
        "outputId": "d45e0f9c-5133-46f0-8d96-1881f83095fd"
      },
      "outputs": [
        {
          "output_type": "display_data",
          "data": {
            "text/plain": [
              "<Figure size 700x500 with 1 Axes>"
            ],
            "image/png": "[encoded data removed]"
          },
          "metadata": {}
        }
      ],
      "source": [
        "fig, axs = plt.subplots( 1, 1, figsize=(7,5) )\n",
        "\n",
        "axs.plot( trn_losses, label=\"train loss\", color=\"red\" )\n",
        "axs.plot( val_losses, label=\"val   loss\", color=\"green\" )\n",
        "\n",
        "axs.set_yscale('log')\n",
        "\n",
        "axs.set_xlabel( \"epoch\" )\n",
        "axs.set_ylabel( \"MSE\" )\n",
        "\n",
        "xticks = [ int(x) for x in axs.get_xticks() ]\n",
        "axs.set_xticklabels( xticks )\n",
        "\n",
        "yticks = axs.get_yticks()\n",
        "axs.set_yticklabels( yticks )\n",
        "\n",
        "axs.legend( loc='best' )\n",
        "\n",
        "fig.tight_layout()"
      ]
    },
    {
      "cell_type": "markdown",
      "id": "4cb436bc",
      "metadata": {
        "id": "4cb436bc"
      },
      "source": [
        "We see ..."
      ]
    },
    {
      "cell_type": "markdown",
      "id": "ebb10751",
      "metadata": {
        "id": "ebb10751"
      },
      "source": [
        "## (c)"
      ]
    },
    {
      "cell_type": "code",
      "execution_count": 38,
      "id": "a2b72941",
      "metadata": {
        "id": "a2b72941"
      },
      "outputs": [],
      "source": [
        "n_jets = 4\n",
        "in_qcd_jets = z_test_p[ y_test==0.0 ][ 0:4 ]\n",
        "in_top_jets = z_test_p[ y_test==1.0 ][ 0:4 ]\n",
        "out_qcd_jets = model( in_qcd_jets ).detach().view(-1,40,40).numpy()\n",
        "out_top_jets = model( in_top_jets ).detach().view(-1,40,40).numpy()\n",
        "in_qcd_jets = in_qcd_jets.detach().view(-1,40,40).numpy()\n",
        "in_top_jets = in_top_jets.detach().view(-1,40,40).numpy()"
      ]
    },
    {
      "cell_type": "code",
      "execution_count": 39,
      "id": "9bbcf021",
      "metadata": {
        "colab": {
          "base_uri": "https://localhost:8080/",
          "height": 606
        },
        "id": "9bbcf021",
        "outputId": "b56c0ffb-66fa-4486-b773-c1eb9b5671f5"
      },
      "outputs": [
        {
          "output_type": "display_data",
          "data": {
            "text/plain": [
              "<Figure size 2100x800 with 8 Axes>"
            ],
            "image/png": "[encoded data removed]"
          },
          "metadata": {}
        }
      ],
      "source": [
        "fig, axs = plt.subplots(2, 4, figsize=(21,8))\n",
        "\n",
        "for i in range(4):\n",
        "    axs[0][i].imshow( in_qcd_jets[i], cmap='gist_heat_r',  vmin=0.0, vmax=0.4 )\n",
        "    axs[1][i].imshow( out_qcd_jets[i], cmap='gist_heat_r',  vmin=0.0, vmax=0.4 )\n",
        "    axs[0][i].set_xlabel( '$\\eta$' )\n",
        "    axs[0][i].set_ylabel( '$\\phi$' )\n",
        "    axs[1][i].set_xlabel( '$\\eta$' )\n",
        "    axs[1][i].set_ylabel( '$\\phi$' )\n",
        "    axs[0][i].text( 38, 4, \"input QCD\", ha='right' )\n",
        "    axs[0][i].tick_params( )\n",
        "    axs[1][i].text( 38, 4, \"reconstructed QCD\", ha='right' )\n",
        "    axs[1][i].tick_params( )\n",
        "\n",
        "fig.tight_layout()\n",
        "fig.show()"
      ]
    },
    {
      "cell_type": "code",
      "execution_count": 40,
      "id": "b848c206",
      "metadata": {
        "colab": {
          "base_uri": "https://localhost:8080/",
          "height": 606
        },
        "id": "b848c206",
        "outputId": "05ed0b63-9081-47d4-f4e3-34493ffdc820"
      },
      "outputs": [
        {
          "output_type": "display_data",
          "data": {
            "text/plain": [
              "<Figure size 2100x800 with 8 Axes>"
            ],
            "image/png": "[encoded data removed]"
          },
          "metadata": {}
        }
      ],
      "source": [
        "fig, axs = plt.subplots(2, 4, figsize=(21,8))\n",
        "\n",
        "for i in range(4):\n",
        "    axs[0][i].imshow( in_top_jets[i], cmap='gist_heat_r', vmin=0.0, vmax=0.4 )\n",
        "    axs[1][i].imshow( out_top_jets[i], cmap='gist_heat_r',  vmin=0.0, vmax=0.4 )\n",
        "    axs[0][i].set_xlabel( '$\\eta$' )\n",
        "    axs[0][i].set_ylabel( '$\\phi$' )\n",
        "    axs[1][i].set_xlabel( '$\\eta$' )\n",
        "    axs[1][i].set_ylabel( '$\\phi$' )\n",
        "    axs[0][i].text( 38, 4, \"input top\", ha='right' )\n",
        "    axs[0][i].tick_params( )\n",
        "    axs[1][i].text( 38, 4, \"reconstructed top\", ha='right' )\n",
        "    axs[1][i].tick_params( )\n",
        "\n",
        "\n",
        "fig.tight_layout()\n",
        "fig.show()"
      ]
    },
    {
      "cell_type": "markdown",
      "id": "23a82056",
      "metadata": {
        "id": "23a82056"
      },
      "source": [
        "Although we trained our autoencoder on Top jets, it looks like it still predicts QCD jets better."
      ]
    },
    {
      "cell_type": "markdown",
      "id": "30115313",
      "metadata": {
        "id": "30115313"
      },
      "source": [
        "## (d)"
      ]
    },
    {
      "cell_type": "code",
      "execution_count": null,
      "id": "a1b751f0",
      "metadata": {
        "id": "a1b751f0"
      },
      "outputs": [],
      "source": [
        "test_pred = model( z_test_p ).detach().view(-1,40,40)\n",
        "\n",
        "test_loss = nn.MSELoss( reduce=False )\n",
        "test_mse = test_loss( test_pred, z_test_p )"
      ]
    },
    {
      "cell_type": "code",
      "execution_count": null,
      "id": "cd1a3ad7",
      "metadata": {
        "id": "cd1a3ad7"
      },
      "outputs": [],
      "source": [
        "test_mse.shape"
      ]
    },
    {
      "cell_type": "code",
      "execution_count": null,
      "id": "76098939",
      "metadata": {
        "id": "76098939"
      },
      "outputs": [],
      "source": [
        "test_mse = torch.mean( test_mse, dim=-1)"
      ]
    },
    {
      "cell_type": "code",
      "execution_count": null,
      "id": "d7ef5164",
      "metadata": {
        "id": "d7ef5164"
      },
      "outputs": [],
      "source": [
        "n_jets = 4\n",
        "in_qcd_jets = z_test_p[ y_test==0.0 ][ 0:4 ]\n",
        "in_top_jets = z_test_p[ y_test==1.0 ][ 0:4 ]\n",
        "out_qcd_jets = model( in_qcd_jets )\n",
        "out_top_jets = model( in_top_jets )\n",
        "mse_qcd_jets = test_loss( in_qcd_jets, out_qcd_jets ).detach().view(-1,40,40).numpy()\n",
        "mse_top_jets = test_loss( in_top_jets, out_top_jets ).detach().view(-1,40,40).numpy()\n",
        "in_qcd_jets = in_qcd_jets.detach().view(-1,40,40).numpy()\n",
        "in_top_jets = in_top_jets.detach().view(-1,40,40).numpy()"
      ]
    },
    {
      "cell_type": "code",
      "execution_count": null,
      "id": "4552e748",
      "metadata": {
        "id": "4552e748"
      },
      "outputs": [],
      "source": [
        "mse_qcd_jets.shape"
      ]
    },
    {
      "cell_type": "code",
      "execution_count": null,
      "id": "5399fd5a",
      "metadata": {
        "id": "5399fd5a"
      },
      "outputs": [],
      "source": [
        "fig, axs = plt.subplots(2, 4, figsize=(21,8))\n",
        "\n",
        "for i in range(4):\n",
        "    axs[0][i].imshow( mse_qcd_jets[i], cmap='gist_heat_r',  vmin=0.0, vmax=0.01 )\n",
        "    axs[1][i].imshow( mse_top_jets[i], cmap='gist_heat_r',  vmin=0.0, vmax=0.01 )\n",
        "    axs[0][i].set_xlabel( '$\\eta$' )\n",
        "    axs[0][i].set_ylabel( '$\\phi$' )\n",
        "    axs[1][i].set_xlabel( '$\\eta$' )\n",
        "    axs[1][i].set_ylabel( '$\\phi$' )\n",
        "    axs[0][i].text( 38, 4, \"MSE QCD\", ha='right' )\n",
        "    axs[0][i].tick_params( )\n",
        "    axs[1][i].text( 38, 4, \"MSE top\", ha='right' )\n",
        "    axs[1][i].tick_params( )\n",
        "\n",
        "fig.tight_layout()\n",
        "fig.show()"
      ]
    },
    {
      "cell_type": "code",
      "execution_count": null,
      "id": "e407a49e",
      "metadata": {
        "id": "e407a49e"
      },
      "outputs": [],
      "source": [
        "fig, ax = plt.subplots(1, 2, figsize=(14,5))\n",
        "\n",
        "fpr, tpr, th = roc_curve(y_test, test_mse)\n",
        "auc_score = roc_auc_score(y_test, test_mse)\n",
        "rnd_class = np.linspace(0, 1, 100)\n",
        "\n",
        "ax[0].plot(fpr, tpr, label='AUC = {:.2f}'.format(auc_score) )\n",
        "ax[0].plot(rnd_class, rnd_class, '--', label='Rnd classifier')\n",
        "ax[1].plot(tpr, 1/fpr, label='AUC = {:.2f}\\n $1/\\epsilon_{{bkg}}$(0.3) = {:.0f}'.format(auc_score, 1/fpr[closest_point(tpr, tpr_p=0.3)]))\n",
        "ax[1].plot(rnd_class, 1/rnd_class, '--', label='Rnd classifier')\n",
        "ax[1].set_yscale('log')\n",
        "\n",
        "ax[0].set_xlabel('$\\epsilon_{bkg}$ - FPR')\n",
        "ax[0].set_ylabel('$\\epsilon_{s}$ - TPR')\n",
        "\n",
        "ax[1].set_xlabel('$\\epsilon_{s}$ - TPR')\n",
        "ax[1].set_ylabel('1/$\\epsilon_{bkg}$ - Inverse FPR')\n",
        "for i in range(len(ax)):\n",
        "    ax[i].legend()\n",
        "    ax[i].tick_params()\n",
        "    ax[i].grid('on')"
      ]
    },
    {
      "cell_type": "markdown",
      "id": "a963cfd1",
      "metadata": {
        "id": "a963cfd1"
      },
      "source": [
        "We see ..."
      ]
    },
    {
      "cell_type": "markdown",
      "id": "75b13cfd",
      "metadata": {
        "id": "75b13cfd"
      },
      "source": [
        "# (f)\n",
        "\n",
        "We can simply copy the above code and replace \"qcd\" with \"top\". Defined functions and classes don't have to be redefined.\n",
        "\n",
        "## (a) + (b)"
      ]
    },
    {
      "cell_type": "code",
      "execution_count": null,
      "id": "8ad9bb9d",
      "metadata": {
        "id": "8ad9bb9d"
      },
      "outputs": [],
      "source": [
        "X_train_top = X_train[ y_train == 1.0 ]\n",
        "X_val_top = X_val[ y_val == 1.0 ]"
      ]
    },
    {
      "cell_type": "code",
      "execution_count": null,
      "id": "6189024d",
      "metadata": {
        "id": "6189024d"
      },
      "outputs": [],
      "source": [
        "z_train = constit_to_img( X_train, 50, True, True, True )\n",
        "z_train = z_train.reshape( (z_train.shape[0],-1) )\n",
        "z_train_top = constit_to_img( X_train_top, 50, True, True, True )\n",
        "z_train_top = z_train_top.reshape( (z_train_top.shape[0],-1) )\n",
        "z_val = constit_to_img( X_val, 50, True, True, True )\n",
        "z_val = z_val.reshape( (z_val.shape[0],-1) )\n",
        "z_val_top = constit_to_img( X_val_top, 50, True, True, True )\n",
        "z_val_top = z_val_top.reshape( (z_val_top.shape[0],-1) )\n",
        "z_test = constit_to_img( X_test, 50, True, True, True )\n",
        "z_test = z_test.reshape( (z_test.shape[0],-1) )"
      ]
    },
    {
      "cell_type": "code",
      "execution_count": null,
      "id": "52e65446",
      "metadata": {
        "id": "52e65446"
      },
      "outputs": [],
      "source": [
        "print( \"Train data shape: \" + str(z_train.shape) )\n",
        "print( \"Train data (top-only) shape: \" + str(z_train_top.shape) )\n",
        "print( \"Val data shape: \" + str(z_val.shape) )\n",
        "print( \"Val data (top-only) shape: \" + str(z_val_top.shape) )\n",
        "print( \"Test data shape: \" + str(z_test.shape) )"
      ]
    },
    {
      "cell_type": "code",
      "execution_count": null,
      "id": "b63d1aaf",
      "metadata": {
        "id": "b63d1aaf"
      },
      "outputs": [],
      "source": [
        "z_train_p = torch.Tensor( z_train )\n",
        "z_train_top_p = torch.Tensor( z_train_top )\n",
        "z_val_p = torch.Tensor( z_val )\n",
        "z_val_top_p = torch.Tensor( z_val_top )\n",
        "z_test_p = torch.Tensor( z_test )\n",
        "y_train_p = torch.Tensor( y_train )\n",
        "y_val_p = torch.Tensor( y_val )\n",
        "y_test_p = torch.Tensor( y_test )"
      ]
    },
    {
      "cell_type": "code",
      "execution_count": null,
      "id": "e5b5ff0f",
      "metadata": {
        "id": "e5b5ff0f"
      },
      "outputs": [],
      "source": [
        "trn_dataset = topcloud_bkg_dataset( z_train_top_p )\n",
        "val_dataset = topcloud_bkg_dataset( z_val_top_p )\n",
        "tst_dataset = topcloud_sig_dataset( z_test_p, y_test_p.unsqueeze(-1) )"
      ]
    },
    {
      "cell_type": "code",
      "execution_count": null,
      "id": "6ec1578f",
      "metadata": {
        "id": "6ec1578f"
      },
      "outputs": [],
      "source": [
        "trn_dataloader = DataLoader( trn_dataset, batch_size=64, shuffle=True )\n",
        "val_dataloader = DataLoader( val_dataset, batch_size=64, shuffle=False )\n",
        "tst_dataloader = DataLoader( tst_dataset, batch_size=64, shuffle=False )"
      ]
    },
    {
      "cell_type": "code",
      "execution_count": null,
      "id": "e8b7245b",
      "metadata": {
        "id": "e8b7245b"
      },
      "outputs": [],
      "source": [
        "loss_fn = nn.MSELoss()\n",
        "epochs = 100\n",
        "\n",
        "# initialise the model and the optimizer\n",
        "model = JetAutoEncoder( 1600, 400, 20 )\n",
        "learning_rate = 0.001\n",
        "optimizer = torch.optim.Adam( model.parameters(), lr=learning_rate )\n",
        "separator()\n",
        "print( \"model architecture \")\n",
        "separator()\n",
        "print( model )\n",
        "\n",
        "# track train and val losses\n",
        "trn_losses = []\n",
        "val_losses = []\n",
        "\n",
        "for t in tqdm(range(epochs)):\n",
        "    train_epoch( trn_dataloader, model, loss_fn, optimizer )\n",
        "    trn_loss = trn_pass( trn_dataloader, model, loss_fn )\n",
        "    trn_losses.append( trn_loss )\n",
        "    val_loss = val_pass( val_dataloader, model, loss_fn )\n",
        "    val_losses.append( val_loss )"
      ]
    },
    {
      "cell_type": "code",
      "execution_count": null,
      "id": "e2790493",
      "metadata": {
        "id": "e2790493"
      },
      "outputs": [],
      "source": [
        "fig, axs = plt.subplots( 1, 1, figsize=(7,5) )\n",
        "\n",
        "axs.plot( trn_losses, label=\"train loss\", color=\"red\" )\n",
        "axs.plot( val_losses, label=\"val   loss\", color=\"green\" )\n",
        "\n",
        "axs.set_yscale('log')\n",
        "\n",
        "axs.set_xlabel( \"epoch\" )\n",
        "axs.set_ylabel( \"MSE\" )\n",
        "\n",
        "xticks = [ int(x) for x in axs.get_xticks() ]\n",
        "axs.set_xticklabels( xticks )\n",
        "\n",
        "yticks = axs.get_yticks()\n",
        "axs.set_yticklabels( yticks )\n",
        "\n",
        "axs.legend( loc='best' )\n",
        "\n",
        "fig.tight_layout()"
      ]
    },
    {
      "cell_type": "markdown",
      "id": "4340bc0b",
      "metadata": {
        "id": "4340bc0b"
      },
      "source": [
        "We see ..."
      ]
    },
    {
      "cell_type": "markdown",
      "id": "2b20f2e7",
      "metadata": {
        "id": "2b20f2e7"
      },
      "source": [
        "## (c)"
      ]
    },
    {
      "cell_type": "code",
      "execution_count": null,
      "id": "cbe75e7c",
      "metadata": {
        "id": "cbe75e7c"
      },
      "outputs": [],
      "source": [
        "n_jets = 4\n",
        "in_qcd_jets = z_test_p[ y_test==0.0 ][ 0:4 ]\n",
        "in_top_jets = z_test_p[ y_test==1.0 ][ 0:4 ]\n",
        "out_qcd_jets = model( in_qcd_jets ).detach().numpy()\n",
        "out_top_jets = model( in_top_jets ).detach().numpy()\n",
        "in_qcd_jets = in_qcd_jets.detach().numpy()\n",
        "in_top_jets = in_top_jets.detach().numpy()"
      ]
    },
    {
      "cell_type": "code",
      "execution_count": null,
      "id": "e97d23ba",
      "metadata": {
        "id": "e97d23ba"
      },
      "outputs": [],
      "source": [
        "fig, axs = plt.subplots(2, 4, figsize=(21,8))\n",
        "\n",
        "for i in range(4):\n",
        "    axs[0][i].imshow( in_qcd_jets[i].reshape(40,40), cmap='gist_heat_r',  vmin=0.0, vmax=0.4 )\n",
        "    axs[1][i].imshow( out_qcd_jets[i].reshape(40,40), cmap='gist_heat_r',  vmin=0.0, vmax=0.4 )\n",
        "    axs[0][i].set_xlabel( '$\\eta$' )\n",
        "    axs[0][i].set_ylabel( '$\\phi$' )\n",
        "    axs[1][i].set_xlabel( '$\\eta$' )\n",
        "    axs[1][i].set_ylabel( '$\\phi$' )\n",
        "    axs[0][i].text( 38, 4, \"input QCD\", ha='right' )\n",
        "    axs[0][i].tick_params()\n",
        "    axs[1][i].text( 38, 4, \"reconstructed QCD\", ha='right' )\n",
        "    axs[1][i].tick_params( )\n",
        "\n",
        "fig.tight_layout()\n",
        "fig.show()"
      ]
    },
    {
      "cell_type": "code",
      "execution_count": null,
      "id": "f96085ec",
      "metadata": {
        "id": "f96085ec"
      },
      "outputs": [],
      "source": [
        "fig, axs = plt.subplots(2, 4, figsize=(21,8))\n",
        "\n",
        "for i in range(4):\n",
        "    axs[0][i].imshow( in_top_jets[i].reshape(40,40), cmap='gist_heat_r', vmin=0.0, vmax=0.4 )\n",
        "    axs[1][i].imshow( out_top_jets[i].reshape(40,40), cmap='gist_heat_r',  vmin=0.0, vmax=0.4 )\n",
        "    axs[0][i].set_xlabel( '$\\eta$' )\n",
        "    axs[0][i].set_ylabel( '$\\phi$' )\n",
        "    axs[1][i].set_xlabel( '$\\eta$' )\n",
        "    axs[1][i].set_ylabel( '$\\phi$' )\n",
        "    axs[0][i].text( 38, 4, \"input top\", ha='right' )\n",
        "    axs[0][i].tick_params( )\n",
        "    axs[1][i].text( 38, 4, \"reconstructed top\", ha='right' )\n",
        "    axs[1][i].tick_params( )\n",
        "\n",
        "\n",
        "fig.tight_layout()\n",
        "fig.show()"
      ]
    },
    {
      "cell_type": "markdown",
      "id": "6f32ac5a",
      "metadata": {
        "id": "6f32ac5a"
      },
      "source": [
        "We see ..."
      ]
    },
    {
      "cell_type": "markdown",
      "id": "5e565076",
      "metadata": {
        "id": "5e565076"
      },
      "source": [
        "## (d)"
      ]
    },
    {
      "cell_type": "code",
      "execution_count": null,
      "id": "33c1d4ba",
      "metadata": {
        "id": "33c1d4ba"
      },
      "outputs": [],
      "source": [
        "test_pred = model( z_test_p ).detach()\n",
        "\n",
        "test_loss = nn.MSELoss( reduce=False )\n",
        "test_mse = test_loss( test_pred, z_test_p )"
      ]
    },
    {
      "cell_type": "code",
      "execution_count": null,
      "id": "5cde69dc",
      "metadata": {
        "id": "5cde69dc"
      },
      "outputs": [],
      "source": [
        "test_mse.shape"
      ]
    },
    {
      "cell_type": "code",
      "execution_count": null,
      "id": "96572e5a",
      "metadata": {
        "id": "96572e5a"
      },
      "outputs": [],
      "source": [
        "test_mse = torch.mean( test_mse, dim=-1)"
      ]
    },
    {
      "cell_type": "code",
      "execution_count": null,
      "id": "0fe65f8d",
      "metadata": {
        "id": "0fe65f8d"
      },
      "outputs": [],
      "source": [
        "n_jets = 4\n",
        "in_qcd_jets = z_test_p[ y_test==0.0 ][ 0:4 ]\n",
        "in_top_jets = z_test_p[ y_test==1.0 ][ 0:4 ]\n",
        "out_qcd_jets = model( in_qcd_jets )\n",
        "out_top_jets = model( in_top_jets )\n",
        "mse_qcd_jets = test_loss( in_qcd_jets, out_qcd_jets ).detach().numpy()\n",
        "mse_top_jets = test_loss( in_top_jets, out_top_jets ).detach().numpy()\n",
        "in_qcd_jets = in_qcd_jets.detach().numpy()\n",
        "in_top_jets = in_top_jets.detach().numpy()"
      ]
    },
    {
      "cell_type": "code",
      "execution_count": null,
      "id": "a0b8227b",
      "metadata": {
        "id": "a0b8227b"
      },
      "outputs": [],
      "source": [
        "fig, axs = plt.subplots(2, 4, figsize=(21,8))\n",
        "\n",
        "for i in range(4):\n",
        "    axs[0][i].imshow( mse_qcd_jets[i].reshape(40,40), cmap='gist_heat_r',  vmin=0.0, vmax=0.01 )\n",
        "    axs[1][i].imshow( mse_top_jets[i].reshape(40,40), cmap='gist_heat_r',  vmin=0.0, vmax=0.01 )\n",
        "    axs[0][i].set_xlabel( '$\\eta$' )\n",
        "    axs[0][i].set_ylabel( '$\\phi$')\n",
        "    axs[1][i].set_xlabel( '$\\eta$')\n",
        "    axs[1][i].set_ylabel( '$\\phi$' )\n",
        "    axs[0][i].text( 38, 4, \"MSE QCD\", ha='right' )\n",
        "    axs[0][i].tick_params( )\n",
        "    axs[1][i].text( 38, 4, \"MSE top\", ha='right' )\n",
        "    axs[1][i].tick_params( )\n",
        "\n",
        "fig.tight_layout()\n",
        "fig.show()"
      ]
    },
    {
      "cell_type": "code",
      "execution_count": null,
      "id": "538a8ea3",
      "metadata": {
        "id": "538a8ea3"
      },
      "outputs": [],
      "source": [
        "fig, ax = plt.subplots(1, 2, figsize=(14,5))\n",
        "\n",
        "fpr, tpr, th = roc_curve(y_test, test_mse)\n",
        "auc_score = roc_auc_score(y_test, test_mse)\n",
        "rnd_class = np.linspace(0, 1, 100)\n",
        "\n",
        "ax[0].plot(fpr, tpr, label='AUC = {:.2f}'.format(auc_score) )\n",
        "ax[0].plot(rnd_class, rnd_class, '--', label='Rnd classifier')\n",
        "ax[1].plot(tpr, 1/fpr, label='AUC = {:.2f}\\n $1/\\epsilon_{{bkg}}$(0.3) = {:.0f}'.format(auc_score, 1/fpr[closest_point(tpr, tpr_p=0.3)]))\n",
        "ax[1].plot(rnd_class, 1/rnd_class, '--', label='Rnd classifier')\n",
        "ax[1].set_yscale('log')\n",
        "\n",
        "ax[0].set_xlabel('$\\epsilon_{bkg}$ - FPR')\n",
        "ax[0].set_ylabel('$\\epsilon_{s}$ - TPR')\n",
        "\n",
        "ax[1].set_xlabel('$\\epsilon_{s}$ - TPR')\n",
        "ax[1].set_ylabel('1/$\\epsilon_{bkg}$ - Inverse FPR')\n",
        "for i in range(len(ax)):\n",
        "    ax[i].legend()\n",
        "    ax[i].tick_params()\n",
        "    ax[i].grid('on')"
      ]
    },
    {
      "cell_type": "markdown",
      "id": "e3f625a1",
      "metadata": {
        "id": "e3f625a1"
      },
      "source": [
        "We see ..."
      ]
    },
    {
      "cell_type": "markdown",
      "id": "1d5d87df",
      "metadata": {
        "id": "1d5d87df"
      },
      "source": [
        "## (e)\n",
        "\n",
        "### (a) + (b)"
      ]
    },
    {
      "cell_type": "code",
      "execution_count": null,
      "id": "539a6ef3",
      "metadata": {
        "id": "539a6ef3"
      },
      "outputs": [],
      "source": [
        "z_train = constit_to_img( X_train, 50, True, True, True )\n",
        "z_train_top = constit_to_img( X_train_top, 50, True, True, True )\n",
        "z_val = constit_to_img( X_val, 50, True, True, True )\n",
        "z_val_top = constit_to_img( X_val_top, 50, True, True, True )\n",
        "z_test = constit_to_img( X_test, 50, True, True, True )"
      ]
    },
    {
      "cell_type": "code",
      "execution_count": null,
      "id": "88b9fc34",
      "metadata": {
        "id": "88b9fc34"
      },
      "outputs": [],
      "source": [
        "print( \"Train data shape: \" + str(z_train.shape) )\n",
        "print( \"Train data (top-only) shape: \" + str(z_train_top.shape) )\n",
        "print( \"Val data shape: \" + str(z_val.shape) )\n",
        "print( \"Val data (top-only) shape: \" + str(z_val_top.shape) )\n",
        "print( \"Test data shape: \" + str(z_test.shape) )"
      ]
    },
    {
      "cell_type": "code",
      "execution_count": null,
      "id": "5335dc36",
      "metadata": {
        "id": "5335dc36"
      },
      "outputs": [],
      "source": [
        "z_train_p = torch.Tensor( z_train.reshape(-1, 1, 40,40) )\n",
        "z_train_top_p = torch.Tensor( z_train_top.reshape(-1, 1, 40,40) )\n",
        "z_val_p = torch.Tensor( z_val.reshape(-1, 1, 40,40) )\n",
        "z_val_top_p = torch.Tensor( z_val_top.reshape(-1, 1, 40,40) )\n",
        "z_test_p = torch.Tensor( z_test.reshape(-1, 1, 40,40) )\n",
        "y_train_p = torch.Tensor( y_train ).unsqueeze(-1)\n",
        "y_val_p = torch.Tensor( y_val ).unsqueeze(-1)\n",
        "y_test_p = torch.Tensor( y_test ).unsqueeze(-1)"
      ]
    },
    {
      "cell_type": "code",
      "execution_count": null,
      "id": "f7211b33",
      "metadata": {
        "id": "f7211b33"
      },
      "outputs": [],
      "source": [
        "trn_dataset = topcloud_bkg_dataset( z_train_top_p )\n",
        "val_dataset = topcloud_bkg_dataset( z_val_top_p )\n",
        "tst_dataset = topcloud_sig_dataset( z_test_p, y_test_p.unsqueeze(-1) )"
      ]
    },
    {
      "cell_type": "code",
      "execution_count": null,
      "id": "716c6d08",
      "metadata": {
        "id": "716c6d08"
      },
      "outputs": [],
      "source": [
        "trn_dataloader = DataLoader( trn_dataset, batch_size=64, shuffle=True )\n",
        "val_dataloader = DataLoader( val_dataset, batch_size=64, shuffle=False )\n",
        "tst_dataloader = DataLoader( tst_dataset, batch_size=64, shuffle=False )"
      ]
    },
    {
      "cell_type": "code",
      "execution_count": null,
      "id": "d8f73fd9",
      "metadata": {
        "id": "d8f73fd9"
      },
      "outputs": [],
      "source": [
        "loss_fn = nn.MSELoss()\n",
        "epochs = 10\n",
        "\n",
        "# initialise the model and the optimizer\n",
        "model = JetCNN()\n",
        "learning_rate = 0.001\n",
        "optimizer = torch.optim.Adam( model.parameters(), lr=learning_rate )\n",
        "separator()\n",
        "print( \"model architecture \")\n",
        "separator()\n",
        "print( model )\n",
        "\n",
        "# track train and val losses\n",
        "trn_losses = []\n",
        "val_losses = []\n",
        "\n",
        "for t in tqdm(range(epochs)):\n",
        "    train_epoch( trn_dataloader, model, loss_fn, optimizer )\n",
        "    trn_loss = trn_pass( trn_dataloader, model, loss_fn )\n",
        "    trn_losses.append( trn_loss )\n",
        "    val_loss = val_pass( val_dataloader, model, loss_fn )\n",
        "    val_losses.append( val_loss )"
      ]
    },
    {
      "cell_type": "code",
      "execution_count": null,
      "id": "e90fd676",
      "metadata": {
        "id": "e90fd676"
      },
      "outputs": [],
      "source": [
        "fig, axs = plt.subplots( 1, 1, figsize=(7,5) )\n",
        "\n",
        "axs.plot( trn_losses, label=\"train loss\", color=\"red\" )\n",
        "axs.plot( val_losses, label=\"val   loss\", color=\"green\" )\n",
        "\n",
        "axs.set_yscale('log')\n",
        "\n",
        "axs.set_xlabel( \"epoch\" )\n",
        "axs.set_ylabel( \"MSE\" )\n",
        "\n",
        "xticks = [ int(x) for x in axs.get_xticks() ]\n",
        "axs.set_xticklabels( xticks )\n",
        "\n",
        "yticks = axs.get_yticks()\n",
        "axs.set_yticklabels( yticks )\n",
        "\n",
        "axs.legend( loc='best' )\n",
        "\n",
        "fig.tight_layout()"
      ]
    },
    {
      "cell_type": "markdown",
      "id": "741ff49f",
      "metadata": {
        "id": "741ff49f"
      },
      "source": [
        "We see ..."
      ]
    },
    {
      "cell_type": "markdown",
      "id": "77c234a0",
      "metadata": {
        "id": "77c234a0"
      },
      "source": [
        "### (c)"
      ]
    },
    {
      "cell_type": "code",
      "execution_count": null,
      "id": "29e7c864",
      "metadata": {
        "id": "29e7c864"
      },
      "outputs": [],
      "source": [
        "n_jets = 4\n",
        "in_qcd_jets = z_test_p[ y_test==0.0 ][ 0:4 ]\n",
        "in_top_jets = z_test_p[ y_test==1.0 ][ 0:4 ]\n",
        "out_qcd_jets = model( in_qcd_jets ).detach().view(-1,40,40).numpy()\n",
        "out_top_jets = model( in_top_jets ).detach().view(-1,40,40).numpy()\n",
        "in_qcd_jets = in_qcd_jets.detach().view(-1,40,40).numpy()\n",
        "in_top_jets = in_top_jets.detach().view(-1,40,40).numpy()"
      ]
    },
    {
      "cell_type": "code",
      "execution_count": null,
      "id": "4b0850d4",
      "metadata": {
        "id": "4b0850d4"
      },
      "outputs": [],
      "source": [
        "fig, axs = plt.subplots(2, 4, figsize=(21,8))\n",
        "\n",
        "for i in range(4):\n",
        "    axs[0][i].imshow( in_qcd_jets[i], cmap='gist_heat_r',  vmin=0.0, vmax=0.4 )\n",
        "    axs[1][i].imshow( out_qcd_jets[i], cmap='gist_heat_r',  vmin=0.0, vmax=0.4 )\n",
        "    axs[0][i].set_xlabel( '$\\eta$' )\n",
        "    axs[0][i].set_ylabel( '$\\phi$' )\n",
        "    axs[1][i].set_xlabel( '$\\eta$' )\n",
        "    axs[1][i].set_ylabel( '$\\phi$' )\n",
        "    axs[0][i].text( 38, 4, \"input QCD\", ha='right' )\n",
        "    axs[0][i].tick_params( )\n",
        "    axs[1][i].text( 38, 4, \"reconstructed QCD\", ha='right' )\n",
        "    axs[1][i].tick_params( )\n",
        "\n",
        "fig.tight_layout()\n",
        "fig.show()"
      ]
    },
    {
      "cell_type": "code",
      "execution_count": null,
      "id": "87e0567d",
      "metadata": {
        "id": "87e0567d"
      },
      "outputs": [],
      "source": [
        "fig, axs = plt.subplots(2, 4, figsize=(21,8))\n",
        "\n",
        "for i in range(4):\n",
        "    axs[0][i].imshow( in_top_jets[i], cmap='gist_heat_r', vmin=0.0, vmax=0.4 )\n",
        "    axs[1][i].imshow( out_top_jets[i], cmap='gist_heat_r',  vmin=0.0, vmax=0.4 )\n",
        "    axs[0][i].set_xlabel( '$\\eta$' )\n",
        "    axs[0][i].set_ylabel( '$\\phi$' )\n",
        "    axs[1][i].set_xlabel( '$\\eta$' )\n",
        "    axs[1][i].set_ylabel( '$\\phi$' )\n",
        "    axs[0][i].text( 38, 4, \"input top\", ha='right' )\n",
        "    axs[0][i].tick_params( )\n",
        "    axs[1][i].text( 38, 4, \"reconstructed top\", ha='right' )\n",
        "    axs[1][i].tick_params( )\n",
        "\n",
        "\n",
        "fig.tight_layout()\n",
        "fig.show()"
      ]
    },
    {
      "cell_type": "markdown",
      "id": "94fa62f2",
      "metadata": {
        "id": "94fa62f2"
      },
      "source": [
        "We see ..."
      ]
    },
    {
      "cell_type": "markdown",
      "id": "9d2a9e1d",
      "metadata": {
        "id": "9d2a9e1d"
      },
      "source": [
        "### (d)"
      ]
    },
    {
      "cell_type": "code",
      "execution_count": null,
      "id": "851ceaa0",
      "metadata": {
        "id": "851ceaa0"
      },
      "outputs": [],
      "source": [
        "test_pred = model( z_test_p ).detach().view(-1,40,40)\n",
        "\n",
        "test_loss = nn.MSELoss( reduce=False )\n",
        "test_mse = test_loss( test_pred, z_test_p )"
      ]
    },
    {
      "cell_type": "code",
      "execution_count": null,
      "id": "ac1fb113",
      "metadata": {
        "id": "ac1fb113"
      },
      "outputs": [],
      "source": [
        "test_mse.shape"
      ]
    },
    {
      "cell_type": "code",
      "execution_count": null,
      "id": "a29313af",
      "metadata": {
        "id": "a29313af"
      },
      "outputs": [],
      "source": [
        "test_mse = torch.mean( test_mse, dim=-1)"
      ]
    },
    {
      "cell_type": "code",
      "execution_count": null,
      "id": "2a80c54a",
      "metadata": {
        "id": "2a80c54a"
      },
      "outputs": [],
      "source": [
        "n_jets = 4\n",
        "in_qcd_jets = z_test_p[ y_test==0.0 ][ 0:4 ]\n",
        "in_top_jets = z_test_p[ y_test==1.0 ][ 0:4 ]\n",
        "out_qcd_jets = model( in_qcd_jets )\n",
        "out_top_jets = model( in_top_jets )\n",
        "mse_qcd_jets = test_loss( in_qcd_jets, out_qcd_jets ).detach().view(-1,40,40).numpy()\n",
        "mse_top_jets = test_loss( in_top_jets, out_top_jets ).detach().view(-1,40,40).numpy()\n",
        "in_qcd_jets = in_qcd_jets.detach().view(-1,40,40).numpy()\n",
        "in_top_jets = in_top_jets.detach().view(-1,40,40).numpy()"
      ]
    },
    {
      "cell_type": "code",
      "execution_count": null,
      "id": "b1963c52",
      "metadata": {
        "id": "b1963c52"
      },
      "outputs": [],
      "source": [
        "fig, axs = plt.subplots(2, 4, figsize=(21,8))\n",
        "\n",
        "for i in range(4):\n",
        "    axs[0][i].imshow( mse_qcd_jets[i], cmap='gist_heat_r',  vmin=0.0, vmax=0.01 )\n",
        "    axs[1][i].imshow( mse_top_jets[i], cmap='gist_heat_r',  vmin=0.0, vmax=0.01 )\n",
        "    axs[0][i].set_xlabel( '$\\eta$' )\n",
        "    axs[0][i].set_ylabel( '$\\phi$' )\n",
        "    axs[1][i].set_xlabel( '$\\eta$' )\n",
        "    axs[1][i].set_ylabel( '$\\phi$' )\n",
        "    axs[0][i].text( 38, 4, \"MSE QCD\", ha='right' )\n",
        "    axs[0][i].tick_params()\n",
        "    axs[1][i].text( 38, 4, \"MSE top\", ha='right' )\n",
        "    axs[1][i].tick_params( )\n",
        "\n",
        "fig.tight_layout()\n",
        "fig.show()"
      ]
    },
    {
      "cell_type": "markdown",
      "id": "6cf55746",
      "metadata": {
        "id": "6cf55746"
      },
      "source": [
        "We see ..."
      ]
    },
    {
      "cell_type": "code",
      "execution_count": null,
      "id": "f3a63975",
      "metadata": {
        "id": "f3a63975"
      },
      "outputs": [],
      "source": [
        "fig, ax = plt.subplots(1, 2, figsize=(14,5))\n",
        "\n",
        "fpr, tpr, th = roc_curve(y_test, test_mse)\n",
        "auc_score = roc_auc_score(y_test, test_mse)\n",
        "rnd_class = np.linspace(0, 1, 100)\n",
        "\n",
        "ax[0].plot(fpr, tpr, label='AUC = {:.2f}'.format(auc_score) )\n",
        "ax[0].plot(rnd_class, rnd_class, '--', label='Rnd classifier')\n",
        "ax[1].plot(tpr, 1/fpr, label='AUC = {:.2f}\\n $1/\\epsilon_{{bkg}}$(0.3) = {:.0f}'.format(auc_score, 1/fpr[closest_point(tpr, tpr_p=0.3)]))\n",
        "ax[1].plot(rnd_class, 1/rnd_class, '--', label='Rnd classifier')\n",
        "ax[1].set_yscale('log')\n",
        "\n",
        "ax[0].set_xlabel('$\\epsilon_{bkg}$ - FPR')\n",
        "ax[0].set_ylabel('$\\epsilon_{s}$ - TPR')\n",
        "\n",
        "ax[1].set_xlabel('$\\epsilon_{s}$ - TPR')\n",
        "ax[1].set_ylabel('1/$\\epsilon_{bkg}$ - Inverse FPR')\n",
        "for i in range(len(ax)):\n",
        "    ax[i].legend()\n",
        "    ax[i].tick_params()\n",
        "    ax[i].grid('on')"
      ]
    },
    {
      "cell_type": "markdown",
      "id": "6b10617e",
      "metadata": {
        "id": "6b10617e"
      },
      "source": [
        "We see ..."
      ]
    },
    {
      "cell_type": "markdown",
      "id": "99275ede",
      "metadata": {
        "id": "99275ede"
      },
      "source": [
        "We conclude ..."
      ]
    }
  ],
  "metadata": {
    "kernelspec": {
      "display_name": "Python 3 (ipykernel)",
      "language": "python",
      "name": "python3"
    },
    "language_info": {
      "codemirror_mode": {
        "name": "ipython",
        "version": 3
      },
      "file_extension": ".py",
      "mimetype": "text/x-python",
      "name": "python",
      "nbconvert_exporter": "python",
      "pygments_lexer": "ipython3",
      "version": "3.9.13"
    },
    "colab": {
      "provenance": [],
      "include_colab_link": true
    },
    "widgets": {
      "application/vnd.jupyter.widget-state+json": {
        "eb5903aef93b4d23902c71730da9584d": {
          "model_module": "@jupyter-widgets/controls",
          "model_name": "HBoxModel",
          "model_module_version": "1.5.0",
          "state": {
            "_dom_classes": [],
            "_model_module": "@jupyter-widgets/controls",
            "_model_module_version": "1.5.0",
            "_model_name": "HBoxModel",
            "_view_count": null,
            "_view_module": "@jupyter-widgets/controls",
            "_view_module_version": "1.5.0",
            "_view_name": "HBoxView",
            "box_style": "",
            "children": [
              "IPY_MODEL_7fc4d210920f4859a62239783c8014c2",
              "IPY_MODEL_a7aeed26c5d842d29a99ae8a14e4f1e4",
              "IPY_MODEL_00d09a6c0b814ed0af6aa67f61e495d0"
            ],
            "layout": "IPY_MODEL_c8b27d2bffcf45af967b0f4b577c1dbc"
          }
        },
        "7fc4d210920f4859a62239783c8014c2": {
          "model_module": "@jupyter-widgets/controls",
          "model_name": "HTMLModel",
          "model_module_version": "1.5.0",
          "state": {
            "_dom_classes": [],
            "_model_module": "@jupyter-widgets/controls",
            "_model_module_version": "1.5.0",
            "_model_name": "HTMLModel",
            "_view_count": null,
            "_view_module": "@jupyter-widgets/controls",
            "_view_module_version": "1.5.0",
            "_view_name": "HTMLView",
            "description": "",
            "description_tooltip": null,
            "layout": "IPY_MODEL_afa07f23bb814668aafd0f5b261496a9",
            "placeholder": "​",
            "style": "IPY_MODEL_a191ecc3300145da81d59a33aecbcefd",
            "value": "100%"
          }
        },
        "a7aeed26c5d842d29a99ae8a14e4f1e4": {
          "model_module": "@jupyter-widgets/controls",
          "model_name": "FloatProgressModel",
          "model_module_version": "1.5.0",
          "state": {
            "_dom_classes": [],
            "_model_module": "@jupyter-widgets/controls",
            "_model_module_version": "1.5.0",
            "_model_name": "FloatProgressModel",
            "_view_count": null,
            "_view_module": "@jupyter-widgets/controls",
            "_view_module_version": "1.5.0",
            "_view_name": "ProgressView",
            "bar_style": "success",
            "description": "",
            "description_tooltip": null,
            "layout": "IPY_MODEL_bd11b1c4036e42a48eeaeed73a4ca690",
            "max": 100,
            "min": 0,
            "orientation": "horizontal",
            "style": "IPY_MODEL_9a5e62cbdf1e456991ca2882b08d16b1",
            "value": 100
          }
        },
        "00d09a6c0b814ed0af6aa67f61e495d0": {
          "model_module": "@jupyter-widgets/controls",
          "model_name": "HTMLModel",
          "model_module_version": "1.5.0",
          "state": {
            "_dom_classes": [],
            "_model_module": "@jupyter-widgets/controls",
            "_model_module_version": "1.5.0",
            "_model_name": "HTMLModel",
            "_view_count": null,
            "_view_module": "@jupyter-widgets/controls",
            "_view_module_version": "1.5.0",
            "_view_name": "HTMLView",
            "description": "",
            "description_tooltip": null,
            "layout": "IPY_MODEL_1101f8e51730456ebe5ebfd0352775f6",
            "placeholder": "​",
            "style": "IPY_MODEL_029fdd13e1524ff79986b5aa56f683b7",
            "value": " 100/100 [23:51&lt;00:00, 13.29s/it]"
          }
        },
        "c8b27d2bffcf45af967b0f4b577c1dbc": {
          "model_module": "@jupyter-widgets/base",
          "model_name": "LayoutModel",
          "model_module_version": "1.2.0",
          "state": {
            "_model_module": "@jupyter-widgets/base",
            "_model_module_version": "1.2.0",
            "_model_name": "LayoutModel",
            "_view_count": null,
            "_view_module": "@jupyter-widgets/base",
            "_view_module_version": "1.2.0",
            "_view_name": "LayoutView",
            "align_content": null,
            "align_items": null,
            "align_self": null,
            "border": null,
            "bottom": null,
            "display": null,
            "flex": null,
            "flex_flow": null,
            "grid_area": null,
            "grid_auto_columns": null,
            "grid_auto_flow": null,
            "grid_auto_rows": null,
            "grid_column": null,
            "grid_gap": null,
            "grid_row": null,
            "grid_template_areas": null,
            "grid_template_columns": null,
            "grid_template_rows": null,
            "height": null,
            "justify_content": null,
            "justify_items": null,
            "left": null,
            "margin": null,
            "max_height": null,
            "max_width": null,
            "min_height": null,
            "min_width": null,
            "object_fit": null,
            "object_position": null,
            "order": null,
            "overflow": null,
            "overflow_x": null,
            "overflow_y": null,
            "padding": null,
            "right": null,
            "top": null,
            "visibility": null,
            "width": null
          }
        },
        "afa07f23bb814668aafd0f5b261496a9": {
          "model_module": "@jupyter-widgets/base",
          "model_name": "LayoutModel",
          "model_module_version": "1.2.0",
          "state": {
            "_model_module": "@jupyter-widgets/base",
            "_model_module_version": "1.2.0",
            "_model_name": "LayoutModel",
            "_view_count": null,
            "_view_module": "@jupyter-widgets/base",
            "_view_module_version": "1.2.0",
            "_view_name": "LayoutView",
            "align_content": null,
            "align_items": null,
            "align_self": null,
            "border": null,
            "bottom": null,
            "display": null,
            "flex": null,
            "flex_flow": null,
            "grid_area": null,
            "grid_auto_columns": null,
            "grid_auto_flow": null,
            "grid_auto_rows": null,
            "grid_column": null,
            "grid_gap": null,
            "grid_row": null,
            "grid_template_areas": null,
            "grid_template_columns": null,
            "grid_template_rows": null,
            "height": null,
            "justify_content": null,
            "justify_items": null,
            "left": null,
            "margin": null,
            "max_height": null,
            "max_width": null,
            "min_height": null,
            "min_width": null,
            "object_fit": null,
            "object_position": null,
            "order": null,
            "overflow": null,
            "overflow_x": null,
            "overflow_y": null,
            "padding": null,
            "right": null,
            "top": null,
            "visibility": null,
            "width": null
          }
        },
        "a191ecc3300145da81d59a33aecbcefd": {
          "model_module": "@jupyter-widgets/controls",
          "model_name": "DescriptionStyleModel",
          "model_module_version": "1.5.0",
          "state": {
            "_model_module": "@jupyter-widgets/controls",
            "_model_module_version": "1.5.0",
            "_model_name": "DescriptionStyleModel",
            "_view_count": null,
            "_view_module": "@jupyter-widgets/base",
            "_view_module_version": "1.2.0",
            "_view_name": "StyleView",
            "description_width": ""
          }
        },
        "bd11b1c4036e42a48eeaeed73a4ca690": {
          "model_module": "@jupyter-widgets/base",
          "model_name": "LayoutModel",
          "model_module_version": "1.2.0",
          "state": {
            "_model_module": "@jupyter-widgets/base",
            "_model_module_version": "1.2.0",
            "_model_name": "LayoutModel",
            "_view_count": null,
            "_view_module": "@jupyter-widgets/base",
            "_view_module_version": "1.2.0",
            "_view_name": "LayoutView",
            "align_content": null,
            "align_items": null,
            "align_self": null,
            "border": null,
            "bottom": null,
            "display": null,
            "flex": null,
            "flex_flow": null,
            "grid_area": null,
            "grid_auto_columns": null,
            "grid_auto_flow": null,
            "grid_auto_rows": null,
            "grid_column": null,
            "grid_gap": null,
            "grid_row": null,
            "grid_template_areas": null,
            "grid_template_columns": null,
            "grid_template_rows": null,
            "height": null,
            "justify_content": null,
            "justify_items": null,
            "left": null,
            "margin": null,
            "max_height": null,
            "max_width": null,
            "min_height": null,
            "min_width": null,
            "object_fit": null,
            "object_position": null,
            "order": null,
            "overflow": null,
            "overflow_x": null,
            "overflow_y": null,
            "padding": null,
            "right": null,
            "top": null,
            "visibility": null,
            "width": null
          }
        },
        "9a5e62cbdf1e456991ca2882b08d16b1": {
          "model_module": "@jupyter-widgets/controls",
          "model_name": "ProgressStyleModel",
          "model_module_version": "1.5.0",
          "state": {
            "_model_module": "@jupyter-widgets/controls",
            "_model_module_version": "1.5.0",
            "_model_name": "ProgressStyleModel",
            "_view_count": null,
            "_view_module": "@jupyter-widgets/base",
            "_view_module_version": "1.2.0",
            "_view_name": "StyleView",
            "bar_color": null,
            "description_width": ""
          }
        },
        "1101f8e51730456ebe5ebfd0352775f6": {
          "model_module": "@jupyter-widgets/base",
          "model_name": "LayoutModel",
          "model_module_version": "1.2.0",
          "state": {
            "_model_module": "@jupyter-widgets/base",
            "_model_module_version": "1.2.0",
            "_model_name": "LayoutModel",
            "_view_count": null,
            "_view_module": "@jupyter-widgets/base",
            "_view_module_version": "1.2.0",
            "_view_name": "LayoutView",
            "align_content": null,
            "align_items": null,
            "align_self": null,
            "border": null,
            "bottom": null,
            "display": null,
            "flex": null,
            "flex_flow": null,
            "grid_area": null,
            "grid_auto_columns": null,
            "grid_auto_flow": null,
            "grid_auto_rows": null,
            "grid_column": null,
            "grid_gap": null,
            "grid_row": null,
            "grid_template_areas": null,
            "grid_template_columns": null,
            "grid_template_rows": null,
            "height": null,
            "justify_content": null,
            "justify_items": null,
            "left": null,
            "margin": null,
            "max_height": null,
            "max_width": null,
            "min_height": null,
            "min_width": null,
            "object_fit": null,
            "object_position": null,
            "order": null,
            "overflow": null,
            "overflow_x": null,
            "overflow_y": null,
            "padding": null,
            "right": null,
            "top": null,
            "visibility": null,
            "width": null
          }
        },
        "029fdd13e1524ff79986b5aa56f683b7": {
          "model_module": "@jupyter-widgets/controls",
          "model_name": "DescriptionStyleModel",
          "model_module_version": "1.5.0",
          "state": {
            "_model_module": "@jupyter-widgets/controls",
            "_model_module_version": "1.5.0",
            "_model_name": "DescriptionStyleModel",
            "_view_count": null,
            "_view_module": "@jupyter-widgets/base",
            "_view_module_version": "1.2.0",
            "_view_name": "StyleView",
            "description_width": ""
          }
        },
        "c6b8d8f995004b2182ff7e27f0724f95": {
          "model_module": "@jupyter-widgets/controls",
          "model_name": "HBoxModel",
          "model_module_version": "1.5.0",
          "state": {
            "_dom_classes": [],
            "_model_module": "@jupyter-widgets/controls",
            "_model_module_version": "1.5.0",
            "_model_name": "HBoxModel",
            "_view_count": null,
            "_view_module": "@jupyter-widgets/controls",
            "_view_module_version": "1.5.0",
            "_view_name": "HBoxView",
            "box_style": "",
            "children": [
              "IPY_MODEL_d3737da9c4b14a0d8cf4e27a2bc28c31",
              "IPY_MODEL_2bb145a858c044eab7d0a197ad886f8e",
              "IPY_MODEL_7eca837bc8454fe69ad8517dddd193c4"
            ],
            "layout": "IPY_MODEL_35785eace4644fbeb47eabe90fa137d2"
          }
        },
        "d3737da9c4b14a0d8cf4e27a2bc28c31": {
          "model_module": "@jupyter-widgets/controls",
          "model_name": "HTMLModel",
          "model_module_version": "1.5.0",
          "state": {
            "_dom_classes": [],
            "_model_module": "@jupyter-widgets/controls",
            "_model_module_version": "1.5.0",
            "_model_name": "HTMLModel",
            "_view_count": null,
            "_view_module": "@jupyter-widgets/controls",
            "_view_module_version": "1.5.0",
            "_view_name": "HTMLView",
            "description": "",
            "description_tooltip": null,
            "layout": "IPY_MODEL_f137fff9a44b40e785b243d7e63f81fc",
            "placeholder": "​",
            "style": "IPY_MODEL_33d2c968446944e58015e09378d9900c",
            "value": "100%"
          }
        },
        "2bb145a858c044eab7d0a197ad886f8e": {
          "model_module": "@jupyter-widgets/controls",
          "model_name": "FloatProgressModel",
          "model_module_version": "1.5.0",
          "state": {
            "_dom_classes": [],
            "_model_module": "@jupyter-widgets/controls",
            "_model_module_version": "1.5.0",
            "_model_name": "FloatProgressModel",
            "_view_count": null,
            "_view_module": "@jupyter-widgets/controls",
            "_view_module_version": "1.5.0",
            "_view_name": "ProgressView",
            "bar_style": "success",
            "description": "",
            "description_tooltip": null,
            "layout": "IPY_MODEL_bbd6d035495849a1ac358f11a9a8c790",
            "max": 10,
            "min": 0,
            "orientation": "horizontal",
            "style": "IPY_MODEL_9475b9f4d6a5493aa0e44a1e05e19468",
            "value": 10
          }
        },
        "7eca837bc8454fe69ad8517dddd193c4": {
          "model_module": "@jupyter-widgets/controls",
          "model_name": "HTMLModel",
          "model_module_version": "1.5.0",
          "state": {
            "_dom_classes": [],
            "_model_module": "@jupyter-widgets/controls",
            "_model_module_version": "1.5.0",
            "_model_name": "HTMLModel",
            "_view_count": null,
            "_view_module": "@jupyter-widgets/controls",
            "_view_module_version": "1.5.0",
            "_view_name": "HTMLView",
            "description": "",
            "description_tooltip": null,
            "layout": "IPY_MODEL_c0696c82835e41c1bde2c3f03566feb2",
            "placeholder": "​",
            "style": "IPY_MODEL_55c45d3c5ff242fa97166232f5b28d05",
            "value": " 10/10 [09:08&lt;00:00, 54.51s/it]"
          }
        },
        "35785eace4644fbeb47eabe90fa137d2": {
          "model_module": "@jupyter-widgets/base",
          "model_name": "LayoutModel",
          "model_module_version": "1.2.0",
          "state": {
            "_model_module": "@jupyter-widgets/base",
            "_model_module_version": "1.2.0",
            "_model_name": "LayoutModel",
            "_view_count": null,
            "_view_module": "@jupyter-widgets/base",
            "_view_module_version": "1.2.0",
            "_view_name": "LayoutView",
            "align_content": null,
            "align_items": null,
            "align_self": null,
            "border": null,
            "bottom": null,
            "display": null,
            "flex": null,
            "flex_flow": null,
            "grid_area": null,
            "grid_auto_columns": null,
            "grid_auto_flow": null,
            "grid_auto_rows": null,
            "grid_column": null,
            "grid_gap": null,
            "grid_row": null,
            "grid_template_areas": null,
            "grid_template_columns": null,
            "grid_template_rows": null,
            "height": null,
            "justify_content": null,
            "justify_items": null,
            "left": null,
            "margin": null,
            "max_height": null,
            "max_width": null,
            "min_height": null,
            "min_width": null,
            "object_fit": null,
            "object_position": null,
            "order": null,
            "overflow": null,
            "overflow_x": null,
            "overflow_y": null,
            "padding": null,
            "right": null,
            "top": null,
            "visibility": null,
            "width": null
          }
        },
        "f137fff9a44b40e785b243d7e63f81fc": {
          "model_module": "@jupyter-widgets/base",
          "model_name": "LayoutModel",
          "model_module_version": "1.2.0",
          "state": {
            "_model_module": "@jupyter-widgets/base",
            "_model_module_version": "1.2.0",
            "_model_name": "LayoutModel",
            "_view_count": null,
            "_view_module": "@jupyter-widgets/base",
            "_view_module_version": "1.2.0",
            "_view_name": "LayoutView",
            "align_content": null,
            "align_items": null,
            "align_self": null,
            "border": null,
            "bottom": null,
            "display": null,
            "flex": null,
            "flex_flow": null,
            "grid_area": null,
            "grid_auto_columns": null,
            "grid_auto_flow": null,
            "grid_auto_rows": null,
            "grid_column": null,
            "grid_gap": null,
            "grid_row": null,
            "grid_template_areas": null,
            "grid_template_columns": null,
            "grid_template_rows": null,
            "height": null,
            "justify_content": null,
            "justify_items": null,
            "left": null,
            "margin": null,
            "max_height": null,
            "max_width": null,
            "min_height": null,
            "min_width": null,
            "object_fit": null,
            "object_position": null,
            "order": null,
            "overflow": null,
            "overflow_x": null,
            "overflow_y": null,
            "padding": null,
            "right": null,
            "top": null,
            "visibility": null,
            "width": null
          }
        },
        "33d2c968446944e58015e09378d9900c": {
          "model_module": "@jupyter-widgets/controls",
          "model_name": "DescriptionStyleModel",
          "model_module_version": "1.5.0",
          "state": {
            "_model_module": "@jupyter-widgets/controls",
            "_model_module_version": "1.5.0",
            "_model_name": "DescriptionStyleModel",
            "_view_count": null,
            "_view_module": "@jupyter-widgets/base",
            "_view_module_version": "1.2.0",
            "_view_name": "StyleView",
            "description_width": ""
          }
        },
        "bbd6d035495849a1ac358f11a9a8c790": {
          "model_module": "@jupyter-widgets/base",
          "model_name": "LayoutModel",
          "model_module_version": "1.2.0",
          "state": {
            "_model_module": "@jupyter-widgets/base",
            "_model_module_version": "1.2.0",
            "_model_name": "LayoutModel",
            "_view_count": null,
            "_view_module": "@jupyter-widgets/base",
            "_view_module_version": "1.2.0",
            "_view_name": "LayoutView",
            "align_content": null,
            "align_items": null,
            "align_self": null,
            "border": null,
            "bottom": null,
            "display": null,
            "flex": null,
            "flex_flow": null,
            "grid_area": null,
            "grid_auto_columns": null,
            "grid_auto_flow": null,
            "grid_auto_rows": null,
            "grid_column": null,
            "grid_gap": null,
            "grid_row": null,
            "grid_template_areas": null,
            "grid_template_columns": null,
            "grid_template_rows": null,
            "height": null,
            "justify_content": null,
            "justify_items": null,
            "left": null,
            "margin": null,
            "max_height": null,
            "max_width": null,
            "min_height": null,
            "min_width": null,
            "object_fit": null,
            "object_position": null,
            "order": null,
            "overflow": null,
            "overflow_x": null,
            "overflow_y": null,
            "padding": null,
            "right": null,
            "top": null,
            "visibility": null,
            "width": null
          }
        },
        "9475b9f4d6a5493aa0e44a1e05e19468": {
          "model_module": "@jupyter-widgets/controls",
          "model_name": "ProgressStyleModel",
          "model_module_version": "1.5.0",
          "state": {
            "_model_module": "@jupyter-widgets/controls",
            "_model_module_version": "1.5.0",
            "_model_name": "ProgressStyleModel",
            "_view_count": null,
            "_view_module": "@jupyter-widgets/base",
            "_view_module_version": "1.2.0",
            "_view_name": "StyleView",
            "bar_color": null,
            "description_width": ""
          }
        },
        "c0696c82835e41c1bde2c3f03566feb2": {
          "model_module": "@jupyter-widgets/base",
          "model_name": "LayoutModel",
          "model_module_version": "1.2.0",
          "state": {
            "_model_module": "@jupyter-widgets/base",
            "_model_module_version": "1.2.0",
            "_model_name": "LayoutModel",
            "_view_count": null,
            "_view_module": "@jupyter-widgets/base",
            "_view_module_version": "1.2.0",
            "_view_name": "LayoutView",
            "align_content": null,
            "align_items": null,
            "align_self": null,
            "border": null,
            "bottom": null,
            "display": null,
            "flex": null,
            "flex_flow": null,
            "grid_area": null,
            "grid_auto_columns": null,
            "grid_auto_flow": null,
            "grid_auto_rows": null,
            "grid_column": null,
            "grid_gap": null,
            "grid_row": null,
            "grid_template_areas": null,
            "grid_template_columns": null,
            "grid_template_rows": null,
            "height": null,
            "justify_content": null,
            "justify_items": null,
            "left": null,
            "margin": null,
            "max_height": null,
            "max_width": null,
            "min_height": null,
            "min_width": null,
            "object_fit": null,
            "object_position": null,
            "order": null,
            "overflow": null,
            "overflow_x": null,
            "overflow_y": null,
            "padding": null,
            "right": null,
            "top": null,
            "visibility": null,
            "width": null
          }
        },
        "55c45d3c5ff242fa97166232f5b28d05": {
          "model_module": "@jupyter-widgets/controls",
          "model_name": "DescriptionStyleModel",
          "model_module_version": "1.5.0",
          "state": {
            "_model_module": "@jupyter-widgets/controls",
            "_model_module_version": "1.5.0",
            "_model_name": "DescriptionStyleModel",
            "_view_count": null,
            "_view_module": "@jupyter-widgets/base",
            "_view_module_version": "1.2.0",
            "_view_name": "StyleView",
            "description_width": ""
          }
        }
      }
    }
  },
  "nbformat": 4,
  "nbformat_minor": 5
}